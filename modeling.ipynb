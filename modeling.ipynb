{
 "cells": [
  {
   "cell_type": "code",
   "execution_count": 1,
   "metadata": {},
   "outputs": [
    {
     "name": "stdout",
     "output_type": "stream",
     "text": [
      "torch.Size([3, 1, 1024, 768])\n"
     ]
    }
   ],
   "source": [
    "import torch\n",
    "import numpy as np\n",
    "# from mlp-mixer import MLPMixer\n",
    "\n",
    "audio_output = torch.ones([3, 1024]) # Batch, Seq\n",
    "text_output = torch.ones([3, 768]) # Batch, Seq\n",
    "\n",
    "# a.unsqueeze_(2)\n",
    "\n",
    "# Performs a batch matrix-matrix product of matrices stored in input and mat2.\n",
    "matmul_output = torch.bmm(audio_output.unsqueeze_(2), text_output.unsqueeze_(1))\n",
    "print(matmul_output.unsqueeze_(1).shape) # Batch, Color, Width, Hight\n"
   ]
  },
  {
   "attachments": {},
   "cell_type": "markdown",
   "metadata": {},
   "source": []
  },
  {
   "cell_type": "code",
   "execution_count": 5,
   "metadata": {},
   "outputs": [],
   "source": [
    "from erc.model import MLPMixer\n",
    "\n",
    "\n",
    "model = MLPMixer(\n",
    "    image_size = (1024, 768),\n",
    "    channels = 1,\n",
    "    patch_size = 16,\n",
    "    dim = 512,\n",
    "    depth = 12,\n",
    "    num_classes = 7\n",
    ")\n"
   ]
  },
  {
   "cell_type": "code",
   "execution_count": 6,
   "metadata": {},
   "outputs": [
    {
     "name": "stdout",
     "output_type": "stream",
     "text": [
      "torch.Size([3, 7])\n"
     ]
    }
   ],
   "source": [
    "pred = model(matmul_output) \n",
    "print(pred.shape)"
   ]
  },
  {
   "cell_type": "code",
   "execution_count": 14,
   "metadata": {},
   "outputs": [
    {
     "data": {
      "text/plain": [
       "['annotation', 'wav']"
      ]
     },
     "execution_count": 14,
     "metadata": {},
     "output_type": "execute_result"
    }
   ],
   "source": [
    "os.listdir(\"/home/hoesungryu/workspace/AI-Hub_emotion_dialog\")\n"
   ]
  },
  {
   "cell_type": "code",
   "execution_count": 16,
   "metadata": {},
   "outputs": [
    {
     "name": "stdout",
     "output_type": "stream",
     "text": [
      "/home/hoesungryu/workspace/AI-Hub_emotion_dialog/annotation/0038_G1A4E2S4C0_OMH_000001.csv /home/hoesungryu/workspace/AI-Hub_emotion_dialog/wav/0038_G1A4E2S4C0_OMH_000001.wav\n"
     ]
    }
   ],
   "source": [
    "from glob import glob\n",
    "import os \n",
    "PRETRAINED_DATA_PATH = '/home/hoesungryu/workspace/AI-Hub_emotion_dialog'\n",
    "txt_folder =sorted(glob(os.path.join(PRETRAINED_DATA_PATH,'annotation')+'/*.csv'))\n",
    "wav_folder = sorted(glob(os.path.join(PRETRAINED_DATA_PATH,'wav')+'/*.wav'))\n",
    "\n",
    "idx = 0 \n",
    "print(txt_folder[0], wav_folder[0])\n",
    "\n"
   ]
  },
  {
   "cell_type": "code",
   "execution_count": 18,
   "metadata": {},
   "outputs": [
    {
     "data": {
      "text/html": [
       "<div>\n",
       "<style scoped>\n",
       "    .dataframe tbody tr th:only-of-type {\n",
       "        vertical-align: middle;\n",
       "    }\n",
       "\n",
       "    .dataframe tbody tr th {\n",
       "        vertical-align: top;\n",
       "    }\n",
       "\n",
       "    .dataframe thead th {\n",
       "        text-align: right;\n",
       "    }\n",
       "</style>\n",
       "<table border=\"1\" class=\"dataframe\">\n",
       "  <thead>\n",
       "    <tr style=\"text-align: right;\">\n",
       "      <th></th>\n",
       "      <th>txt</th>\n",
       "      <th>wav</th>\n",
       "      <th>emotion</th>\n",
       "    </tr>\n",
       "  </thead>\n",
       "  <tbody>\n",
       "    <tr>\n",
       "      <th>0</th>\n",
       "      <td>왕자는 다시 공주 앞에 나타났지만, 공주는 외면했습니다.</td>\n",
       "      <td>0038_G1A4E2S4C0_OMH_000001.wav</td>\n",
       "      <td>sad</td>\n",
       "    </tr>\n",
       "  </tbody>\n",
       "</table>\n",
       "</div>"
      ],
      "text/plain": [
       "                               txt                             wav emotion\n",
       "0  왕자는 다시 공주 앞에 나타났지만, 공주는 외면했습니다.  0038_G1A4E2S4C0_OMH_000001.wav     sad"
      ]
     },
     "execution_count": 18,
     "metadata": {},
     "output_type": "execute_result"
    }
   ],
   "source": [
    "import pandas as pd\n",
    "df = pd.read_csv(txt_folder[0])\n",
    "df"
   ]
  },
  {
   "cell_type": "code",
   "execution_count": 25,
   "metadata": {},
   "outputs": [
    {
     "data": {
      "text/plain": [
       "'왕자는 다시 공주 앞에 나타났지만, 공주는 외면했습니다.'"
      ]
     },
     "execution_count": 25,
     "metadata": {},
     "output_type": "execute_result"
    }
   ],
   "source": [
    "txt, _, emotion, df.iloc[0].values"
   ]
  },
  {
   "cell_type": "code",
   "execution_count": null,
   "metadata": {},
   "outputs": [],
   "source": []
  },
  {
   "cell_type": "code",
   "execution_count": null,
   "metadata": {},
   "outputs": [],
   "source": [
    "import os \n",
    "from glob import glob\n",
    "\n",
    "def get_hub_txt(self, txt: str, encoding: str = None)-> Tuple[torch.Tensor, torch.Tensor]:\n",
    "    if self.tokenizer:\n",
    "        result: dict = self.tokenizer(text=txt,\n",
    "                                    padding=\"max_length\",\n",
    "                                    truncation=\"only_first\",\n",
    "                                    max_length=self.max_length_txt,\n",
    "                                    return_attention_mask=True,\n",
    "                                    return_tensors=\"pt\")\n",
    "        input_ids = result[\"input_ids\"].squeeze()\n",
    "        mask = result[\"attention_mask\"].squeeze()\n",
    "        return input_ids, mask\n",
    "    else:\n",
    "        return txt, None\n",
    "    \n",
    "class AIHubDialog():\n",
    "    # PRETRAINED_DATA_PATH = '/home/hoesungryu/workspace/AI-Hub_emotion_dialog'\n",
    "    def __init__(self, PRETRAINED_DATA_PATH):\n",
    "        self.txt_folder = sorted(glob(os.path.join(PRETRAINED_DATA_PATH,'annotation')+'/*.csv'))\n",
    "        self.wav_folder = sorted(glob(os.path.join(PRETRAINED_DATA_PATH,'wav')+'/*.wav'))\n",
    "\n",
    "    def __len__(self):\n",
    "        assert len(glob(self.wav_folder)) == len(glob(self.txt_folder))\n",
    "        return len(glob(self.wav_folder)) \n",
    "    \n",
    "    def __getitem__(self, idx:int):\n",
    "        data = {}\n",
    "        txt, _, emotion = pd.read_csv(self.txt_folder[idx]).iloc[0].values\n",
    "    \n",
    "        # Txt File\n",
    "        txt, txt_mask = self.get_hub_txt(txt_path=txt, encoding=self.TEXT_ENCODING)\n",
    "        data[\"txt\"] = txt\n",
    "        data[\"txt_mask\"] = txt_mask\n",
    "    \n",
    "        # emotion \n",
    "        data[\"emotion\"] = self.get_emo(emotion)\n",
    "\n",
    "        sampling_rate, wav, wav_mask = self.get_wav(wav_path=self.wav_folder[idx])\n",
    "        data[\"sampling_rate\"] = sampling_rate\n",
    "        data[\"wav\"] = wav\n",
    "        data[\"wav_mask\"] = wav_mask\n",
    "\n",
    "        return data\n"
   ]
  }
 ],
 "metadata": {
  "kernelspec": {
   "display_name": "erc",
   "language": "python",
   "name": "python3"
  },
  "language_info": {
   "codemirror_mode": {
    "name": "ipython",
    "version": 3
   },
   "file_extension": ".py",
   "mimetype": "text/x-python",
   "name": "python",
   "nbconvert_exporter": "python",
   "pygments_lexer": "ipython3",
   "version": "3.10.9"
  },
  "orig_nbformat": 4
 },
 "nbformat": 4,
 "nbformat_minor": 2
}
