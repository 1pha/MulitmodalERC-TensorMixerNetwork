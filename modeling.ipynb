{
 "cells": [
  {
   "attachments": {},
   "cell_type": "markdown",
   "metadata": {},
   "source": [
    "# Peak labeling"
   ]
  },
  {
   "cell_type": "code",
   "execution_count": 81,
   "metadata": {},
   "outputs": [],
   "source": [
    "import logging\n",
    "import hydra\n",
    "import torch.nn as  nn \n",
    "import erc\n",
    "from torch.utils.data import DataLoader\n",
    "from datasets import load_from_disk\n",
    "import pandas as pd\n",
    "\n",
    "\n",
    "\n",
    "def dataset2df(dataset, columns = ['emotion']):\n",
    "    df = pd.DataFrame()\n",
    "    # for column in columns:\n",
    "    df[columns] = dataset[columns]\n",
    "    return df\n",
    "\n",
    "\n",
    "train_dataset = load_from_disk(\"/home/hoesungryu/etri-erc/kemdy19-kemdy20_train4_multilabelTrue_rdeuceFalse\")\n",
    "valid_dataset = load_from_disk(\"/home/hoesungryu/etri-erc/kemdy19-kemdy20_valid4_multilabelTrue_rdeuceFalse\")\n",
    "\n",
    "total_df = pd.concat([pd.DataFrame(train_dataset['emotion']),\n",
    "                      pd.DataFrame(valid_dataset['emotion'])], axis=0)\n",
    "total_df.columns = [f'{i}_p' for i in range(1,7+1)]\n",
    "total_df['vote_emotion'] = list(train_dataset['vote_emotion'].numpy()) + list(valid_dataset['vote_emotion'].numpy()) "
   ]
  },
  {
   "cell_type": "code",
   "execution_count": 82,
   "metadata": {},
   "outputs": [
    {
     "data": {
      "text/html": [
       "<div>\n",
       "<style scoped>\n",
       "    .dataframe tbody tr th:only-of-type {\n",
       "        vertical-align: middle;\n",
       "    }\n",
       "\n",
       "    .dataframe tbody tr th {\n",
       "        vertical-align: top;\n",
       "    }\n",
       "\n",
       "    .dataframe thead th {\n",
       "        text-align: right;\n",
       "    }\n",
       "</style>\n",
       "<table border=\"1\" class=\"dataframe\">\n",
       "  <thead>\n",
       "    <tr style=\"text-align: right;\">\n",
       "      <th></th>\n",
       "      <th>1_p</th>\n",
       "      <th>2_p</th>\n",
       "      <th>3_p</th>\n",
       "      <th>4_p</th>\n",
       "      <th>5_p</th>\n",
       "      <th>6_p</th>\n",
       "      <th>7_p</th>\n",
       "      <th>vote_emotion</th>\n",
       "    </tr>\n",
       "  </thead>\n",
       "  <tbody>\n",
       "    <tr>\n",
       "      <th>0</th>\n",
       "      <td>0.9</td>\n",
       "      <td>0.1</td>\n",
       "      <td>0.0</td>\n",
       "      <td>0.0</td>\n",
       "      <td>0.0</td>\n",
       "      <td>0.0</td>\n",
       "      <td>0.0</td>\n",
       "      <td>0</td>\n",
       "    </tr>\n",
       "    <tr>\n",
       "      <th>1</th>\n",
       "      <td>0.2</td>\n",
       "      <td>0.7</td>\n",
       "      <td>0.0</td>\n",
       "      <td>0.1</td>\n",
       "      <td>0.0</td>\n",
       "      <td>0.0</td>\n",
       "      <td>0.0</td>\n",
       "      <td>1</td>\n",
       "    </tr>\n",
       "    <tr>\n",
       "      <th>2</th>\n",
       "      <td>0.0</td>\n",
       "      <td>0.0</td>\n",
       "      <td>1.0</td>\n",
       "      <td>0.0</td>\n",
       "      <td>0.0</td>\n",
       "      <td>0.0</td>\n",
       "      <td>0.0</td>\n",
       "      <td>2</td>\n",
       "    </tr>\n",
       "    <tr>\n",
       "      <th>3</th>\n",
       "      <td>0.1</td>\n",
       "      <td>0.0</td>\n",
       "      <td>0.9</td>\n",
       "      <td>0.0</td>\n",
       "      <td>0.0</td>\n",
       "      <td>0.0</td>\n",
       "      <td>0.0</td>\n",
       "      <td>2</td>\n",
       "    </tr>\n",
       "    <tr>\n",
       "      <th>4</th>\n",
       "      <td>0.2</td>\n",
       "      <td>0.8</td>\n",
       "      <td>0.0</td>\n",
       "      <td>0.0</td>\n",
       "      <td>0.0</td>\n",
       "      <td>0.0</td>\n",
       "      <td>0.0</td>\n",
       "      <td>1</td>\n",
       "    </tr>\n",
       "    <tr>\n",
       "      <th>...</th>\n",
       "      <td>...</td>\n",
       "      <td>...</td>\n",
       "      <td>...</td>\n",
       "      <td>...</td>\n",
       "      <td>...</td>\n",
       "      <td>...</td>\n",
       "      <td>...</td>\n",
       "      <td>...</td>\n",
       "    </tr>\n",
       "    <tr>\n",
       "      <th>4925</th>\n",
       "      <td>0.0</td>\n",
       "      <td>0.0</td>\n",
       "      <td>0.0</td>\n",
       "      <td>0.9</td>\n",
       "      <td>0.1</td>\n",
       "      <td>0.0</td>\n",
       "      <td>0.0</td>\n",
       "      <td>3</td>\n",
       "    </tr>\n",
       "    <tr>\n",
       "      <th>4926</th>\n",
       "      <td>0.7</td>\n",
       "      <td>0.0</td>\n",
       "      <td>0.0</td>\n",
       "      <td>0.3</td>\n",
       "      <td>0.0</td>\n",
       "      <td>0.0</td>\n",
       "      <td>0.0</td>\n",
       "      <td>0</td>\n",
       "    </tr>\n",
       "    <tr>\n",
       "      <th>4927</th>\n",
       "      <td>0.1</td>\n",
       "      <td>0.0</td>\n",
       "      <td>0.0</td>\n",
       "      <td>0.9</td>\n",
       "      <td>0.0</td>\n",
       "      <td>0.0</td>\n",
       "      <td>0.0</td>\n",
       "      <td>3</td>\n",
       "    </tr>\n",
       "    <tr>\n",
       "      <th>4928</th>\n",
       "      <td>0.0</td>\n",
       "      <td>0.0</td>\n",
       "      <td>0.1</td>\n",
       "      <td>0.6</td>\n",
       "      <td>0.0</td>\n",
       "      <td>0.0</td>\n",
       "      <td>0.3</td>\n",
       "      <td>3</td>\n",
       "    </tr>\n",
       "    <tr>\n",
       "      <th>4929</th>\n",
       "      <td>0.5</td>\n",
       "      <td>0.0</td>\n",
       "      <td>0.1</td>\n",
       "      <td>0.4</td>\n",
       "      <td>0.0</td>\n",
       "      <td>0.0</td>\n",
       "      <td>0.0</td>\n",
       "      <td>0</td>\n",
       "    </tr>\n",
       "  </tbody>\n",
       "</table>\n",
       "<p>23458 rows × 8 columns</p>\n",
       "</div>"
      ],
      "text/plain": [
       "      1_p  2_p  3_p  4_p  5_p  6_p  7_p  vote_emotion\n",
       "0     0.9  0.1  0.0  0.0  0.0  0.0  0.0             0\n",
       "1     0.2  0.7  0.0  0.1  0.0  0.0  0.0             1\n",
       "2     0.0  0.0  1.0  0.0  0.0  0.0  0.0             2\n",
       "3     0.1  0.0  0.9  0.0  0.0  0.0  0.0             2\n",
       "4     0.2  0.8  0.0  0.0  0.0  0.0  0.0             1\n",
       "...   ...  ...  ...  ...  ...  ...  ...           ...\n",
       "4925  0.0  0.0  0.0  0.9  0.1  0.0  0.0             3\n",
       "4926  0.7  0.0  0.0  0.3  0.0  0.0  0.0             0\n",
       "4927  0.1  0.0  0.0  0.9  0.0  0.0  0.0             3\n",
       "4928  0.0  0.0  0.1  0.6  0.0  0.0  0.3             3\n",
       "4929  0.5  0.0  0.1  0.4  0.0  0.0  0.0             0\n",
       "\n",
       "[23458 rows x 8 columns]"
      ]
     },
     "execution_count": 82,
     "metadata": {},
     "output_type": "execute_result"
    }
   ],
   "source": [
    "total_df"
   ]
  },
  {
   "cell_type": "code",
   "execution_count": 83,
   "metadata": {},
   "outputs": [],
   "source": [
    "import numpy as np\n",
    "take_log = lambda x: -x*np.log(x)\n"
   ]
  },
  {
   "cell_type": "code",
   "execution_count": 84,
   "metadata": {},
   "outputs": [
    {
     "name": "stderr",
     "output_type": "stream",
     "text": [
      "/home/hoesungryu/.conda/envs/erc/lib/python3.10/site-packages/pandas/core/arraylike.py:402: RuntimeWarning: divide by zero encountered in log\n",
      "  result = getattr(ufunc, method)(*inputs, **kwargs)\n"
     ]
    }
   ],
   "source": [
    "selected_columns = [f'{i}_p' for i in range(1,7+1)]\n",
    "total_df['entropy'] = total_df[selected_columns].apply(take_log).apply(np.nansum, axis=1)"
   ]
  },
  {
   "cell_type": "code",
   "execution_count": 85,
   "metadata": {},
   "outputs": [
    {
     "data": {
      "text/html": [
       "<div>\n",
       "<style scoped>\n",
       "    .dataframe tbody tr th:only-of-type {\n",
       "        vertical-align: middle;\n",
       "    }\n",
       "\n",
       "    .dataframe tbody tr th {\n",
       "        vertical-align: top;\n",
       "    }\n",
       "\n",
       "    .dataframe thead th {\n",
       "        text-align: right;\n",
       "    }\n",
       "</style>\n",
       "<table border=\"1\" class=\"dataframe\">\n",
       "  <thead>\n",
       "    <tr style=\"text-align: right;\">\n",
       "      <th></th>\n",
       "      <th>1_p</th>\n",
       "      <th>2_p</th>\n",
       "      <th>3_p</th>\n",
       "      <th>4_p</th>\n",
       "      <th>5_p</th>\n",
       "      <th>6_p</th>\n",
       "      <th>7_p</th>\n",
       "      <th>vote_emotion</th>\n",
       "      <th>entropy</th>\n",
       "    </tr>\n",
       "  </thead>\n",
       "  <tbody>\n",
       "    <tr>\n",
       "      <th>0</th>\n",
       "      <td>0.9</td>\n",
       "      <td>0.1</td>\n",
       "      <td>0.0</td>\n",
       "      <td>0.0</td>\n",
       "      <td>0.0</td>\n",
       "      <td>0.0</td>\n",
       "      <td>0.0</td>\n",
       "      <td>0</td>\n",
       "      <td>0.325083</td>\n",
       "    </tr>\n",
       "    <tr>\n",
       "      <th>1</th>\n",
       "      <td>0.2</td>\n",
       "      <td>0.7</td>\n",
       "      <td>0.0</td>\n",
       "      <td>0.1</td>\n",
       "      <td>0.0</td>\n",
       "      <td>0.0</td>\n",
       "      <td>0.0</td>\n",
       "      <td>1</td>\n",
       "      <td>0.801819</td>\n",
       "    </tr>\n",
       "    <tr>\n",
       "      <th>2</th>\n",
       "      <td>0.0</td>\n",
       "      <td>0.0</td>\n",
       "      <td>1.0</td>\n",
       "      <td>0.0</td>\n",
       "      <td>0.0</td>\n",
       "      <td>0.0</td>\n",
       "      <td>0.0</td>\n",
       "      <td>2</td>\n",
       "      <td>0.000000</td>\n",
       "    </tr>\n",
       "    <tr>\n",
       "      <th>3</th>\n",
       "      <td>0.1</td>\n",
       "      <td>0.0</td>\n",
       "      <td>0.9</td>\n",
       "      <td>0.0</td>\n",
       "      <td>0.0</td>\n",
       "      <td>0.0</td>\n",
       "      <td>0.0</td>\n",
       "      <td>2</td>\n",
       "      <td>0.325083</td>\n",
       "    </tr>\n",
       "    <tr>\n",
       "      <th>4</th>\n",
       "      <td>0.2</td>\n",
       "      <td>0.8</td>\n",
       "      <td>0.0</td>\n",
       "      <td>0.0</td>\n",
       "      <td>0.0</td>\n",
       "      <td>0.0</td>\n",
       "      <td>0.0</td>\n",
       "      <td>1</td>\n",
       "      <td>0.500402</td>\n",
       "    </tr>\n",
       "    <tr>\n",
       "      <th>...</th>\n",
       "      <td>...</td>\n",
       "      <td>...</td>\n",
       "      <td>...</td>\n",
       "      <td>...</td>\n",
       "      <td>...</td>\n",
       "      <td>...</td>\n",
       "      <td>...</td>\n",
       "      <td>...</td>\n",
       "      <td>...</td>\n",
       "    </tr>\n",
       "    <tr>\n",
       "      <th>4925</th>\n",
       "      <td>0.0</td>\n",
       "      <td>0.0</td>\n",
       "      <td>0.0</td>\n",
       "      <td>0.9</td>\n",
       "      <td>0.1</td>\n",
       "      <td>0.0</td>\n",
       "      <td>0.0</td>\n",
       "      <td>3</td>\n",
       "      <td>0.325083</td>\n",
       "    </tr>\n",
       "    <tr>\n",
       "      <th>4926</th>\n",
       "      <td>0.7</td>\n",
       "      <td>0.0</td>\n",
       "      <td>0.0</td>\n",
       "      <td>0.3</td>\n",
       "      <td>0.0</td>\n",
       "      <td>0.0</td>\n",
       "      <td>0.0</td>\n",
       "      <td>0</td>\n",
       "      <td>0.610864</td>\n",
       "    </tr>\n",
       "    <tr>\n",
       "      <th>4927</th>\n",
       "      <td>0.1</td>\n",
       "      <td>0.0</td>\n",
       "      <td>0.0</td>\n",
       "      <td>0.9</td>\n",
       "      <td>0.0</td>\n",
       "      <td>0.0</td>\n",
       "      <td>0.0</td>\n",
       "      <td>3</td>\n",
       "      <td>0.325083</td>\n",
       "    </tr>\n",
       "    <tr>\n",
       "      <th>4928</th>\n",
       "      <td>0.0</td>\n",
       "      <td>0.0</td>\n",
       "      <td>0.1</td>\n",
       "      <td>0.6</td>\n",
       "      <td>0.0</td>\n",
       "      <td>0.0</td>\n",
       "      <td>0.3</td>\n",
       "      <td>3</td>\n",
       "      <td>0.897946</td>\n",
       "    </tr>\n",
       "    <tr>\n",
       "      <th>4929</th>\n",
       "      <td>0.5</td>\n",
       "      <td>0.0</td>\n",
       "      <td>0.1</td>\n",
       "      <td>0.4</td>\n",
       "      <td>0.0</td>\n",
       "      <td>0.0</td>\n",
       "      <td>0.0</td>\n",
       "      <td>0</td>\n",
       "      <td>0.943348</td>\n",
       "    </tr>\n",
       "  </tbody>\n",
       "</table>\n",
       "<p>23458 rows × 9 columns</p>\n",
       "</div>"
      ],
      "text/plain": [
       "      1_p  2_p  3_p  4_p  5_p  6_p  7_p  vote_emotion   entropy\n",
       "0     0.9  0.1  0.0  0.0  0.0  0.0  0.0             0  0.325083\n",
       "1     0.2  0.7  0.0  0.1  0.0  0.0  0.0             1  0.801819\n",
       "2     0.0  0.0  1.0  0.0  0.0  0.0  0.0             2  0.000000\n",
       "3     0.1  0.0  0.9  0.0  0.0  0.0  0.0             2  0.325083\n",
       "4     0.2  0.8  0.0  0.0  0.0  0.0  0.0             1  0.500402\n",
       "...   ...  ...  ...  ...  ...  ...  ...           ...       ...\n",
       "4925  0.0  0.0  0.0  0.9  0.1  0.0  0.0             3  0.325083\n",
       "4926  0.7  0.0  0.0  0.3  0.0  0.0  0.0             0  0.610864\n",
       "4927  0.1  0.0  0.0  0.9  0.0  0.0  0.0             3  0.325083\n",
       "4928  0.0  0.0  0.1  0.6  0.0  0.0  0.3             3  0.897946\n",
       "4929  0.5  0.0  0.1  0.4  0.0  0.0  0.0             0  0.943348\n",
       "\n",
       "[23458 rows x 9 columns]"
      ]
     },
     "execution_count": 85,
     "metadata": {},
     "output_type": "execute_result"
    }
   ],
   "source": [
    "total_df"
   ]
  },
  {
   "cell_type": "code",
   "execution_count": 138,
   "metadata": {},
   "outputs": [],
   "source": [
    "import torch \n",
    "import torch.nn.functional as F\n",
    "def reverse_soft(\n",
    "        y_soft : torch.Tensor,\n",
    "        r: int = 0.6\n",
    "    ) -> torch.Tensor:\n",
    "    normalize_1 = lambda x: (x-x.min())/(x- x.min()).sum()\n",
    "\n",
    "    if y_soft.ndim == 1:\n",
    "        n_label = len(y_soft)\n",
    "        peak_value = (y_soft - ((r)/n_label)) / (1-r)\n",
    "        return normalize_1(F.relu(peak_value))\n",
    "    elif y_soft.ndim == 2:\n",
    "        n_label = (y_soft >= 0).sum(dim=1)\n",
    "        peak_value = (y_soft - ((r)/n_label.unsqueeze(1))) / (1-r)\n",
    "        peak_value = F.relu(peak_value)\n",
    "        \n",
    "        numerator = peak_value - peak_value.min(axis=1).values.unsqueeze(1)\n",
    "        denominator = numerator.sum(axis=1).unsqueeze(1)\n",
    "        \n",
    "        return numerator /denominator\n"
   ]
  },
  {
   "cell_type": "code",
   "execution_count": 139,
   "metadata": {},
   "outputs": [
    {
     "data": {
      "text/html": [
       "<div>\n",
       "<style scoped>\n",
       "    .dataframe tbody tr th:only-of-type {\n",
       "        vertical-align: middle;\n",
       "    }\n",
       "\n",
       "    .dataframe tbody tr th {\n",
       "        vertical-align: top;\n",
       "    }\n",
       "\n",
       "    .dataframe thead th {\n",
       "        text-align: right;\n",
       "    }\n",
       "</style>\n",
       "<table border=\"1\" class=\"dataframe\">\n",
       "  <thead>\n",
       "    <tr style=\"text-align: right;\">\n",
       "      <th></th>\n",
       "      <th>0</th>\n",
       "      <th>1</th>\n",
       "      <th>2</th>\n",
       "      <th>3</th>\n",
       "      <th>4</th>\n",
       "      <th>5</th>\n",
       "      <th>6</th>\n",
       "      <th>vote_emotion</th>\n",
       "    </tr>\n",
       "  </thead>\n",
       "  <tbody>\n",
       "    <tr>\n",
       "      <th>0</th>\n",
       "      <td>0.982759</td>\n",
       "      <td>0.017241</td>\n",
       "      <td>0.000000</td>\n",
       "      <td>0.000000</td>\n",
       "      <td>0.000000</td>\n",
       "      <td>0.0</td>\n",
       "      <td>0.000000</td>\n",
       "      <td>0</td>\n",
       "    </tr>\n",
       "    <tr>\n",
       "      <th>1</th>\n",
       "      <td>0.153846</td>\n",
       "      <td>0.826923</td>\n",
       "      <td>0.000000</td>\n",
       "      <td>0.019231</td>\n",
       "      <td>0.000000</td>\n",
       "      <td>0.0</td>\n",
       "      <td>0.000000</td>\n",
       "      <td>1</td>\n",
       "    </tr>\n",
       "    <tr>\n",
       "      <th>2</th>\n",
       "      <td>0.000000</td>\n",
       "      <td>0.000000</td>\n",
       "      <td>1.000000</td>\n",
       "      <td>0.000000</td>\n",
       "      <td>0.000000</td>\n",
       "      <td>0.0</td>\n",
       "      <td>0.000000</td>\n",
       "      <td>2</td>\n",
       "    </tr>\n",
       "    <tr>\n",
       "      <th>3</th>\n",
       "      <td>0.017241</td>\n",
       "      <td>0.000000</td>\n",
       "      <td>0.982759</td>\n",
       "      <td>0.000000</td>\n",
       "      <td>0.000000</td>\n",
       "      <td>0.0</td>\n",
       "      <td>0.000000</td>\n",
       "      <td>2</td>\n",
       "    </tr>\n",
       "    <tr>\n",
       "      <th>4</th>\n",
       "      <td>0.137931</td>\n",
       "      <td>0.862069</td>\n",
       "      <td>0.000000</td>\n",
       "      <td>0.000000</td>\n",
       "      <td>0.000000</td>\n",
       "      <td>0.0</td>\n",
       "      <td>0.000000</td>\n",
       "      <td>1</td>\n",
       "    </tr>\n",
       "    <tr>\n",
       "      <th>...</th>\n",
       "      <td>...</td>\n",
       "      <td>...</td>\n",
       "      <td>...</td>\n",
       "      <td>...</td>\n",
       "      <td>...</td>\n",
       "      <td>...</td>\n",
       "      <td>...</td>\n",
       "      <td>...</td>\n",
       "    </tr>\n",
       "    <tr>\n",
       "      <th>23453</th>\n",
       "      <td>0.000000</td>\n",
       "      <td>0.000000</td>\n",
       "      <td>0.000000</td>\n",
       "      <td>0.982759</td>\n",
       "      <td>0.017241</td>\n",
       "      <td>0.0</td>\n",
       "      <td>0.000000</td>\n",
       "      <td>3</td>\n",
       "    </tr>\n",
       "    <tr>\n",
       "      <th>23454</th>\n",
       "      <td>0.741379</td>\n",
       "      <td>0.000000</td>\n",
       "      <td>0.000000</td>\n",
       "      <td>0.258621</td>\n",
       "      <td>0.000000</td>\n",
       "      <td>0.0</td>\n",
       "      <td>0.000000</td>\n",
       "      <td>0</td>\n",
       "    </tr>\n",
       "    <tr>\n",
       "      <th>23455</th>\n",
       "      <td>0.017241</td>\n",
       "      <td>0.000000</td>\n",
       "      <td>0.000000</td>\n",
       "      <td>0.982759</td>\n",
       "      <td>0.000000</td>\n",
       "      <td>0.0</td>\n",
       "      <td>0.000000</td>\n",
       "      <td>3</td>\n",
       "    </tr>\n",
       "    <tr>\n",
       "      <th>23456</th>\n",
       "      <td>0.000000</td>\n",
       "      <td>0.000000</td>\n",
       "      <td>0.019231</td>\n",
       "      <td>0.692308</td>\n",
       "      <td>0.000000</td>\n",
       "      <td>0.0</td>\n",
       "      <td>0.288462</td>\n",
       "      <td>3</td>\n",
       "    </tr>\n",
       "    <tr>\n",
       "      <th>23457</th>\n",
       "      <td>0.557692</td>\n",
       "      <td>0.000000</td>\n",
       "      <td>0.019231</td>\n",
       "      <td>0.423077</td>\n",
       "      <td>0.000000</td>\n",
       "      <td>0.0</td>\n",
       "      <td>0.000000</td>\n",
       "      <td>0</td>\n",
       "    </tr>\n",
       "  </tbody>\n",
       "</table>\n",
       "<p>23458 rows × 8 columns</p>\n",
       "</div>"
      ],
      "text/plain": [
       "              0         1         2         3         4    5         6  \\\n",
       "0      0.982759  0.017241  0.000000  0.000000  0.000000  0.0  0.000000   \n",
       "1      0.153846  0.826923  0.000000  0.019231  0.000000  0.0  0.000000   \n",
       "2      0.000000  0.000000  1.000000  0.000000  0.000000  0.0  0.000000   \n",
       "3      0.017241  0.000000  0.982759  0.000000  0.000000  0.0  0.000000   \n",
       "4      0.137931  0.862069  0.000000  0.000000  0.000000  0.0  0.000000   \n",
       "...         ...       ...       ...       ...       ...  ...       ...   \n",
       "23453  0.000000  0.000000  0.000000  0.982759  0.017241  0.0  0.000000   \n",
       "23454  0.741379  0.000000  0.000000  0.258621  0.000000  0.0  0.000000   \n",
       "23455  0.017241  0.000000  0.000000  0.982759  0.000000  0.0  0.000000   \n",
       "23456  0.000000  0.000000  0.019231  0.692308  0.000000  0.0  0.288462   \n",
       "23457  0.557692  0.000000  0.019231  0.423077  0.000000  0.0  0.000000   \n",
       "\n",
       "       vote_emotion  \n",
       "0                 0  \n",
       "1                 1  \n",
       "2                 2  \n",
       "3                 2  \n",
       "4                 1  \n",
       "...             ...  \n",
       "23453             3  \n",
       "23454             0  \n",
       "23455             3  \n",
       "23456             3  \n",
       "23457             0  \n",
       "\n",
       "[23458 rows x 8 columns]"
      ]
     },
     "execution_count": 139,
     "metadata": {},
     "output_type": "execute_result"
    }
   ],
   "source": [
    "peak_df = pd.DataFrame(reverse_soft(torch.from_numpy(total_df[selected_columns].values)).numpy())\n",
    "peak_df['vote_emotion'] = total_df['vote_emotion'].values\n",
    "peak_df"
   ]
  },
  {
   "cell_type": "code",
   "execution_count": 140,
   "metadata": {},
   "outputs": [
    {
     "name": "stderr",
     "output_type": "stream",
     "text": [
      "/home/hoesungryu/.conda/envs/erc/lib/python3.10/site-packages/pandas/core/arraylike.py:402: RuntimeWarning: divide by zero encountered in log\n",
      "  result = getattr(ufunc, method)(*inputs, **kwargs)\n"
     ]
    }
   ],
   "source": [
    "peak_df['entropy'] = peak_df.drop([\"vote_emotion\"],axis=1).apply(take_log).apply(np.nansum, axis=1)"
   ]
  },
  {
   "cell_type": "code",
   "execution_count": 141,
   "metadata": {},
   "outputs": [
    {
     "data": {
      "text/html": [
       "<div>\n",
       "<style scoped>\n",
       "    .dataframe tbody tr th:only-of-type {\n",
       "        vertical-align: middle;\n",
       "    }\n",
       "\n",
       "    .dataframe tbody tr th {\n",
       "        vertical-align: top;\n",
       "    }\n",
       "\n",
       "    .dataframe thead th {\n",
       "        text-align: right;\n",
       "    }\n",
       "</style>\n",
       "<table border=\"1\" class=\"dataframe\">\n",
       "  <thead>\n",
       "    <tr style=\"text-align: right;\">\n",
       "      <th></th>\n",
       "      <th>0</th>\n",
       "      <th>1</th>\n",
       "      <th>2</th>\n",
       "      <th>3</th>\n",
       "      <th>4</th>\n",
       "      <th>5</th>\n",
       "      <th>6</th>\n",
       "      <th>vote_emotion</th>\n",
       "      <th>entropy</th>\n",
       "    </tr>\n",
       "  </thead>\n",
       "  <tbody>\n",
       "    <tr>\n",
       "      <th>0</th>\n",
       "      <td>0.982759</td>\n",
       "      <td>0.017241</td>\n",
       "      <td>0.000000</td>\n",
       "      <td>0.000000</td>\n",
       "      <td>0.000000</td>\n",
       "      <td>0.0</td>\n",
       "      <td>0.000000</td>\n",
       "      <td>0</td>\n",
       "      <td>0.087099</td>\n",
       "    </tr>\n",
       "    <tr>\n",
       "      <th>1</th>\n",
       "      <td>0.153846</td>\n",
       "      <td>0.826923</td>\n",
       "      <td>0.000000</td>\n",
       "      <td>0.019231</td>\n",
       "      <td>0.000000</td>\n",
       "      <td>0.0</td>\n",
       "      <td>0.000000</td>\n",
       "      <td>1</td>\n",
       "      <td>0.521106</td>\n",
       "    </tr>\n",
       "    <tr>\n",
       "      <th>2</th>\n",
       "      <td>0.000000</td>\n",
       "      <td>0.000000</td>\n",
       "      <td>1.000000</td>\n",
       "      <td>0.000000</td>\n",
       "      <td>0.000000</td>\n",
       "      <td>0.0</td>\n",
       "      <td>0.000000</td>\n",
       "      <td>2</td>\n",
       "      <td>0.000000</td>\n",
       "    </tr>\n",
       "    <tr>\n",
       "      <th>3</th>\n",
       "      <td>0.017241</td>\n",
       "      <td>0.000000</td>\n",
       "      <td>0.982759</td>\n",
       "      <td>0.000000</td>\n",
       "      <td>0.000000</td>\n",
       "      <td>0.0</td>\n",
       "      <td>0.000000</td>\n",
       "      <td>2</td>\n",
       "      <td>0.087099</td>\n",
       "    </tr>\n",
       "    <tr>\n",
       "      <th>4</th>\n",
       "      <td>0.137931</td>\n",
       "      <td>0.862069</td>\n",
       "      <td>0.000000</td>\n",
       "      <td>0.000000</td>\n",
       "      <td>0.000000</td>\n",
       "      <td>0.0</td>\n",
       "      <td>0.000000</td>\n",
       "      <td>1</td>\n",
       "      <td>0.401190</td>\n",
       "    </tr>\n",
       "    <tr>\n",
       "      <th>...</th>\n",
       "      <td>...</td>\n",
       "      <td>...</td>\n",
       "      <td>...</td>\n",
       "      <td>...</td>\n",
       "      <td>...</td>\n",
       "      <td>...</td>\n",
       "      <td>...</td>\n",
       "      <td>...</td>\n",
       "      <td>...</td>\n",
       "    </tr>\n",
       "    <tr>\n",
       "      <th>23453</th>\n",
       "      <td>0.000000</td>\n",
       "      <td>0.000000</td>\n",
       "      <td>0.000000</td>\n",
       "      <td>0.982759</td>\n",
       "      <td>0.017241</td>\n",
       "      <td>0.0</td>\n",
       "      <td>0.000000</td>\n",
       "      <td>3</td>\n",
       "      <td>0.087099</td>\n",
       "    </tr>\n",
       "    <tr>\n",
       "      <th>23454</th>\n",
       "      <td>0.741379</td>\n",
       "      <td>0.000000</td>\n",
       "      <td>0.000000</td>\n",
       "      <td>0.258621</td>\n",
       "      <td>0.000000</td>\n",
       "      <td>0.0</td>\n",
       "      <td>0.000000</td>\n",
       "      <td>0</td>\n",
       "      <td>0.571609</td>\n",
       "    </tr>\n",
       "    <tr>\n",
       "      <th>23455</th>\n",
       "      <td>0.017241</td>\n",
       "      <td>0.000000</td>\n",
       "      <td>0.000000</td>\n",
       "      <td>0.982759</td>\n",
       "      <td>0.000000</td>\n",
       "      <td>0.0</td>\n",
       "      <td>0.000000</td>\n",
       "      <td>3</td>\n",
       "      <td>0.087099</td>\n",
       "    </tr>\n",
       "    <tr>\n",
       "      <th>23456</th>\n",
       "      <td>0.000000</td>\n",
       "      <td>0.000000</td>\n",
       "      <td>0.019231</td>\n",
       "      <td>0.692308</td>\n",
       "      <td>0.000000</td>\n",
       "      <td>0.0</td>\n",
       "      <td>0.288462</td>\n",
       "      <td>3</td>\n",
       "      <td>0.689178</td>\n",
       "    </tr>\n",
       "    <tr>\n",
       "      <th>23457</th>\n",
       "      <td>0.557692</td>\n",
       "      <td>0.000000</td>\n",
       "      <td>0.019231</td>\n",
       "      <td>0.423077</td>\n",
       "      <td>0.000000</td>\n",
       "      <td>0.0</td>\n",
       "      <td>0.000000</td>\n",
       "      <td>0</td>\n",
       "      <td>0.765580</td>\n",
       "    </tr>\n",
       "  </tbody>\n",
       "</table>\n",
       "<p>23458 rows × 9 columns</p>\n",
       "</div>"
      ],
      "text/plain": [
       "              0         1         2         3         4    5         6  \\\n",
       "0      0.982759  0.017241  0.000000  0.000000  0.000000  0.0  0.000000   \n",
       "1      0.153846  0.826923  0.000000  0.019231  0.000000  0.0  0.000000   \n",
       "2      0.000000  0.000000  1.000000  0.000000  0.000000  0.0  0.000000   \n",
       "3      0.017241  0.000000  0.982759  0.000000  0.000000  0.0  0.000000   \n",
       "4      0.137931  0.862069  0.000000  0.000000  0.000000  0.0  0.000000   \n",
       "...         ...       ...       ...       ...       ...  ...       ...   \n",
       "23453  0.000000  0.000000  0.000000  0.982759  0.017241  0.0  0.000000   \n",
       "23454  0.741379  0.000000  0.000000  0.258621  0.000000  0.0  0.000000   \n",
       "23455  0.017241  0.000000  0.000000  0.982759  0.000000  0.0  0.000000   \n",
       "23456  0.000000  0.000000  0.019231  0.692308  0.000000  0.0  0.288462   \n",
       "23457  0.557692  0.000000  0.019231  0.423077  0.000000  0.0  0.000000   \n",
       "\n",
       "       vote_emotion   entropy  \n",
       "0                 0  0.087099  \n",
       "1                 1  0.521106  \n",
       "2                 2  0.000000  \n",
       "3                 2  0.087099  \n",
       "4                 1  0.401190  \n",
       "...             ...       ...  \n",
       "23453             3  0.087099  \n",
       "23454             0  0.571609  \n",
       "23455             3  0.087099  \n",
       "23456             3  0.689178  \n",
       "23457             0  0.765580  \n",
       "\n",
       "[23458 rows x 9 columns]"
      ]
     },
     "execution_count": 141,
     "metadata": {},
     "output_type": "execute_result"
    }
   ],
   "source": [
    "peak_df"
   ]
  },
  {
   "cell_type": "code",
   "execution_count": 143,
   "metadata": {},
   "outputs": [
    {
     "data": {
      "text/plain": [
       "count    23458.000000\n",
       "mean         0.394636\n",
       "std          0.334771\n",
       "min          0.000000\n",
       "25%          0.087099\n",
       "50%          0.401190\n",
       "75%          0.663725\n",
       "max          1.609438\n",
       "Name: entropy, dtype: float64"
      ]
     },
     "execution_count": 143,
     "metadata": {},
     "output_type": "execute_result"
    }
   ],
   "source": [
    "peak_df['entropy'].describe()"
   ]
  },
  {
   "cell_type": "code",
   "execution_count": 142,
   "metadata": {},
   "outputs": [
    {
     "data": {
      "text/plain": [
       "<Axes: xlabel='vote_emotion'>"
      ]
     },
     "execution_count": 142,
     "metadata": {},
     "output_type": "execute_result"
    },
    {
     "data": {
      "image/png": "[encoded data removed]",
      "text/plain": [
       "<Figure size 640x480 with 1 Axes>"
      ]
     },
     "metadata": {},
     "output_type": "display_data"
    }
   ],
   "source": [
    "pd.pivot_table(data=peak_df, \n",
    "               values = \"entropy\", \n",
    "               columns = \"vote_emotion\",\n",
    "               aggfunc={\"mean\",\"std\"}).T.plot()"
   ]
  },
  {
   "cell_type": "code",
   "execution_count": 75,
   "metadata": {},
   "outputs": [
    {
     "data": {
      "text/plain": [
       "<Axes: xlabel='vote_emotion'>"
      ]
     },
     "execution_count": 75,
     "metadata": {},
     "output_type": "execute_result"
    },
    {
     "data": {
      "image/png": "[encoded data removed]",
      "text/plain": [
       "<Figure size 640x480 with 1 Axes>"
      ]
     },
     "metadata": {},
     "output_type": "display_data"
    }
   ],
   "source": [
    "idx2emotion = {\n",
    "    0: 'surprise',\n",
    "    1: 'fear',\n",
    "    2: 'angry',\n",
    "    3: 'neutral',\n",
    "    4: 'happy',\n",
    "    5: 'sad',\n",
    "    6: 'disgust'\n",
    "}\n",
    "\n",
    "pd.pivot_table(data=total_df, \n",
    "               values = \"entropy\", \n",
    "               columns = \"vote_emotion\",\n",
    "               aggfunc={\"mean\",\"std\"}).T.plot()"
   ]
  },
  {
   "cell_type": "code",
   "execution_count": 67,
   "metadata": {},
   "outputs": [
    {
     "data": {
      "text/plain": [
       "<Axes: xlabel='vote_emotion'>"
      ]
     },
     "execution_count": 67,
     "metadata": {},
     "output_type": "execute_result"
    },
    {
     "data": {
      "image/png": "[encoded data removed]",
      "text/plain": [
       "<Figure size 640x480 with 1 Axes>"
      ]
     },
     "metadata": {},
     "output_type": "display_data"
    }
   ],
   "source": [
    "total_df.set_index(\"vote_emotion\")['entropy'].plot()"
   ]
  },
  {
   "cell_type": "code",
   "execution_count": 63,
   "metadata": {},
   "outputs": [
    {
     "data": {
      "text/plain": [
       "<Axes: ylabel='Frequency'>"
      ]
     },
     "execution_count": 63,
     "metadata": {},
     "output_type": "execute_result"
    },
    {
     "data": {
      "image/png": "[encoded data removed]",
      "text/plain": [
       "<Figure size 640x480 with 1 Axes>"
      ]
     },
     "metadata": {},
     "output_type": "display_data"
    }
   ],
   "source": [
    "total_df[total_df['vote_emotion'] == 0][\"entropy\"].plot.hist()"
   ]
  },
  {
   "cell_type": "code",
   "execution_count": 49,
   "metadata": {},
   "outputs": [
    {
     "data": {
      "text/plain": [
       "<Axes: ylabel='Frequency'>"
      ]
     },
     "execution_count": 49,
     "metadata": {},
     "output_type": "execute_result"
    },
    {
     "data": {
      "image/png": "[encoded data removed]",
      "text/plain": [
       "<Figure size 640x480 with 1 Axes>"
      ]
     },
     "metadata": {},
     "output_type": "display_data"
    }
   ],
   "source": []
  },
  {
   "cell_type": "code",
   "execution_count": 28,
   "metadata": {},
   "outputs": [
    {
     "data": {
      "text/plain": [
       "tensor([[0],\n",
       "        [1],\n",
       "        [2],\n",
       "        ...,\n",
       "        [3],\n",
       "        [3],\n",
       "        [3]])"
      ]
     },
     "execution_count": 28,
     "metadata": {},
     "output_type": "execute_result"
    }
   ],
   "source": [
    "train_dataset['vote_emotion'].unsqueeze(dim=1)"
   ]
  },
  {
   "cell_type": "code",
   "execution_count": 24,
   "metadata": {},
   "outputs": [
    {
     "data": {
      "text/plain": [
       "tensor([3, 3, 6,  ..., 3, 3, 0])"
      ]
     },
     "execution_count": 24,
     "metadata": {},
     "output_type": "execute_result"
    }
   ],
   "source": [
    "valid_dataset['vote_emotion']"
   ]
  },
  {
   "cell_type": "code",
   "execution_count": 13,
   "metadata": {},
   "outputs": [
    {
     "data": {
      "text/html": [
       "<div>\n",
       "<style scoped>\n",
       "    .dataframe tbody tr th:only-of-type {\n",
       "        vertical-align: middle;\n",
       "    }\n",
       "\n",
       "    .dataframe tbody tr th {\n",
       "        vertical-align: top;\n",
       "    }\n",
       "\n",
       "    .dataframe thead th {\n",
       "        text-align: right;\n",
       "    }\n",
       "</style>\n",
       "<table border=\"1\" class=\"dataframe\">\n",
       "  <thead>\n",
       "    <tr style=\"text-align: right;\">\n",
       "      <th></th>\n",
       "      <th>1_p</th>\n",
       "      <th>2_p</th>\n",
       "      <th>3_p</th>\n",
       "      <th>4_p</th>\n",
       "      <th>5_p</th>\n",
       "      <th>6_p</th>\n",
       "      <th>7_p</th>\n",
       "    </tr>\n",
       "  </thead>\n",
       "  <tbody>\n",
       "    <tr>\n",
       "      <th>0</th>\n",
       "      <td>0.9</td>\n",
       "      <td>0.1</td>\n",
       "      <td>0.0</td>\n",
       "      <td>0.0</td>\n",
       "      <td>0.0</td>\n",
       "      <td>0.0</td>\n",
       "      <td>0.0</td>\n",
       "    </tr>\n",
       "    <tr>\n",
       "      <th>1</th>\n",
       "      <td>0.2</td>\n",
       "      <td>0.7</td>\n",
       "      <td>0.0</td>\n",
       "      <td>0.1</td>\n",
       "      <td>0.0</td>\n",
       "      <td>0.0</td>\n",
       "      <td>0.0</td>\n",
       "    </tr>\n",
       "    <tr>\n",
       "      <th>2</th>\n",
       "      <td>0.0</td>\n",
       "      <td>0.0</td>\n",
       "      <td>1.0</td>\n",
       "      <td>0.0</td>\n",
       "      <td>0.0</td>\n",
       "      <td>0.0</td>\n",
       "      <td>0.0</td>\n",
       "    </tr>\n",
       "    <tr>\n",
       "      <th>3</th>\n",
       "      <td>0.1</td>\n",
       "      <td>0.0</td>\n",
       "      <td>0.9</td>\n",
       "      <td>0.0</td>\n",
       "      <td>0.0</td>\n",
       "      <td>0.0</td>\n",
       "      <td>0.0</td>\n",
       "    </tr>\n",
       "    <tr>\n",
       "      <th>4</th>\n",
       "      <td>0.2</td>\n",
       "      <td>0.8</td>\n",
       "      <td>0.0</td>\n",
       "      <td>0.0</td>\n",
       "      <td>0.0</td>\n",
       "      <td>0.0</td>\n",
       "      <td>0.0</td>\n",
       "    </tr>\n",
       "    <tr>\n",
       "      <th>...</th>\n",
       "      <td>...</td>\n",
       "      <td>...</td>\n",
       "      <td>...</td>\n",
       "      <td>...</td>\n",
       "      <td>...</td>\n",
       "      <td>...</td>\n",
       "      <td>...</td>\n",
       "    </tr>\n",
       "    <tr>\n",
       "      <th>4925</th>\n",
       "      <td>0.0</td>\n",
       "      <td>0.0</td>\n",
       "      <td>0.0</td>\n",
       "      <td>0.9</td>\n",
       "      <td>0.1</td>\n",
       "      <td>0.0</td>\n",
       "      <td>0.0</td>\n",
       "    </tr>\n",
       "    <tr>\n",
       "      <th>4926</th>\n",
       "      <td>0.7</td>\n",
       "      <td>0.0</td>\n",
       "      <td>0.0</td>\n",
       "      <td>0.3</td>\n",
       "      <td>0.0</td>\n",
       "      <td>0.0</td>\n",
       "      <td>0.0</td>\n",
       "    </tr>\n",
       "    <tr>\n",
       "      <th>4927</th>\n",
       "      <td>0.1</td>\n",
       "      <td>0.0</td>\n",
       "      <td>0.0</td>\n",
       "      <td>0.9</td>\n",
       "      <td>0.0</td>\n",
       "      <td>0.0</td>\n",
       "      <td>0.0</td>\n",
       "    </tr>\n",
       "    <tr>\n",
       "      <th>4928</th>\n",
       "      <td>0.0</td>\n",
       "      <td>0.0</td>\n",
       "      <td>0.1</td>\n",
       "      <td>0.6</td>\n",
       "      <td>0.0</td>\n",
       "      <td>0.0</td>\n",
       "      <td>0.3</td>\n",
       "    </tr>\n",
       "    <tr>\n",
       "      <th>4929</th>\n",
       "      <td>0.5</td>\n",
       "      <td>0.0</td>\n",
       "      <td>0.1</td>\n",
       "      <td>0.4</td>\n",
       "      <td>0.0</td>\n",
       "      <td>0.0</td>\n",
       "      <td>0.0</td>\n",
       "    </tr>\n",
       "  </tbody>\n",
       "</table>\n",
       "<p>23458 rows × 7 columns</p>\n",
       "</div>"
      ],
      "text/plain": [
       "      1_p  2_p  3_p  4_p  5_p  6_p  7_p\n",
       "0     0.9  0.1  0.0  0.0  0.0  0.0  0.0\n",
       "1     0.2  0.7  0.0  0.1  0.0  0.0  0.0\n",
       "2     0.0  0.0  1.0  0.0  0.0  0.0  0.0\n",
       "3     0.1  0.0  0.9  0.0  0.0  0.0  0.0\n",
       "4     0.2  0.8  0.0  0.0  0.0  0.0  0.0\n",
       "...   ...  ...  ...  ...  ...  ...  ...\n",
       "4925  0.0  0.0  0.0  0.9  0.1  0.0  0.0\n",
       "4926  0.7  0.0  0.0  0.3  0.0  0.0  0.0\n",
       "4927  0.1  0.0  0.0  0.9  0.0  0.0  0.0\n",
       "4928  0.0  0.0  0.1  0.6  0.0  0.0  0.3\n",
       "4929  0.5  0.0  0.1  0.4  0.0  0.0  0.0\n",
       "\n",
       "[23458 rows x 7 columns]"
      ]
     },
     "execution_count": 13,
     "metadata": {},
     "output_type": "execute_result"
    }
   ],
   "source": [
    "total_df"
   ]
  },
  {
   "cell_type": "code",
   "execution_count": 8,
   "metadata": {},
   "outputs": [
    {
     "data": {
      "text/plain": [
       "<Axes: >"
      ]
     },
     "execution_count": 8,
     "metadata": {},
     "output_type": "execute_result"
    },
    {
     "data": {
      "image/png": "[encoded data removed]",
      "text/plain": [
       "<Figure size 640x480 with 1 Axes>"
      ]
     },
     "metadata": {},
     "output_type": "display_data"
    }
   ],
   "source": [
    "total_df.plot(kind=)"
   ]
  },
  {
   "cell_type": "code",
   "execution_count": null,
   "metadata": {},
   "outputs": [],
   "source": [
    "train_dataset['emotion']"
   ]
  },
  {
   "cell_type": "code",
   "execution_count": null,
   "metadata": {},
   "outputs": [],
   "source": [
    "train_dataset[0]"
   ]
  },
  {
   "attachments": {},
   "cell_type": "markdown",
   "metadata": {},
   "source": [
    "## MLP-mixer _convert \n"
   ]
  },
  {
   "cell_type": "code",
   "execution_count": null,
   "metadata": {},
   "outputs": [],
   "source": [
    "import torch\n",
    "import numpy as np\n",
    "from erc.model import MLPMixer\n",
    "\n",
    "audio_output = torch.ones([3, 1024]) # Batch, Seq\n",
    "text_output = torch.ones([3, 768]) # Batch, Seq\n",
    "\n",
    "\n",
    "# Performs a batch matrix-matrix product of matrices stored in input and mat2.\n",
    "matmul_output = torch.bmm(audio_output.unsqueeze_(2), text_output.unsqueeze_(1))\n",
    "print(matmul_output.unsqueeze_(1).shape) # Batch, Color, Width, Hight\n",
    "\n",
    "\n",
    "model = MLPMixer(\n",
    "    image_size = (1024, 768),\n",
    "    channels = 1,\n",
    "    patch_size = 16,\n",
    "    dim = 512,\n",
    "    depth = 12,\n",
    "    num_classes = 7\n",
    ")\n",
    "pred = model(matmul_output) \n",
    "print(pred.shape)\n",
    "\n"
   ]
  },
  {
   "attachments": {},
   "cell_type": "markdown",
   "metadata": {},
   "source": [
    "## AI-Hub dataset\n"
   ]
  },
  {
   "cell_type": "code",
   "execution_count": null,
   "metadata": {},
   "outputs": [],
   "source": [
    "import os \n",
    "from glob import glob\n",
    "\n",
    "def get_hub_txt(self, txt: str, encoding: str = None)-> Tuple[torch.Tensor, torch.Tensor]:\n",
    "    if self.tokenizer:\n",
    "        result: dict = self.tokenizer(text=txt,\n",
    "                                    padding=\"max_length\",\n",
    "                                    truncation=\"only_first\",\n",
    "                                    max_length=self.max_length_txt,\n",
    "                                    return_attention_mask=True,\n",
    "                                    return_tensors=\"pt\")\n",
    "        input_ids = result[\"input_ids\"].squeeze()\n",
    "        mask = result[\"attention_mask\"].squeeze()\n",
    "        return input_ids, mask\n",
    "    else:\n",
    "        return txt, None\n",
    "    \n",
    "class AIHubDialog():\n",
    "    # PRETRAINED_DATA_PATH = '/home/hoesungryu/workspace/AI-Hub_emotion_dialog'\n",
    "    def __init__(self, PRETRAINED_DATA_PATH):\n",
    "        self.txt_folder = sorted(glob(os.path.join(PRETRAINED_DATA_PATH,'annotation')+'/*.csv'))\n",
    "        self.wav_folder = sorted(glob(os.path.join(PRETRAINED_DATA_PATH,'wav')+'/*.wav'))\n",
    "\n",
    "    def __len__(self):\n",
    "        assert len(glob(self.wav_folder)) == len(glob(self.txt_folder))\n",
    "        return len(glob(self.wav_folder)) \n",
    "    \n",
    "    def __getitem__(self, idx:int):\n",
    "        data = {}\n",
    "        txt, _, emotion = pd.read_csv(self.txt_folder[idx]).iloc[0].values\n",
    "    \n",
    "        # Txt File\n",
    "        txt, txt_mask = self.get_hub_txt(txt_path=txt, encoding=self.TEXT_ENCODING)\n",
    "        data[\"txt\"] = txt\n",
    "        data[\"txt_mask\"] = txt_mask\n",
    "    \n",
    "        # emotion \n",
    "        data[\"emotion\"] = self.get_emo(emotion)\n",
    "\n",
    "        sampling_rate, wav, wav_mask = self.get_wav(wav_path=self.wav_folder[idx])\n",
    "        data[\"sampling_rate\"] = sampling_rate\n",
    "        data[\"wav\"] = wav\n",
    "        data[\"wav_mask\"] = wav_mask\n",
    "\n",
    "        return data\n",
    "    \n",
    "import random \n",
    "random.seed(42)\n",
    "\n",
    "@staticmethod\n",
    "def sampling_with_ratio(total_len : int, train_ratio = 0.8):\n",
    "    total_len = wav_folder \n",
    "    total_idx = [i for i in range(total_len)]\n",
    "    train_num = int(total_len * train_ratio)\n",
    "\n",
    "    train_idx = random.sample(total_idx, train_num)\n",
    "    valid_idx = list(set(total_idx) - set(train_idx))\n",
    "\n",
    "    return train_idx, valid_idx\n",
    "\n",
    "@staticmethod\n",
    "def get_multiple_elements_in_list(in_list, in_indices):\n",
    "    \"\"\"리스트에서 복수인덱스 값을 가져온다\"\"\"\n",
    "    return [in_list[i] for i in in_indices]"
   ]
  },
  {
   "attachments": {},
   "cell_type": "markdown",
   "metadata": {},
   "source": [
    "## Weighted Cross-entropy\n"
   ]
  },
  {
   "cell_type": "code",
   "execution_count": null,
   "metadata": {},
   "outputs": [],
   "source": [
    "# Get Centroid ... \n",
    "from collections import defaultdict\n",
    "\n",
    "emotion_va_dic = defaultdict(dict)\n",
    "\n",
    "emotion_va_dic[emotion+'_arousal'] = arousal\n",
    "emotion_va_dic[emotion+'_valence'] = valence\n",
    "\n"
   ]
  },
  {
   "cell_type": "code",
   "execution_count": null,
   "metadata": {},
   "outputs": [],
   "source": [
    "for emotion_idx in range(0,7):\n",
    "    "
   ]
  },
  {
   "cell_type": "code",
   "execution_count": null,
   "metadata": {},
   "outputs": [],
   "source": [
    "import logging\n",
    "import hydra\n",
    "\n",
    "import erc\n",
    "from torch.utils.data import DataLoader\n",
    "from datasets import load_from_disk\n",
    "\n",
    "train_dataset = load_from_disk(\"/home/hoesungryu/etri-erc/kemdy19-kemdy20_train4\")\n",
    "valid_dataset = load_from_disk(\"/home/hoesungryu/etri-erc/kemdy19-kemdy20_valid4\")\n",
    "\n",
    "\n",
    "train_dataloadaer = DataLoader(train_dataset, batch_size=2)\n",
    "sample = next(iter(train_dataloadaer))"
   ]
  },
  {
   "cell_type": "code",
   "execution_count": null,
   "metadata": {},
   "outputs": [],
   "source": [
    "train_dataset[train_dataset['emotion'] ==3]"
   ]
  },
  {
   "cell_type": "code",
   "execution_count": null,
   "metadata": {},
   "outputs": [],
   "source": [
    "train_dataset['emotion'].numpy()"
   ]
  },
  {
   "cell_type": "code",
   "execution_count": null,
   "metadata": {},
   "outputs": [],
   "source": [
    "\n",
    "class_count = Counter(train_dataset['emotion'].detach().cpu().numpy())\n",
    "class_count"
   ]
  },
  {
   "cell_type": "code",
   "execution_count": null,
   "metadata": {},
   "outputs": [],
   "source": [
    "nSamples = class_count.values()\n",
    "nSamples"
   ]
  },
  {
   "cell_type": "code",
   "execution_count": null,
   "metadata": {},
   "outputs": [],
   "source": [
    "import torch\n",
    "# nSamples = [887, 6130, 480, 317, 972, 101, 128]\n",
    "normedWeights = torch.FloatTensor([1 - (x / sum(nSamples)) for x in nSamples])\n",
    "# normedWeights = torch.FloatTensor(normedWeights)\n",
    "\n",
    "loss = nn.CrossEntropyLoss(normedWeights)\n"
   ]
  },
  {
   "cell_type": "code",
   "execution_count": null,
   "metadata": {},
   "outputs": [],
   "source": [
    "import logging\n",
    "import hydra\n",
    "import torch.nn as  nn \n",
    "import erc\n",
    "from torch.utils.data import DataLoader\n",
    "from datasets import load_from_disk\n",
    "\n",
    "train_dataset = load_from_disk(\"/home/hoesungryu/etri-erc/kemdy19-kemdy20_train4\")\n",
    "valid_dataset = load_from_disk(\"/home/hoesungryu/etri-erc/kemdy19-kemdy20_valid4\")\n",
    "\n",
    "\n",
    "# from collections import Counter\n",
    "\n",
    "# def get_classweights(traindataset)-> torch.FloatTensor:\n",
    "#     class_count = Counter(traindataset['emotion'].numpy())\n",
    "#     nSamples = class_count.values()\n",
    "#     normedWeights = [1 - (x / sum(nSamples)) for x in nSamples]\n",
    "#     return torch.FloatTensor(normedWeights)\n",
    "\n",
    "# train_normedWeight = get_classweights(train_dataset)\n",
    "# valid_normedWeight = get_classweights(valid_dataset)\n"
   ]
  },
  {
   "cell_type": "code",
   "execution_count": null,
   "metadata": {},
   "outputs": [],
   "source": [
    "# loss = nn.CrossEntropyLoss(train_normedWeight)\n",
    "train_normedWeight\n"
   ]
  },
  {
   "attachments": {},
   "cell_type": "markdown",
   "metadata": {},
   "source": [
    "## Get Ground Truth emotion in Multi-label-class\n",
    "\n",
    "```python \n",
    "\n",
    "logits = self.mlp_mixer(matmul_output) # (B, num_labels)\n",
    "\n",
    "# calcuate the loss fct\n",
    "cls_logits = logits[:, :-2]\n",
    "cls_labels = labels[\"emotion\"]\n",
    "if cls_labels.ndim == 1:\n",
    "    # Single label case\n",
    "    cls_loss = self.criterions[\"cls\"](cls_logits, cls_labels.long())\n",
    "elif cls_labels.ndim == 2:\n",
    "    # Multi label case\n",
    "    cls_loss = self.criterions[\"cls\"](cls_logits, cls_labels.float())\n",
    "    cls_labels = labels[\"emotion_deuce\"] # trainer 도 바꿔줘야됨 ... \n",
    "\n",
    "reg_logits = logits[:, -2:]\n",
    "reg_loss = self.criterions[\"reg\"](reg_logits, labels[\"regress\"].float())\n",
    "\n",
    "total_loss = cls_loss * self.cls_coef + reg_loss * self.reg_coef\n",
    "return {\n",
    "    \"loss\": total_loss,\n",
    "    \"cls_loss\": cls_loss.detach().cpu(),\n",
    "    \"reg_loss\": reg_loss.detach().cpu(),\n",
    "    \"emotion\": cls_labels.detach(),\n",
    "    \"regress\": labels[\"regress\"].detach(),\n",
    "    \"cls_pred\": cls_logits.detach(),\n",
    "    \"reg_pred\": reg_logits.detach(),\n",
    "}\n",
    "\n",
    "```"
   ]
  },
  {
   "cell_type": "code",
   "execution_count": null,
   "metadata": {},
   "outputs": [],
   "source": [
    "# get centroid \n",
    "import logging\n",
    "import hydra\n",
    "import pandas as pd\n",
    "\n",
    "\n",
    "import torch.nn as  nn \n",
    "\n",
    "from torch.utils.data import DataLoader\n",
    "from datasets import load_from_disk\n",
    "\n",
    "import erc\n",
    "\n",
    "train_dataset = load_from_disk(\"/home/hoesungryu/etri-erc/kemdy19-kemdy20_train4\")\n",
    "valid_dataset = load_from_disk(\"/home/hoesungryu/etri-erc/kemdy19-kemdy20_valid4\")\n",
    "\n",
    "\n",
    "def dataset2df(dataset, columns = ['emotion','valence','arousal']):\n",
    "    df = pd.DataFrame()\n",
    "    for column in columns:\n",
    "        df[column] = dataset[column]\n",
    "    return df\n",
    "\n",
    "train_df = dataset2df(train_dataset)\n",
    "valid_df = dataset2df(valid_dataset)\n",
    "\n",
    "total_df = pd.concat([train_df,valid_df], axis=0)\n",
    "display(total_df)\n",
    "# Get Centroid ... \n",
    "from collections import defaultdict\n",
    "\n",
    "emotion_va_dict = defaultdict(dict)\n",
    "\n",
    "for emotion_idx in range(0,7):\n",
    "    valence = total_df[total_df['emotion']==emotion_idx]['valence'].mean()\n",
    "    arousal = total_df[total_df['emotion']==emotion_idx]['arousal'].mean()\n",
    "    # print()\n",
    "    emotion_va_dict[f'{emotion_idx}_centroid'] = (valence, arousal)\n",
    "emotion_va_dict"
   ]
  },
  {
   "cell_type": "code",
   "execution_count": null,
   "metadata": {},
   "outputs": [],
   "source": [
    "# get centroid \n",
    "import logging\n",
    "import hydra\n",
    "import pandas as pd\n",
    "\n",
    "\n",
    "import torch.nn as  nn \n",
    "\n",
    "from torch.utils.data import DataLoader\n",
    "from datasets import load_from_disk\n",
    "\n",
    "import erc\n",
    "\n",
    "train_dataset = load_from_disk(\"/home/hoesungryu/etri-erc/kemdy19_train4\")\n",
    "valid_dataset = load_from_disk(\"/home/hoesungryu/etri-erc/kemdy19_valid4\")\n",
    "\n",
    "\n",
    "def dataset2df(dataset, columns = ['emotion','valence','arousal']):\n",
    "    df = pd.DataFrame()\n",
    "    for column in columns:\n",
    "        df[column] = dataset[column]\n",
    "    return df\n",
    "\n",
    "train_df = dataset2df(train_dataset)\n",
    "valid_df = dataset2df(valid_dataset)\n",
    "\n",
    "total_df = pd.concat([train_df,valid_df], axis=0)\n",
    "display(total_df)\n",
    "# Get Centroid ... \n",
    "from collections import defaultdict\n",
    "\n",
    "emotion_va_dict = defaultdict(dict)\n",
    "\n",
    "for emotion_idx in range(0,7):\n",
    "    valence = total_df[total_df['emotion']==emotion_idx]['valence'].mean()\n",
    "    arousal = total_df[total_df['emotion']==emotion_idx]['arousal'].mean()\n",
    "    # print()\n",
    "    emotion_va_dict[f'{emotion_idx}_centroid'] = (valence, arousal)\n",
    "emotion_va_dict"
   ]
  },
  {
   "cell_type": "code",
   "execution_count": null,
   "metadata": {},
   "outputs": [],
   "source": [
    "# get centroid \n",
    "import logging\n",
    "import hydra\n",
    "import pandas as pd\n",
    "\n",
    "\n",
    "import torch.nn as  nn \n",
    "\n",
    "from torch.utils.data import DataLoader\n",
    "from datasets import load_from_disk\n",
    "\n",
    "import erc\n",
    "\n",
    "train_dataset = load_from_disk(\"/home/hoesungryu/etri-erc/kemdy20_train4\")\n",
    "valid_dataset = load_from_disk(\"/home/hoesungryu/etri-erc/kemdy20_valid4\")\n",
    "\n",
    "\n",
    "def dataset2df(dataset, columns = ['emotion','valence','arousal']):\n",
    "    df = pd.DataFrame()\n",
    "    for column in columns:\n",
    "        df[column] = dataset[column]\n",
    "    return df\n",
    "\n",
    "train_df = dataset2df(train_dataset)\n",
    "valid_df = dataset2df(valid_dataset)\n",
    "\n",
    "total_df = pd.concat([train_df,valid_df], axis=0)\n",
    "display(total_df)\n",
    "# Get Centroid ... \n",
    "from collections import defaultdict\n",
    "\n",
    "emotion_va_dict = defaultdict(dict)\n",
    "\n",
    "for emotion_idx in range(0,7):\n",
    "    valence = total_df[total_df['emotion']==emotion_idx]['valence'].mean()\n",
    "    arousal = total_df[total_df['emotion']==emotion_idx]['arousal'].mean()\n",
    "    # print()\n",
    "    emotion_va_dict[f'{emotion_idx}_centroid'] = (valence, arousal)\n",
    "emotion_va_dict"
   ]
  },
  {
   "cell_type": "code",
   "execution_count": null,
   "metadata": {},
   "outputs": [],
   "source": [
    "# transformation \n",
    "\n",
    "import erc\n",
    "\n",
    "validation_fold: int = 4\n",
    "PRETRAINED_DATA_PATH: str = \"./aihub\"\n",
    "mode: str = \"train\"\n",
    "wav_processor: str = \"kresnik/wav2vec2-large-xlsr-korean\"\n",
    "sampling_rate: int = 16_000\n",
    "wav_max_length: int = 112_000 # 16_000 * 7, 7secs duration\n",
    "txt_processor: str = \"klue/bert-base\"\n",
    "txt_max_length: int = 64\n",
    "multilabel: bool = True\n",
    "load_from_cache_file: bool = True\n",
    "num_proc: int = 8\n",
    "batched: bool = True\n",
    "batch_size: int = 1000 # Not a torch batch_size\n",
    "writer_batch_size: int = 1000\n",
    "num_data: int = None\n",
    "preprocess: bool = True\n",
    "\n",
    "\n",
    "ds_kwargs = dict(\n",
    "    # Note for hard-coded kwargs\n",
    "    # generate_csv=False,\n",
    "    return_bio=False,\n",
    "    tokenizer_name=None,\n",
    "    max_length_wav=wav_max_length,\n",
    "    max_length_txt=txt_max_length,\n",
    "    multilabel=multilabel,\n",
    "    validation_fold=validation_fold,\n",
    "    mode=mode,\n",
    "    num_data=num_data,\n",
    "    # PRETRAINED_DATA_PATH=PRETRAINED_DATA_PATH,\n",
    ")\n",
    "\n",
    "ds = erc.datasets.KEMDDataset(**ds_kwargs)"
   ]
  },
  {
   "cell_type": "code",
   "execution_count": null,
   "metadata": {},
   "outputs": [],
   "source": [
    "# from erc.constants import emotion_va_19_dict, emotion_va_20_dict, emotion_va_19_20_dict\n",
    "\n",
    "# # paths from HF_KEMD __init__ paths\n",
    "\n",
    "# if paths =='kemdy19':\n",
    "#     emotion_va_dict = emotion_va_19_dict\n",
    "# elif paths == 'kemdy20':\n",
    "#     emotion_va_dict = emotion_va_20_dict\n",
    "# elif paths == 'kemdy19-kemdy20':\n",
    "#     emotion_va_dict = emotion_va_19_20_dict\n",
    "\n",
    "# def find_deuce_label(regress : torch.tensor, deuce_mask : torch.tensor) -> torch.tensor:\n",
    "#     '''\n",
    "#     Summary:\n",
    "#         동률인 것 중 거리가 가장 작은 것을 사용하여 라벨을 확정한다. \n",
    "#     Input\n",
    "#        regress = torch.tensor([valence, arousal])\n",
    "#        deuce_maks = tensor([False,  True, False,  True, False, False, False])\n",
    "#     Output\n",
    "#         return minmum index in deuce_mask\n",
    "#     '''\n",
    "    \n",
    "#     deuce_mask = deuce_mask.nonzero().squeeze().numpy()\n",
    "#     total_dist = []\n",
    "#     for index in deuce_mask:\n",
    "#         item = emotion_va_dict[f'{index}_centroid']\n",
    "#         tmp_va_tensor = torch.tensor(item)\n",
    "        \n",
    "#         tmp_dist = torch.norm(regress-tmp_va_tensor, 2, dim=0)\n",
    "#         total_dist.append(tmp_dist)\n",
    "\n",
    "#     total_dist = torch.stack(total_dist, -1) # reshape -1 \n",
    "#     return torch.tensor(deuce_mask[total_dist.argmin()]) # select minumum value index\n",
    "\n",
    "\n",
    "\n",
    "# for batch in ds:\n",
    "#     tmp_emotion = torch.tensor(batch['emotion'].astype(float))\n",
    "#     deuce_mask = (tmp_emotion == tmp_emotion.max())\n",
    "#     if len(tmp_emotion[deuce_mask]) > 1:\n",
    "#         regress = torch.stack([batch['valence'], batch[\"arousal\"]])\n",
    "#         gt_emotion = find_deuce_label(regress, deuce_mask)\n",
    "\n",
    "#     else:\n",
    "#         gt_emotion = tmp_emotion.argmax()\n"
   ]
  },
  {
   "cell_type": "code",
   "execution_count": null,
   "metadata": {},
   "outputs": [],
   "source": [
    "torch.ones(7,).argmax()"
   ]
  },
  {
   "cell_type": "code",
   "execution_count": null,
   "metadata": {},
   "outputs": [],
   "source": [
    "torch.tensor([0.0000, 0.4000, 0.2000, 0.4000, 0.0000, 0.0000, 0.0000]).argmax()"
   ]
  },
  {
   "cell_type": "code",
   "execution_count": null,
   "metadata": {},
   "outputs": [],
   "source": [
    "deuce_mask == True\n",
    "for index in deuce_mask.nonzero().squeeze().numpy():\n",
    "    print(index)"
   ]
  },
  {
   "attachments": {},
   "cell_type": "markdown",
   "metadata": {},
   "source": [
    "## Training model using PEFT \n"
   ]
  },
  {
   "cell_type": "code",
   "execution_count": null,
   "metadata": {},
   "outputs": [],
   "source": [
    "# !pip install -q git+https://github.com/huggingface/peft.git"
   ]
  },
  {
   "cell_type": "code",
   "execution_count": null,
   "metadata": {},
   "outputs": [],
   "source": [
    "from peft import get_peft_model, LoraConfig, TaskType\n",
    "peft_config = LoraConfig(\n",
    "    task_type=TaskType.SEQ_CLS,\n",
    "    target_modules=[\"q_proj\", \"v_proj\"],\n",
    "    inference_mode=False, r=8, lora_alpha=32, lora_dropout=0.1\n",
    ")"
   ]
  },
  {
   "cell_type": "code",
   "execution_count": null,
   "metadata": {},
   "outputs": [],
   "source": [
    "from transformers import Wav2Vec2ForSequenceClassification, BertForSequenceClassification, AutoModelForSequenceClassification\n",
    "\n",
    "wav_name = \"kresnik/wav2vec2-large-xlsr-korean\"\n",
    "# wav_name = \"roberta-large\"\n",
    "wav_model_ = Wav2Vec2ForSequenceClassification.from_pretrained(wav_name).wav2vec2\n",
    "# wav_model = AutoModelForSequenceClassification.from_pretrained(wav_name)\n",
    "wav_model_ = get_peft_model(wav_model_, peft_config)\n",
    "# wav_model = wav_model_.wav2vec2\n"
   ]
  },
  {
   "cell_type": "code",
   "execution_count": null,
   "metadata": {},
   "outputs": [],
   "source": [
    "wav_model = get_peft_model(wav_model, peft_config)"
   ]
  },
  {
   "cell_type": "code",
   "execution_count": null,
   "metadata": {},
   "outputs": [],
   "source": [
    "import torch\n",
    "sampel_wav = torch.randn([3,112000])\n",
    "\n",
    "wav_model_(sampel_wav)"
   ]
  },
  {
   "cell_type": "code",
   "execution_count": null,
   "metadata": {},
   "outputs": [],
   "source": [
    "from transformers import Wav2Vec2ForSequenceClassification, BertForSequenceClassification\n",
    "\n",
    "\n",
    "from peft import get_peft_model, LoraConfig, TaskType\n",
    "peft_config = LoraConfig(\n",
    "    task_type=TaskType.SEQ_CLS,\n",
    "    # target_modules=[\"q_proj\", \"v_proj\"],\n",
    "    inference_mode=False, \n",
    "    r=8, \n",
    "    lora_alpha=32,\n",
    "    lora_dropout=0.1\n",
    ")\n",
    "\n",
    "\n",
    "txt_model = BertForSequenceClassification.from_pretrained(\"klue/bert-base\")\n",
    "model = get_peft_model(txt_model, peft_config)"
   ]
  },
  {
   "cell_type": "code",
   "execution_count": null,
   "metadata": {},
   "outputs": [],
   "source": [
    "sampel_wav = torch.randn([3,112000])\n",
    "model(sampel_wav)"
   ]
  },
  {
   "cell_type": "code",
   "execution_count": null,
   "metadata": {},
   "outputs": [],
   "source": [
    "def print_trainable_parameters(model):\n",
    "    \"\"\"\n",
    "    Prints the number of trainable parameters in the model.\n",
    "    \"\"\"\n",
    "    trainable_params = 0\n",
    "    all_param = 0\n",
    "    for _, param in model.named_parameters():\n",
    "        all_param += param.numel()\n",
    "        if param.requires_grad:\n",
    "            trainable_params += param.numel()\n",
    "    print(\n",
    "        f\"trainable params: {trainable_params} || all params: {all_param} || trainable%: {100 * trainable_params / all_param}\"\n",
    "    )"
   ]
  },
  {
   "cell_type": "code",
   "execution_count": null,
   "metadata": {},
   "outputs": [],
   "source": []
  },
  {
   "cell_type": "code",
   "execution_count": null,
   "metadata": {},
   "outputs": [],
   "source": [
    "print_trainable_parameters(model)"
   ]
  },
  {
   "cell_type": "code",
   "execution_count": null,
   "metadata": {},
   "outputs": [],
   "source": [
    "print_trainable_parameters(model)"
   ]
  },
  {
   "cell_type": "code",
   "execution_count": null,
   "metadata": {},
   "outputs": [],
   "source": [
    "dir(TaskType)"
   ]
  },
  {
   "cell_type": "code",
   "execution_count": null,
   "metadata": {},
   "outputs": [],
   "source": [
    "emotion_va_dict = {\n",
    "    '0_centroid': (2.7013428, 3.6017902),\n",
    "    '1_centroid': (1.8056872, 3.5810425),\n",
    "    '2_centroid': (1.8337096, 3.7831194),\n",
    "    '3_centroid': (2.989782, 3.1387265),\n",
    "    '4_centroid': (4.093699, 3.7420354),\n",
    "    '5_centroid': (1.9814088, 2.6549654),\n",
    "    '6_centroid': (2.2050884, 3.1471236)}"
   ]
  },
  {
   "cell_type": "code",
   "execution_count": null,
   "metadata": {},
   "outputs": [],
   "source": [
    "emotion_va_dict[1]"
   ]
  },
  {
   "cell_type": "code",
   "execution_count": null,
   "metadata": {},
   "outputs": [],
   "source": [
    "import torch\n",
    "cls_logits   = torch.randn([3, 9]) # Batch, Seq\n",
    "cls_labels  = torch.ones([3, 9]) # Batch, Seq\n",
    "\n",
    "emotion = torch.ones(1)\n",
    "gt_arousal = torch.tensor([[3.],[2.0],[3.1]])# labels[\"arousal\"]\n",
    "gt_valence = torch.tensor([[3.],[2.0],[3.1]])# labels[\"valence\"]\n",
    "\n",
    "print('pred:\\n',cls_logits)\n",
    "print('gt:\\n',cls_labels)"
   ]
  },
  {
   "cell_type": "code",
   "execution_count": null,
   "metadata": {},
   "outputs": [],
   "source": [
    "elif cls_labels.ndim == 2:\n",
    "    cls_loss = self.criterions[\"cls\"](cls_logits, cls_labels.float())\n",
    "\n",
    "    print(cls_labels.max(dim=1).values)\n",
    "    if len(cls_labels.max(dim=1).values) > 1:\n",
    "        # Compare distance with Centroid    \n",
    "    else:\n",
    "        # \n",
    "        cls_labels = cls_labels.argmax(dim=1)\n",
    "\n",
    "    \n",
    "print(len(cls_labels.max(dim=1).values))"
   ]
  },
  {
   "cell_type": "code",
   "execution_count": null,
   "metadata": {},
   "outputs": [],
   "source": []
  },
  {
   "cell_type": "code",
   "execution_count": null,
   "metadata": {},
   "outputs": [],
   "source": [
    "cls_labels  = torch.ones([3, 9]) # Batch, Seq\n",
    "if len(cls_labels.max(dim=1).values) > 1:\n",
    "    "
   ]
  },
  {
   "cell_type": "code",
   "execution_count": null,
   "metadata": {},
   "outputs": [],
   "source": [
    "cls_labels  = torch.randn([3, 9]) # Batch, Seq\n",
    "cls_labels.argmax(dim=1)"
   ]
  },
  {
   "cell_type": "code",
   "execution_count": null,
   "metadata": {},
   "outputs": [],
   "source": []
  },
  {
   "cell_type": "code",
   "execution_count": null,
   "metadata": {},
   "outputs": [],
   "source": []
  },
  {
   "cell_type": "code",
   "execution_count": null,
   "metadata": {},
   "outputs": [],
   "source": []
  },
  {
   "cell_type": "code",
   "execution_count": null,
   "metadata": {},
   "outputs": [],
   "source": []
  },
  {
   "cell_type": "code",
   "execution_count": null,
   "metadata": {},
   "outputs": [],
   "source": []
  },
  {
   "cell_type": "code",
   "execution_count": null,
   "metadata": {},
   "outputs": [],
   "source": []
  },
  {
   "cell_type": "code",
   "execution_count": null,
   "metadata": {},
   "outputs": [],
   "source": [
    "gt_emotion"
   ]
  },
  {
   "cell_type": "code",
   "execution_count": null,
   "metadata": {},
   "outputs": [],
   "source": [
    "tmp_emotion"
   ]
  },
  {
   "cell_type": "code",
   "execution_count": null,
   "metadata": {},
   "outputs": [],
   "source": [
    "regress"
   ]
  },
  {
   "cell_type": "code",
   "execution_count": null,
   "metadata": {},
   "outputs": [],
   "source": [
    "tmp_emotion"
   ]
  },
  {
   "cell_type": "code",
   "execution_count": null,
   "metadata": {},
   "outputs": [],
   "source": [
    "regress"
   ]
  },
  {
   "cell_type": "code",
   "execution_count": null,
   "metadata": {},
   "outputs": [],
   "source": [
    "tmp_emotion = torch.tensor([3,1,3,1,0,2,0])\n",
    "emotion_max = tmp_emotion.max()\n",
    "\n",
    "# max 값이 두개 이상이면 그때 거리로 구한다. \n",
    "if len(tmp_emotion[tmp_emotion == tmp_emotion.max()]) > 1:\n",
    "    \n",
    "\n"
   ]
  },
  {
   "cell_type": "code",
   "execution_count": null,
   "metadata": {},
   "outputs": [],
   "source": [
    "ds_kwargs = dict(\n",
    "    # Note for hard-coded kwargs\n",
    "    # generate_csv=False,\n",
    "    return_bio=False,\n",
    "    tokenizer_name=None,\n",
    "    max_length_wav=wav_max_length,\n",
    "    max_length_txt=txt_max_length,\n",
    "    multilabel=multilabel,\n",
    "    validation_fold=validation_fold,\n",
    "    mode=\"valid\",\n",
    "    num_data=num_data,\n",
    "    # PRETRAINED_DATA_PATH=PRETRAINED_DATA_PATH,\n",
    ")\n",
    "\n",
    "ds = erc.datasets.KEMDDataset(**ds_kwargs)"
   ]
  },
  {
   "cell_type": "code",
   "execution_count": null,
   "metadata": {},
   "outputs": [],
   "source": [
    "for batch in ds:\n",
    "    tmp_emotion = torch.tensor(batch['emotion'].astype(float))\n",
    "    if len(tmp_emotion.unique()) > 1:\n",
    "        continue\n",
    "        gt_emotion = tmp_emotion.argmax()\n",
    "    else:\n",
    "        regress = torch.stack([batch['valence'], batch[\"arousal\"]])\n",
    "        gt_emotion = find_duece_label(regress)\n",
    "        break"
   ]
  },
  {
   "cell_type": "code",
   "execution_count": null,
   "metadata": {},
   "outputs": [],
   "source": []
  },
  {
   "cell_type": "code",
   "execution_count": null,
   "metadata": {},
   "outputs": [],
   "source": []
  },
  {
   "cell_type": "code",
   "execution_count": null,
   "metadata": {},
   "outputs": [],
   "source": [
    "gt_emotion"
   ]
  },
  {
   "cell_type": "code",
   "execution_count": null,
   "metadata": {},
   "outputs": [],
   "source": [
    "if len(tmp_emotion.unique()) > 1:\n",
    "    gt_emotion = tmp_emotion.argmax()\n",
    "else:\n",
    "    gt_emotion = find_duece_label(tmp_emotion)"
   ]
  },
  {
   "cell_type": "code",
   "execution_count": null,
   "metadata": {},
   "outputs": [],
   "source": [
    "tmp_emotion.shape"
   ]
  },
  {
   "cell_type": "code",
   "execution_count": null,
   "metadata": {},
   "outputs": [],
   "source": [
    "print(tmp_emotion.unique())\n",
    "print(len(tmp_emotion.unique()))"
   ]
  },
  {
   "cell_type": "code",
   "execution_count": null,
   "metadata": {},
   "outputs": [],
   "source": [
    "tmp_emotion.max()"
   ]
  },
  {
   "cell_type": "code",
   "execution_count": null,
   "metadata": {},
   "outputs": [],
   "source": [
    "cls_labels  = torch.ones(7,) # Batch, Seq\n",
    "cls_labels"
   ]
  },
  {
   "cell_type": "code",
   "execution_count": null,
   "metadata": {},
   "outputs": [],
   "source": [
    "cls_labels.unique()"
   ]
  },
  {
   "cell_type": "code",
   "execution_count": null,
   "metadata": {},
   "outputs": [],
   "source": [
    "    \n",
    "print(len(cls_labels.max(dim=1).values))"
   ]
  },
  {
   "cell_type": "code",
   "execution_count": null,
   "metadata": {},
   "outputs": [],
   "source": [
    "def check"
   ]
  },
  {
   "cell_type": "code",
   "execution_count": null,
   "metadata": {},
   "outputs": [],
   "source": [
    "for batch in ds:\n",
    "    regress = torch.stack([batch['valence'], batch[\"arousal\"]])\n",
    "    print(regress)\n",
    "    break"
   ]
  },
  {
   "cell_type": "code",
   "execution_count": null,
   "metadata": {},
   "outputs": [],
   "source": []
  },
  {
   "cell_type": "code",
   "execution_count": null,
   "metadata": {},
   "outputs": [],
   "source": []
  },
  {
   "cell_type": "code",
   "execution_count": null,
   "metadata": {},
   "outputs": [],
   "source": [
    "total_dist"
   ]
  },
  {
   "cell_type": "code",
   "execution_count": null,
   "metadata": {},
   "outputs": [],
   "source": []
  },
  {
   "cell_type": "code",
   "execution_count": null,
   "metadata": {},
   "outputs": [],
   "source": [
    "total_dist = torch.stack(total_dist, -1)"
   ]
  },
  {
   "cell_type": "code",
   "execution_count": null,
   "metadata": {},
   "outputs": [],
   "source": [
    "total_dist"
   ]
  },
  {
   "cell_type": "code",
   "execution_count": null,
   "metadata": {},
   "outputs": [],
   "source": [
    "outx = []\n",
    "for i in range(5):\n",
    "    tmp = net(x) # this will return a 10x10 tensor\n",
    "    outx.append(tmp)\n",
    "\n",
    "outx = torch.stack(outx, 2)"
   ]
  },
  {
   "cell_type": "code",
   "execution_count": null,
   "metadata": {},
   "outputs": [],
   "source": [
    "regress = torch.tensor([[ds[0]['valence'], ds[0]['arousal']],\n",
    "                       [ds[1]['valence'], ds[1]['arousal']],\n",
    "                       [ds[2]['valence'], ds[2]['arousal']],\n",
    "                    ])"
   ]
  },
  {
   "cell_type": "code",
   "execution_count": null,
   "metadata": {},
   "outputs": [],
   "source": [
    "regress"
   ]
  },
  {
   "cell_type": "code",
   "execution_count": null,
   "metadata": {},
   "outputs": [],
   "source": [
    "regress.shape"
   ]
  },
  {
   "cell_type": "code",
   "execution_count": null,
   "metadata": {},
   "outputs": [],
   "source": [
    "torch.norm(regress-regress, 2, dim=1)"
   ]
  },
  {
   "cell_type": "code",
   "execution_count": null,
   "metadata": {},
   "outputs": [],
   "source": []
  },
  {
   "cell_type": "code",
   "execution_count": null,
   "metadata": {},
   "outputs": [],
   "source": [
    "tmp_va_tensor = torch.tensor((1.9814088, 2.6549654))\n",
    "batch_size = 3\n",
    "tmp_va_tensor.repeat(batch_size,1)"
   ]
  },
  {
   "cell_type": "code",
   "execution_count": null,
   "metadata": {},
   "outputs": [],
   "source": [
    "batch_size, *_ = regress.shape\n",
    "\n",
    "total_dist = []\n",
    "total_dist = torch.tensor()\n",
    "for key, item in emotion_va_dict.items():\n",
    "    tmp_va_tensor = torch.tensor(item).repeat(batch_size,1)\n",
    "    \n",
    "    tmp_dist = torch.norm(regress-tmp_va_tensor, 2, dim=1)\n",
    "    total_dist.append(tmp_dist)\n",
    "    \n",
    "    \n"
   ]
  },
  {
   "cell_type": "code",
   "execution_count": null,
   "metadata": {},
   "outputs": [],
   "source": [
    "total_dist\n"
   ]
  },
  {
   "cell_type": "code",
   "execution_count": null,
   "metadata": {},
   "outputs": [],
   "source": []
  },
  {
   "cell_type": "code",
   "execution_count": null,
   "metadata": {},
   "outputs": [],
   "source": [
    "torch.norm(regress, tmp_va_tensor)"
   ]
  },
  {
   "cell_type": "code",
   "execution_count": null,
   "metadata": {},
   "outputs": [],
   "source": [
    "labels = {}\n",
    "for batch in ds:\n",
    "    torch.stack([batch[\"valence\"], batch[\"arousal\"]], dim=1).float()\n",
    "    break"
   ]
  },
  {
   "cell_type": "code",
   "execution_count": null,
   "metadata": {},
   "outputs": [],
   "source": []
  },
  {
   "attachments": {},
   "cell_type": "markdown",
   "metadata": {},
   "source": [
    "## Load weight with Torchlightning\n"
   ]
  },
  {
   "cell_type": "code",
   "execution_count": null,
   "metadata": {},
   "outputs": [],
   "source": [
    "from erc.trainer import ERCModule\n",
    "from erc.model import MLP_Mixer\n",
    "\n",
    "WEIGHTS_PATH = '/home/hoesungryu/etri-erc/weights_AI_HUB/26908-valid_acc0.994.ckpt'\n",
    "\n",
    "erc.trainer.train(config)\n",
    "model = ERCModule(MLP_Mixer).load_from_checkpoint(WEIGHTS_PATH)\n",
    "print(model.learning_rate)"
   ]
  },
  {
   "attachments": {},
   "cell_type": "markdown",
   "metadata": {},
   "source": [
    "## Change loss function\n",
    "\n",
    "```python\n",
    "erc.optims.multi_class_focal_loss import FocalLoss\n",
    "```\n",
    "\n"
   ]
  },
  {
   "cell_type": "code",
   "execution_count": null,
   "metadata": {},
   "outputs": [],
   "source": []
  }
 ],
 "metadata": {
  "kernelspec": {
   "display_name": "erc",
   "language": "python",
   "name": "python3"
  },
  "language_info": {
   "codemirror_mode": {
    "name": "ipython",
    "version": 3
   },
   "file_extension": ".py",
   "mimetype": "text/x-python",
   "name": "python",
   "nbconvert_exporter": "python",
   "pygments_lexer": "ipython3",
   "version": "3.10.9"
  },
  "orig_nbformat": 4
 },
 "nbformat": 4,
 "nbformat_minor": 2
}
