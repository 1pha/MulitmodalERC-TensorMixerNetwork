{
 "cells": [
  {
   "cell_type": "code",
   "execution_count": 1,
   "metadata": {},
   "outputs": [],
   "source": [
    "import logging\n",
    "\n",
    "import hydra\n",
    "\n",
    "logger = logging.getLogger(__name__)\n",
    "logger.setLevel(logging.INFO)"
   ]
  },
  {
   "cell_type": "code",
   "execution_count": 2,
   "metadata": {},
   "outputs": [
    {
     "name": "stderr",
     "output_type": "stream",
     "text": [
      "INFO:erc.utils:Instantiate KEMDy19 Dataset\n",
      "INFO:erc.utils:Instantiate KEMDy20 Dataset\n"
     ]
    }
   ],
   "source": [
    "with hydra.initialize(version_base=None, config_path=\"./config\"):\n",
    "    # cfg = hydra.compose(config_name=\"config\", overrides={\"dataset._target_=erc.datasets.KEMDy20Dataset\"})\n",
    "    # cfg = hydra.compose(config_name=\"config\", overrides={\"dataset.generate_csv=True\"})\n",
    "    cfg = hydra.compose(config_name=\"config\")\n",
    "dataset = hydra.utils.instantiate(cfg.dataset)"
   ]
  },
  {
   "cell_type": "code",
   "execution_count": 3,
   "metadata": {},
   "outputs": [
    {
     "name": "stderr",
     "output_type": "stream",
     "text": [
      "INFO:erc.utils:Instantiate KEMDy19 Dataset\n",
      "INFO:erc.utils:Instantiate KEMDy20 Dataset\n",
      "INFO:erc.utils:Instantiate KEMDy19 Dataset\n",
      "INFO:erc.utils:Instantiate KEMDy20 Dataset\n",
      "INFO:erc.utils:Instantiate KEMDy19 Dataset\n",
      "INFO:erc.utils:Instantiate KEMDy20 Dataset\n",
      "INFO:erc.utils:Instantiate KEMDy19 Dataset\n",
      "INFO:erc.utils:Instantiate KEMDy20 Dataset\n",
      "INFO:erc.utils:Instantiate KEMDy19 Dataset\n",
      "INFO:erc.utils:Instantiate KEMDy20 Dataset\n"
     ]
    },
    {
     "name": "stdout",
     "output_type": "stream",
     "text": [
      "0: 4524\n",
      "1: 4990\n",
      "2: 4398\n",
      "3: 4748\n",
      "4: 4930\n"
     ]
    }
   ],
   "source": [
    "cfg.dataset.mode = \"valid\"\n",
    "# cfg.dataset.generate_csv = False\n",
    "for fold in range(0, 5):\n",
    "    cfg.dataset.validation_fold = fold\n",
    "    dataset = hydra.utils.instantiate(cfg.dataset)\n",
    "    print(f\"{fold}: {len(dataset)}\")"
   ]
  },
  {
   "cell_type": "code",
   "execution_count": 3,
   "metadata": {},
   "outputs": [
    {
     "name": "stderr",
     "output_type": "stream",
     "text": [
      "Some weights of the model checkpoint at facebook/wav2vec2-base-960h were not used when initializing Wav2Vec2Model: ['lm_head.bias', 'lm_head.weight']\n",
      "- This IS expected if you are initializing Wav2Vec2Model from the checkpoint of a model trained on another task or with another architecture (e.g. initializing a BertForSequenceClassification model from a BertForPreTraining model).\n",
      "- This IS NOT expected if you are initializing Wav2Vec2Model from the checkpoint of a model that you expect to be exactly identical (initializing a BertForSequenceClassification model from a BertForSequenceClassification model).\n",
      "Some weights of Wav2Vec2Model were not initialized from the model checkpoint at facebook/wav2vec2-base-960h and are newly initialized: ['wav2vec2.masked_spec_embed']\n",
      "You should probably TRAIN this model on a down-stream task to be able to use it for predictions and inference.\n"
     ]
    },
    {
     "data": {
      "application/vnd.jupyter.widget-view+json": {
       "model_id": "bef84fbf916140b7b13145d1b6a06d8d",
       "version_major": 2,
       "version_minor": 0
      },
      "text/plain": [
       "Processing ECG / EDA / Label:   0%|          | 0/20 [00:00<?, ?it/s]"
      ]
     },
     "metadata": {},
     "output_type": "display_data"
    },
    {
     "data": {
      "text/plain": [
       "<torch.utils.data.dataloader.DataLoader at 0x7f1fe244ff10>"
      ]
     },
     "execution_count": 3,
     "metadata": {},
     "output_type": "execute_result"
    }
   ],
   "source": [
    "dl = hydra.utils.instantiate(cfg.dataloader)\n",
    "batch = next(iter(dl))"
   ]
  },
  {
   "cell_type": "code",
   "execution_count": 4,
   "metadata": {},
   "outputs": [],
   "source": [
    "from pathlib import Path\n",
    "\n",
    "segment_id = dataset.total_df.segmend_id.iloc[250]\n",
    "session, script_type, speaker = segment_id.split(\"_\")\n",
    "\n",
    "prefix = Path(dataset.wav_txt_path_fmt.format(session[-2:], script_type))\n",
    "wav_path = prefix / f\"{segment_id}.wav\"\n",
    "txt_path = prefix / f\"{segment_id}.txt\"\n",
    "\n",
    "eda_path = dataset.eda_path_fmt.format(session[-2:], speaker[0])"
   ]
  }
 ],
 "metadata": {
  "kernelspec": {
   "display_name": "base",
   "language": "python",
   "name": "python3"
  },
  "language_info": {
   "codemirror_mode": {
    "name": "ipython",
    "version": 3
   },
   "file_extension": ".py",
   "mimetype": "text/x-python",
   "name": "python",
   "nbconvert_exporter": "python",
   "pygments_lexer": "ipython3",
   "version": "3.10.9"
  },
  "orig_nbformat": 4,
  "vscode": {
   "interpreter": {
    "hash": "d4d1e4263499bec80672ea0156c357c1ee493ec2b1c70f0acce89fc37c4a6abe"
   }
  }
 },
 "nbformat": 4,
 "nbformat_minor": 2
}
