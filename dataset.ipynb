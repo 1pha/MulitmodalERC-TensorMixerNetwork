{
 "cells": [
  {
   "cell_type": "code",
   "execution_count": 1,
   "metadata": {},
   "outputs": [],
   "source": [
    "import os\n",
    "import glob\n",
    "import yaml\n",
    "import numpy as np\n",
    "import pandas as pd\n",
    "from pathlib import Path\n",
    "\n",
    "\n",
    "import torch\n",
    "import torchtext\n",
    "import torchvision\n",
    "import torch.nn as nn\n",
    "import torch.optim as optim\n",
    "import torch.nn.functional as F\n",
    "from torchvision import transforms, utils\n",
    "from torch.utils.data import (\n",
    "    Dataset,\n",
    "    DataLoader,\n",
    "    random_split,\n",
    "    SubsetRandomSampler,\n",
    "    WeightedRandomSampler,\n",
    ")"
   ]
  },
  {
   "cell_type": "code",
   "execution_count": 2,
   "metadata": {},
   "outputs": [
    {
     "name": "stdout",
     "output_type": "stream",
     "text": [
      "{'BASE_PATH': '../data/KEMDy19'}\n"
     ]
    }
   ],
   "source": [
    "with open(\"config.yaml\") as f:\n",
    "    cfg = yaml.load(f, Loader=yaml.FullLoader)\n",
    "\n",
    "print(cfg)"
   ]
  },
  {
   "cell_type": "code",
   "execution_count": 3,
   "metadata": {},
   "outputs": [],
   "source": [
    "from pathlib import Path\n",
    "\n",
    "\n",
    "class KEMDy19Dataset(Dataset):\n",
    "    wav_txt_path_fmt = \"~/workspace/data/KEMDy19/wav/Session{0}/Sess{0}_{1}\"\n",
    "    eda_path_fmt = \"~/workspace/data/KEMDy19/EDA/Session{0}/Original/Sess{0}{1}.csv\"\n",
    "\n",
    "    MALE_ANN_PATH = \"{}/annotation/Session*_M_*\"\n",
    "    FEMALE_ANN_PATH = \"{}/annotation/Session*_F_*\"\n",
    "    TOTAL_DF_PATH = \"./kemdy19.csv\"\n",
    "\n",
    "    def __init__(self, cfg):\n",
    "        \"\"\"\n",
    "        Args:\n",
    "            cfg: yaml file\n",
    "        \"\"\"\n",
    "\n",
    "        self._base_path = cfg[\"BASE_PATH\"]\n",
    "        self.total_df = self.processed_db(self)\n",
    "\n",
    "    def __len__(self):\n",
    "        return len(self.total_df)\n",
    "\n",
    "    def __getitem__(self, idx):\n",
    "        row = self.total_df.iloc[idx]\n",
    "        session, script_type, speaker = row[\"Segment ID\"].split(\"_\")\n",
    "\n",
    "        label = self.str2num(row[\"Total Evaluation\"])\n",
    "        if label == None:\n",
    "            label = 0\n",
    "\n",
    "        wav_txt_path = self.wav_txt_path_fmt.format(session[-2:], script_type)\n",
    "        # wav\n",
    "        # 'KEMDy19/wav/Session01/Sess01_impro01' # wav, txt\n",
    "\n",
    "        eda_path = self.eda_path_fmt.format(session[-2:], speaker[0])\n",
    "\n",
    "        # X_txt =\n",
    "\n",
    "        X = torch.tensor(self.X[idx], dtype=torch.float)\n",
    "        label = torch.tensor([label], dtype=torch.long)\n",
    "\n",
    "        sample = {\"wav\": None, \"txt\": None, \"eda\": None, \"temp\": None, \"label\": label}\n",
    "        return sample\n",
    "\n",
    "    @property\n",
    "    def processed_db(self):\n",
    "        if not isinstance(self.TOTAL_DF_PATH, Path):\n",
    "            self.make_total_df()\n",
    "\n",
    "        return pd.read_csv(self.TOTAL_DF_PATH)\n",
    "\n",
    "    def make_total_df(self):\n",
    "        selected_columns = [\n",
    "            \"Numb\",\n",
    "            \"Wav\",\n",
    "            \"Unnamed: 2\",\n",
    "            \"ECG\",\n",
    "            \"Unnamed: 4\",\n",
    "            \"E4-EDA\",\n",
    "            \"Unnamed: 6\",\n",
    "            \"E4-TEMP\",\n",
    "            \"Unnamed: 8\",\n",
    "            \"Segment ID\",\n",
    "            \"Total Evaluation\",\n",
    "        ]\n",
    "\n",
    "        male_annotations = sorted(glob.glob(self.MALE_ANN_PATH.format(self._base_path)))\n",
    "        female_annotations = sorted(\n",
    "            glob.glob(self.FEMALE_ANN_PATH.format(self._base_path))\n",
    "        )\n",
    "\n",
    "        total_df = pd.DataFrame()\n",
    "        for m_ann, f_ann in zip(male_annotations, female_annotations):\n",
    "            m_df = pd.read_csv(m_ann).dropna()[selected_columns]\n",
    "            f_df = pd.read_csv(f_ann).dropna()[selected_columns]\n",
    "\n",
    "            # Sess01_impro03, Sess01_impro04의 TEMP와 E4-EDA값이 결측\n",
    "            m_df = m_df[\n",
    "                ~(m_df[\"Segment ID\"].str.contains(\"Sess01_impro03\"))\n",
    "                & ~(m_df[\"Segment ID\"].str.contains(\"Sess01_impro04\"))\n",
    "            ]\n",
    "            f_df = f_df[\n",
    "                ~(f_df[\"Segment ID\"].str.contains(\"Sess01_impro03\"))\n",
    "                & ~(f_df[\"Segment ID\"].str.contains(\"Sess01_impro04\"))\n",
    "            ]\n",
    "\n",
    "            # 각 발화의 성별에 대한 감정만 추출\n",
    "            m_df = m_df[m_df[\"Segment ID\"].str.contains(\"M\")]\n",
    "            f_df = f_df[f_df[\"Segment ID\"].str.contains(\"F\")]\n",
    "\n",
    "            # 다시 합쳐서 정렬\n",
    "            tmp_df = pd.concat([m_df, f_df], axis=0).sort_values(\"Numb\")\n",
    "            total_df = pd.concat([total_df, tmp_df], axis=0)\n",
    "\n",
    "        total_df.to_csv(self.TOTAL_DF_PATH, index=False)\n",
    "        return None\n",
    "\n",
    "    @staticmethod\n",
    "    def str2num(key):\n",
    "        emotion7_dict = {\n",
    "            \"surprise\": 1,\n",
    "            \"fear\": 2,\n",
    "            \"angry\": 3,\n",
    "            \"neutral\": 4,\n",
    "            \"happy\": 5,\n",
    "            \"sad\": 6,\n",
    "            \"disgust\": 7,\n",
    "        }\n",
    "\n",
    "        return emotion7_dict.get(key)"
   ]
  },
  {
   "cell_type": "code",
   "execution_count": null,
   "metadata": {},
   "outputs": [],
   "source": []
  },
  {
   "cell_type": "code",
   "execution_count": 4,
   "metadata": {},
   "outputs": [
    {
     "ename": "NameError",
     "evalue": "name 'transformed_dataset' is not defined",
     "output_type": "error",
     "traceback": [
      "\u001b[0;31m---------------------------------------------------------------------------\u001b[0m",
      "\u001b[0;31mNameError\u001b[0m                                 Traceback (most recent call last)",
      "\u001b[0;32m/tmp/ipykernel_38277/4046328126.py\u001b[0m in \u001b[0;36m<module>\u001b[0;34m\u001b[0m\n\u001b[0;32m----> 1\u001b[0;31m \u001b[0;32mfor\u001b[0m \u001b[0mi\u001b[0m \u001b[0;32min\u001b[0m \u001b[0mrange\u001b[0m\u001b[0;34m(\u001b[0m\u001b[0mlen\u001b[0m\u001b[0;34m(\u001b[0m\u001b[0mtransformed_dataset\u001b[0m\u001b[0;34m)\u001b[0m\u001b[0;34m)\u001b[0m\u001b[0;34m:\u001b[0m\u001b[0;34m\u001b[0m\u001b[0;34m\u001b[0m\u001b[0m\n\u001b[0m\u001b[1;32m      2\u001b[0m     \u001b[0msample\u001b[0m \u001b[0;34m=\u001b[0m \u001b[0mtransformed_dataset\u001b[0m\u001b[0;34m[\u001b[0m\u001b[0mi\u001b[0m\u001b[0;34m]\u001b[0m\u001b[0;34m\u001b[0m\u001b[0;34m\u001b[0m\u001b[0m\n",
      "\u001b[0;31mNameError\u001b[0m: name 'transformed_dataset' is not defined"
     ]
    }
   ],
   "source": [
    "for i in range(len(transformed_dataset)):\n",
    "    sample = transformed_dataset[i]"
   ]
  },
  {
   "cell_type": "code",
   "execution_count": 5,
   "metadata": {},
   "outputs": [
    {
     "ename": "SyntaxError",
     "evalue": "invalid syntax (2059194551.py, line 27)",
     "output_type": "error",
     "traceback": [
      "\u001b[0;36m  File \u001b[0;32m\"/tmp/ipykernel_38277/2059194551.py\"\u001b[0;36m, line \u001b[0;32m27\u001b[0m\n\u001b[0;31m    def make_total_df(self)\u001b[0m\n\u001b[0m                           ^\u001b[0m\n\u001b[0;31mSyntaxError\u001b[0m\u001b[0;31m:\u001b[0m invalid syntax\n"
     ]
    }
   ],
   "source": [
    "class KEMDy19Dataset(Dataset):\n",
    "    def __init__(self, cfg):\n",
    "        MALE_ANN_PATH = '{}/annotation/Session*_M_*'.format(cfg['BASE_PATH'])\n",
    "        FEMALE_ANN_PATH = '{}/annotation/Session*_F_*'.format(cfg['BASE_PATH'])\n",
    "\n",
    "        male_annotations = sorted(glob.glob(MALE_ANN_PATH))\n",
    "        female_annotations = sorted(glob.glob(FEMALE_ANN_PATH))\n",
    "\n",
    "        total_df = pd.DataFrame()\n",
    "        selected_columns = ['Numb', 'Wav', 'Unnamed: 2', 'ECG', 'Unnamed: 4', 'E4-EDA', 'Unnamed: 6', 'E4-TEMP', 'Unnamed: 8', 'Segment ID', 'Total Evaluation']\n",
    "\n",
    "        for m_ann, f_ann in zip(male_annotations, female_annotations):\n",
    "            m_df = pd.read_csv(m_ann).dropna()[selected_columns]\n",
    "            f_df = pd.read_csv(f_ann).dropna()[selected_columns]\n",
    "\n",
    "            # Sess01_impro03, Sess01_impro04의 TEMP와 E4-EDA값이 결측\n",
    "            m_df = m_df[~(m_df['Segment ID'].str.contains('Sess01_impro03'))&~(m_df['Segment ID'].str.contains('Sess01_impro04'))]\n",
    "            f_df = f_df[~(f_df['Segment ID'].str.contains('Sess01_impro03'))&~(f_df['Segment ID'].str.contains('Sess01_impro04'))]\n",
    "\n",
    "            # 각 발화의 성별에 대한 감정만 추출\n",
    "            m_df = m_df[m_df['Segment ID'].str.contains('M')]\n",
    "            f_df = f_df[f_df['Segment ID'].str.contains('F')]\n",
    "\n",
    "            # 다시 합쳐서 정렬\n",
    "            tmp_df = pd.concat([m_df, f_df], axis=0).sort_values('Numb')\n",
    "            total_df = pd.concat([total_df, tmp_df], axis=0)\n",
    "    def make_total_df(self)\n",
    "\n",
    "    def __len__(self):\n",
    "        return len(total_df)\n",
    "\n",
    "    def __getitem__(self, idx):\n",
    "        X, y = None, None\n",
    "        ######################################TODO######################################\n",
    "        X = torch.tensor(self.X[idx],dtype=torch.float)\n",
    "        y = torch.tensor(self.y[idx],dtype=torch.long)\n",
    "        ################################################################################\n",
    "        return X, y"
   ]
  },
  {
   "cell_type": "code",
   "execution_count": 6,
   "metadata": {},
   "outputs": [],
   "source": [
    "MALE_ANN_PATH = \"{}/annotation/Session*_M_*\".format(cfg[\"BASE_PATH\"])\n",
    "FEMALE_ANN_PATH = \"{}/annotation/Session*_F_*\".format(cfg[\"BASE_PATH\"])\n",
    "\n",
    "male_annotations = sorted(glob.glob(MALE_ANN_PATH))\n",
    "female_annotations = sorted(glob.glob(FEMALE_ANN_PATH))\n",
    "\n",
    "total_df = pd.DataFrame()\n",
    "selected_columns = [\n",
    "    \"Numb\",\n",
    "    \"Wav\",\n",
    "    \"Unnamed: 2\",\n",
    "    \"ECG\",\n",
    "    \"Unnamed: 4\",\n",
    "    \"E4-EDA\",\n",
    "    \"Unnamed: 6\",\n",
    "    \"E4-TEMP\",\n",
    "    \"Unnamed: 8\",\n",
    "    \"Segment ID\",\n",
    "    \"Total Evaluation\",\n",
    "]\n",
    "\n",
    "for m_ann, f_ann in zip(male_annotations, female_annotations):\n",
    "    m_df = pd.read_csv(m_ann).dropna()\n",
    "    f_df = pd.read_csv(f_ann).dropna()\n",
    "\n",
    "    # m_df = pd.read_csv(m_ann).dropna()[selected_columns]\n",
    "    # f_df = pd.read_csv(f_ann).dropna()[selected_columns]\n",
    "\n",
    "    # Sess01_impro03, Sess01_impro04의 TEMP와 E4-EDA값이 결측\n",
    "    # m_df = m_df[~(m_df['Segment ID'].str.contains('Sess01_impro03'))&~(m_df['Segment ID'].str.contains('Sess01_impro04'))]\n",
    "    # f_df = f_df[~(f_df['Segment ID'].str.contains('Sess01_impro03'))&~(f_df['Segment ID'].str.contains('Sess01_impro04'))]\n",
    "\n",
    "    # 각 발화의 성별에 대한 감정만 추출\n",
    "    m_df = m_df[m_df[\"Segment ID\"].str.contains(\"M\")]\n",
    "    f_df = f_df[f_df[\"Segment ID\"].str.contains(\"F\")]\n",
    "\n",
    "    # 다시 합쳐서 정렬\n",
    "    tmp_df = pd.concat([m_df, f_df], axis=0).sort_values(\"Numb\")\n",
    "    total_df = pd.concat([total_df, tmp_df], axis=0)"
   ]
  },
  {
   "cell_type": "code",
   "execution_count": 8,
   "metadata": {},
   "outputs": [
    {
     "name": "stdout",
     "output_type": "stream",
     "text": [
      "~/workspace/data/KEMDy19/wav/Session20/Sess20_impro04\n",
      "~/workspace/data/KEMDy19/EDA/Session20/Original/Sess20M.csv\n"
     ]
    }
   ],
   "source": [
    "seg_id = \"Sess20_impro04_M019\"\n",
    "session, script_type, speaker = seg_id.split(\"_\")\n",
    "\n",
    "wav_txt_path_fmt = \"~/workspace/data/KEMDy19/wav/Session{0}/Sess{0}_{1}\"\n",
    "eda_path_fmt = \"~/workspace/data/KEMDy19/EDA/Session{0}/Original/Sess{0}{1}.csv\"\n",
    "\n",
    "wav_txt_path = wav_txt_path_fmt.format(session[-2:], script_type)\n",
    "eda_path = eda_path_fmt.format(session[-2:], speaker[0])\n",
    "\n",
    "\n",
    "print(wav_txt_path)\n",
    "print(eda_path)"
   ]
  },
  {
   "cell_type": "code",
   "execution_count": null,
   "metadata": {},
   "outputs": [],
   "source": []
  },
  {
   "cell_type": "code",
   "execution_count": null,
   "metadata": {},
   "outputs": [],
   "source": []
  }
 ],
 "metadata": {
  "kernelspec": {
   "display_name": "base",
   "language": "python",
   "name": "python3"
  },
  "language_info": {
   "codemirror_mode": {
    "name": "ipython",
    "version": 3
   },
   "file_extension": ".py",
   "mimetype": "text/x-python",
   "name": "python",
   "nbconvert_exporter": "python",
   "pygments_lexer": "ipython3",
   "version": "3.10.9"
  },
  "orig_nbformat": 4,
  "vscode": {
   "interpreter": {
    "hash": "d4d1e4263499bec80672ea0156c357c1ee493ec2b1c70f0acce89fc37c4a6abe"
   }
  }
 },
 "nbformat": 4,
 "nbformat_minor": 2
}
