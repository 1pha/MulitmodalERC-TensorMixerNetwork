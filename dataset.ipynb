{
 "cells": [
  {
   "cell_type": "code",
   "execution_count": 1,
   "metadata": {},
   "outputs": [],
   "source": [
    "import logging\n",
    "\n",
    "import hydra\n",
    "\n",
    "logger = logging.getLogger(__name__)\n",
    "logger.setLevel(logging.INFO)"
   ]
  },
  {
   "cell_type": "code",
   "execution_count": 2,
   "metadata": {},
   "outputs": [
    {
     "data": {
      "application/vnd.jupyter.widget-view+json": {
       "model_id": "ca1ab90fe3d1472d8fba54d63f37b9fd",
       "version_major": 2,
       "version_minor": 0
      },
      "text/plain": [
       "Processing ECG / EDA / Label:   0%|          | 0/20 [00:00<?, ?it/s]"
      ]
     },
     "metadata": {},
     "output_type": "display_data"
    }
   ],
   "source": [
    "with hydra.initialize(version_base=None, config_path=\"./config\"):\n",
    "    cfg = hydra.compose(config_name=\"config\", overrides={\"dataset.generate_csv=True\"})\n",
    "dataset = hydra.utils.instantiate(cfg.dataset)"
   ]
  },
  {
   "cell_type": "code",
   "execution_count": 3,
   "metadata": {},
   "outputs": [
    {
     "data": {
      "text/plain": [
       "{'wav': tensor([[ 0.0209, -0.0029,  0.0764,  ..., -0.2665,  0.0813, -0.0492],\n",
       "         [ 0.0212, -0.0047,  0.0786,  ..., -0.2719,  0.0819, -0.0524],\n",
       "         [ 0.0191, -0.0033,  0.0742,  ..., -0.2709,  0.0827, -0.0527],\n",
       "         ...,\n",
       "         [-0.0013, -0.0075,  0.0835,  ..., -0.2638,  0.0836, -0.0525],\n",
       "         [ 0.0038, -0.0057,  0.0694,  ..., -0.2613,  0.0846, -0.0388],\n",
       "         [-0.0020, -0.0101,  0.0656,  ..., -0.2671,  0.0870, -0.0373]]),\n",
       " 'txt': ['어 저 지그 지금 사람 친 거야? 지금 사람 친 거 맞지? 그치?\\n'],\n",
       " 'ecg': 0.009037614999999999,\n",
       " 'e4-eda': 4.530207,\n",
       " 'e4-temp': 34.625,\n",
       " 'emotion': tensor(1),\n",
       " 'valence': tensor(1.7000),\n",
       " 'arousal': tensor(4.)}"
      ]
     },
     "execution_count": 3,
     "metadata": {},
     "output_type": "execute_result"
    }
   ],
   "source": [
    "dataset[0]"
   ]
  },
  {
   "cell_type": "code",
   "execution_count": 3,
   "metadata": {},
   "outputs": [
    {
     "name": "stderr",
     "output_type": "stream",
     "text": [
      "Some weights of the model checkpoint at facebook/wav2vec2-base-960h were not used when initializing Wav2Vec2Model: ['lm_head.bias', 'lm_head.weight']\n",
      "- This IS expected if you are initializing Wav2Vec2Model from the checkpoint of a model trained on another task or with another architecture (e.g. initializing a BertForSequenceClassification model from a BertForPreTraining model).\n",
      "- This IS NOT expected if you are initializing Wav2Vec2Model from the checkpoint of a model that you expect to be exactly identical (initializing a BertForSequenceClassification model from a BertForSequenceClassification model).\n",
      "Some weights of Wav2Vec2Model were not initialized from the model checkpoint at facebook/wav2vec2-base-960h and are newly initialized: ['wav2vec2.masked_spec_embed']\n",
      "You should probably TRAIN this model on a down-stream task to be able to use it for predictions and inference.\n"
     ]
    },
    {
     "data": {
      "application/vnd.jupyter.widget-view+json": {
       "model_id": "bef84fbf916140b7b13145d1b6a06d8d",
       "version_major": 2,
       "version_minor": 0
      },
      "text/plain": [
       "Processing ECG / EDA / Label:   0%|          | 0/20 [00:00<?, ?it/s]"
      ]
     },
     "metadata": {},
     "output_type": "display_data"
    },
    {
     "data": {
      "text/plain": [
       "<torch.utils.data.dataloader.DataLoader at 0x7f1fe244ff10>"
      ]
     },
     "execution_count": 3,
     "metadata": {},
     "output_type": "execute_result"
    }
   ],
   "source": [
    "dl = hydra.utils.instantiate(cfg.dataloader)\n",
    "batch = next(iter(dl))"
   ]
  },
  {
   "cell_type": "code",
   "execution_count": 4,
   "metadata": {},
   "outputs": [],
   "source": [
    "from pathlib import Path\n",
    "\n",
    "segment_id = dataset.total_df.segmend_id.iloc[250]\n",
    "session, script_type, speaker = segment_id.split(\"_\")\n",
    "\n",
    "prefix = Path(dataset.wav_txt_path_fmt.format(session[-2:], script_type))\n",
    "wav_path = prefix / f\"{segment_id}.wav\"\n",
    "txt_path = prefix / f\"{segment_id}.txt\"\n",
    "\n",
    "eda_path = dataset.eda_path_fmt.format(session[-2:], speaker[0])"
   ]
  }
 ],
 "metadata": {
  "kernelspec": {
   "display_name": "base",
   "language": "python",
   "name": "python3"
  },
  "language_info": {
   "codemirror_mode": {
    "name": "ipython",
    "version": 3
   },
   "file_extension": ".py",
   "mimetype": "text/x-python",
   "name": "python",
   "nbconvert_exporter": "python",
   "pygments_lexer": "ipython3",
   "version": "3.10.9"
  },
  "orig_nbformat": 4,
  "vscode": {
   "interpreter": {
    "hash": "d4d1e4263499bec80672ea0156c357c1ee493ec2b1c70f0acce89fc37c4a6abe"
   }
  }
 },
 "nbformat": 4,
 "nbformat_minor": 2
}
