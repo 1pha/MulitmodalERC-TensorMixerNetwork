{
 "cells": [
  {
   "cell_type": "code",
   "execution_count": 2,
   "metadata": {},
   "outputs": [],
   "source": [
    "import glob\n",
    "\n",
    "import pandas as pd\n",
    "import hydra\n",
    "import torch\n",
    "from torch.utils.data import Dataset\n",
    "\n",
    "from erc.datasets import KEMDy19Dataset"
   ]
  },
  {
   "cell_type": "code",
   "execution_count": 4,
   "metadata": {},
   "outputs": [
    {
     "data": {
      "text/plain": [
       "{'BASE_PATH': '../data/KEMDy19', 'ANN_PATH': '../data/KEMDy19/annotation/'}"
      ]
     },
     "execution_count": 4,
     "metadata": {},
     "output_type": "execute_result"
    }
   ],
   "source": [
    "with hydra.initialize(version_base=None, config_path=\"./config\"):\n",
    "    cfg = hydra.compose(config_name=\"config\")\n",
    "cfg"
   ]
  },
  {
   "cell_type": "code",
   "execution_count": 5,
   "metadata": {},
   "outputs": [
    {
     "ename": "AttributeError",
     "evalue": "'function' object has no attribute 'glob'",
     "output_type": "error",
     "traceback": [
      "\u001b[0;31m---------------------------------------------------------------------------\u001b[0m",
      "\u001b[0;31mAttributeError\u001b[0m                            Traceback (most recent call last)",
      "Cell \u001b[0;32mIn[5], line 1\u001b[0m\n\u001b[0;32m----> 1\u001b[0m dataset \u001b[39m=\u001b[39m KEMDy19Dataset(cfg\u001b[39m=\u001b[39;49mcfg)\n",
      "File \u001b[0;32m~/codespace/etri-erc/erc/datasets.py:24\u001b[0m, in \u001b[0;36mKEMDy19Dataset.__init__\u001b[0;34m(self, cfg)\u001b[0m\n\u001b[1;32m     19\u001b[0m \u001b[39m\u001b[39m\u001b[39m\"\"\"\u001b[39;00m\n\u001b[1;32m     20\u001b[0m \u001b[39mArgs:\u001b[39;00m\n\u001b[1;32m     21\u001b[0m \u001b[39m    cfg: yaml file\u001b[39;00m\n\u001b[1;32m     22\u001b[0m \u001b[39m\"\"\"\u001b[39;00m\n\u001b[1;32m     23\u001b[0m \u001b[39mself\u001b[39m\u001b[39m.\u001b[39m_base_path: \u001b[39mstr\u001b[39m \u001b[39m=\u001b[39m cfg[\u001b[39m\"\u001b[39m\u001b[39mBASE_PATH\u001b[39m\u001b[39m\"\u001b[39m]\n\u001b[0;32m---> 24\u001b[0m \u001b[39mself\u001b[39m\u001b[39m.\u001b[39mtotal_df: pd\u001b[39m.\u001b[39mDataFrame \u001b[39m=\u001b[39m \u001b[39mself\u001b[39;49m\u001b[39m.\u001b[39;49mprocessed_db(\u001b[39mself\u001b[39m)\n",
      "File \u001b[0;32m~/codespace/etri-erc/erc/datasets.py:48\u001b[0m, in \u001b[0;36mKEMDy19Dataset.processed_db\u001b[0;34m(self)\u001b[0m\n\u001b[1;32m     45\u001b[0m \u001b[39m@property\u001b[39m\n\u001b[1;32m     46\u001b[0m \u001b[39mdef\u001b[39;00m \u001b[39mprocessed_db\u001b[39m(\u001b[39mself\u001b[39m):\n\u001b[1;32m     47\u001b[0m     \u001b[39mif\u001b[39;00m \u001b[39mnot\u001b[39;00m \u001b[39misinstance\u001b[39m(\u001b[39mself\u001b[39m\u001b[39m.\u001b[39mTOTAL_DF_PATH, Path):\n\u001b[0;32m---> 48\u001b[0m         \u001b[39mself\u001b[39;49m\u001b[39m.\u001b[39;49mmake_total_df()\n\u001b[1;32m     49\u001b[0m     \u001b[39mreturn\u001b[39;00m pd\u001b[39m.\u001b[39mread_csv(\u001b[39mself\u001b[39m\u001b[39m.\u001b[39mTOTAL_DF_PATH)\n",
      "File \u001b[0;32m~/codespace/etri-erc/erc/datasets.py:65\u001b[0m, in \u001b[0;36mKEMDy19Dataset.make_total_df\u001b[0;34m(self)\u001b[0m\n\u001b[1;32m     51\u001b[0m \u001b[39mdef\u001b[39;00m \u001b[39mmake_total_df\u001b[39m(\u001b[39mself\u001b[39m) \u001b[39m-\u001b[39m\u001b[39m>\u001b[39m \u001b[39mNone\u001b[39;00m:\n\u001b[1;32m     52\u001b[0m     selected_columns \u001b[39m=\u001b[39m [\n\u001b[1;32m     53\u001b[0m         \u001b[39m\"\u001b[39m\u001b[39mNumb\u001b[39m\u001b[39m\"\u001b[39m,\n\u001b[1;32m     54\u001b[0m         \u001b[39m\"\u001b[39m\u001b[39mWav\u001b[39m\u001b[39m\"\u001b[39m,\n\u001b[0;32m   (...)\u001b[0m\n\u001b[1;32m     63\u001b[0m         \u001b[39m\"\u001b[39m\u001b[39mTotal Evaluation\u001b[39m\u001b[39m\"\u001b[39m,\n\u001b[1;32m     64\u001b[0m     ]\n\u001b[0;32m---> 65\u001b[0m     male_annotations \u001b[39m=\u001b[39m \u001b[39msorted\u001b[39m(glob\u001b[39m.\u001b[39;49mglob(\u001b[39mself\u001b[39m\u001b[39m.\u001b[39mMALE_ANN_PATH\u001b[39m.\u001b[39mformat(\u001b[39mself\u001b[39m\u001b[39m.\u001b[39m_base_path)))\n\u001b[1;32m     66\u001b[0m     female_annotations \u001b[39m=\u001b[39m \u001b[39msorted\u001b[39m(\n\u001b[1;32m     67\u001b[0m         glob\u001b[39m.\u001b[39mglob(\u001b[39mself\u001b[39m\u001b[39m.\u001b[39mFEMALE_ANN_PATH\u001b[39m.\u001b[39mformat(\u001b[39mself\u001b[39m\u001b[39m.\u001b[39m_base_path))\n\u001b[1;32m     68\u001b[0m     )\n\u001b[1;32m     70\u001b[0m     total_df \u001b[39m=\u001b[39m pd\u001b[39m.\u001b[39mDataFrame()\n",
      "\u001b[0;31mAttributeError\u001b[0m: 'function' object has no attribute 'glob'"
     ]
    }
   ],
   "source": [
    "dataset = KEMDy19Dataset(cfg=cfg)"
   ]
  },
  {
   "cell_type": "code",
   "execution_count": 5,
   "metadata": {},
   "outputs": [
    {
     "ename": "SyntaxError",
     "evalue": "invalid syntax (2059194551.py, line 27)",
     "output_type": "error",
     "traceback": [
      "\u001b[0;36m  File \u001b[0;32m\"/tmp/ipykernel_38277/2059194551.py\"\u001b[0;36m, line \u001b[0;32m27\u001b[0m\n\u001b[0;31m    def make_total_df(self)\u001b[0m\n\u001b[0m                           ^\u001b[0m\n\u001b[0;31mSyntaxError\u001b[0m\u001b[0;31m:\u001b[0m invalid syntax\n"
     ]
    }
   ],
   "source": [
    "class KEMDy19Dataset(Dataset):\n",
    "    def __init__(self, cfg):\n",
    "        MALE_ANN_PATH = '{}/annotation/Session*_M_*'.format(cfg['BASE_PATH'])\n",
    "        FEMALE_ANN_PATH = '{}/annotation/Session*_F_*'.format(cfg['BASE_PATH'])\n",
    "\n",
    "        male_annotations = sorted(glob.glob(MALE_ANN_PATH))\n",
    "        female_annotations = sorted(glob.glob(FEMALE_ANN_PATH))\n",
    "\n",
    "        total_df = pd.DataFrame()\n",
    "        selected_columns = ['Numb', 'Wav', 'Unnamed: 2', 'ECG', 'Unnamed: 4', 'E4-EDA', 'Unnamed: 6', 'E4-TEMP', 'Unnamed: 8', 'Segment ID', 'Total Evaluation']\n",
    "\n",
    "        for m_ann, f_ann in zip(male_annotations, female_annotations):\n",
    "            m_df = pd.read_csv(m_ann).dropna()[selected_columns]\n",
    "            f_df = pd.read_csv(f_ann).dropna()[selected_columns]\n",
    "\n",
    "            # Sess01_impro03, Sess01_impro04의 TEMP와 E4-EDA값이 결측\n",
    "            m_df = m_df[~(m_df['Segment ID'].str.contains('Sess01_impro03'))&~(m_df['Segment ID'].str.contains('Sess01_impro04'))]\n",
    "            f_df = f_df[~(f_df['Segment ID'].str.contains('Sess01_impro03'))&~(f_df['Segment ID'].str.contains('Sess01_impro04'))]\n",
    "\n",
    "            # 각 발화의 성별에 대한 감정만 추출\n",
    "            m_df = m_df[m_df['Segment ID'].str.contains('M')]\n",
    "            f_df = f_df[f_df['Segment ID'].str.contains('F')]\n",
    "\n",
    "            # 다시 합쳐서 정렬\n",
    "            tmp_df = pd.concat([m_df, f_df], axis=0).sort_values('Numb')\n",
    "            total_df = pd.concat([total_df, tmp_df], axis=0)\n",
    "    def make_total_df(self)\n",
    "\n",
    "    def __len__(self):\n",
    "        return len(total_df)\n",
    "\n",
    "    def __getitem__(self, idx):\n",
    "        X, y = None, None\n",
    "        ######################################TODO######################################\n",
    "        X = torch.tensor(self.X[idx],dtype=torch.float)\n",
    "        y = torch.tensor(self.y[idx],dtype=torch.long)\n",
    "        ################################################################################\n",
    "        return X, y"
   ]
  },
  {
   "cell_type": "code",
   "execution_count": 6,
   "metadata": {},
   "outputs": [],
   "source": [
    "MALE_ANN_PATH = \"{}/annotation/Session*_M_*\".format(cfg[\"BASE_PATH\"])\n",
    "FEMALE_ANN_PATH = \"{}/annotation/Session*_F_*\".format(cfg[\"BASE_PATH\"])\n",
    "\n",
    "male_annotations = sorted(glob.glob(MALE_ANN_PATH))\n",
    "female_annotations = sorted(glob.glob(FEMALE_ANN_PATH))\n",
    "\n",
    "total_df = pd.DataFrame()\n",
    "selected_columns = [\n",
    "    \"Numb\",\n",
    "    \"Wav\",\n",
    "    \"Unnamed: 2\",\n",
    "    \"ECG\",\n",
    "    \"Unnamed: 4\",\n",
    "    \"E4-EDA\",\n",
    "    \"Unnamed: 6\",\n",
    "    \"E4-TEMP\",\n",
    "    \"Unnamed: 8\",\n",
    "    \"Segment ID\",\n",
    "    \"Total Evaluation\",\n",
    "]\n",
    "\n",
    "for m_ann, f_ann in zip(male_annotations, female_annotations):\n",
    "    m_df = pd.read_csv(m_ann).dropna()\n",
    "    f_df = pd.read_csv(f_ann).dropna()\n",
    "\n",
    "    # m_df = pd.read_csv(m_ann).dropna()[selected_columns]\n",
    "    # f_df = pd.read_csv(f_ann).dropna()[selected_columns]\n",
    "\n",
    "    # Sess01_impro03, Sess01_impro04의 TEMP와 E4-EDA값이 결측\n",
    "    # m_df = m_df[~(m_df['Segment ID'].str.contains('Sess01_impro03'))&~(m_df['Segment ID'].str.contains('Sess01_impro04'))]\n",
    "    # f_df = f_df[~(f_df['Segment ID'].str.contains('Sess01_impro03'))&~(f_df['Segment ID'].str.contains('Sess01_impro04'))]\n",
    "\n",
    "    # 각 발화의 성별에 대한 감정만 추출\n",
    "    m_df = m_df[m_df[\"Segment ID\"].str.contains(\"M\")]\n",
    "    f_df = f_df[f_df[\"Segment ID\"].str.contains(\"F\")]\n",
    "\n",
    "    # 다시 합쳐서 정렬\n",
    "    tmp_df = pd.concat([m_df, f_df], axis=0).sort_values(\"Numb\")\n",
    "    total_df = pd.concat([total_df, tmp_df], axis=0)"
   ]
  },
  {
   "cell_type": "code",
   "execution_count": 8,
   "metadata": {},
   "outputs": [
    {
     "name": "stdout",
     "output_type": "stream",
     "text": [
      "~/workspace/data/KEMDy19/wav/Session20/Sess20_impro04\n",
      "~/workspace/data/KEMDy19/EDA/Session20/Original/Sess20M.csv\n"
     ]
    }
   ],
   "source": [
    "seg_id = \"Sess20_impro04_M019\"\n",
    "session, script_type, speaker = seg_id.split(\"_\")\n",
    "\n",
    "wav_txt_path_fmt = \"~/workspace/data/KEMDy19/wav/Session{0}/Sess{0}_{1}\"\n",
    "eda_path_fmt = \"~/workspace/data/KEMDy19/EDA/Session{0}/Original/Sess{0}{1}.csv\"\n",
    "\n",
    "wav_txt_path = wav_txt_path_fmt.format(session[-2:], script_type)\n",
    "eda_path = eda_path_fmt.format(session[-2:], speaker[0])\n",
    "\n",
    "\n",
    "print(wav_txt_path)\n",
    "print(eda_path)"
   ]
  },
  {
   "cell_type": "code",
   "execution_count": null,
   "metadata": {},
   "outputs": [],
   "source": []
  },
  {
   "cell_type": "code",
   "execution_count": null,
   "metadata": {},
   "outputs": [],
   "source": []
  }
 ],
 "metadata": {
  "kernelspec": {
   "display_name": "base",
   "language": "python",
   "name": "python3"
  },
  "language_info": {
   "codemirror_mode": {
    "name": "ipython",
    "version": 3
   },
   "file_extension": ".py",
   "mimetype": "text/x-python",
   "name": "python",
   "nbconvert_exporter": "python",
   "pygments_lexer": "ipython3",
   "version": "3.10.9"
  },
  "orig_nbformat": 4,
  "vscode": {
   "interpreter": {
    "hash": "d4d1e4263499bec80672ea0156c357c1ee493ec2b1c70f0acce89fc37c4a6abe"
   }
  }
 },
 "nbformat": 4,
 "nbformat_minor": 2
}
