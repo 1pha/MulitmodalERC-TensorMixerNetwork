{
 "cells": [
  {
   "cell_type": "code",
   "execution_count": 2,
   "metadata": {},
   "outputs": [
    {
     "data": {
      "application/vnd.jupyter.widget-view+json": {
       "model_id": "cff33a9f847c43d0ad87d98f0c56382a",
       "version_major": 2,
       "version_minor": 0
      },
      "text/plain": [
       "Processing ECG / EDA / Label:   0%|          | 0/20 [00:00<?, ?it/s]"
      ]
     },
     "metadata": {},
     "output_type": "display_data"
    }
   ],
   "source": [
    "import logging\n",
    "\n",
    "import hydra\n",
    "\n",
    "logger = logging.getLogger(__name__)\n",
    "logger.setLevel(logging.INFO)\n",
    "\n",
    "with hydra.initialize(version_base=None, config_path=\"./config\"):\n",
    "    cfg = hydra.compose(config_name=\"config\", overrides={\"dataset.generate_csv=True\"})\n",
    "dataset = hydra.utils.instantiate(cfg.dataset)\n"
   ]
  },
  {
   "cell_type": "code",
   "execution_count": 3,
   "metadata": {},
   "outputs": [
    {
     "name": "stderr",
     "output_type": "stream",
     "text": [
      " 11%|█▏        | 1157/10128 [00:02<00:15, 580.11it/s]"
     ]
    },
    {
     "name": "stdout",
     "output_type": "stream",
     "text": [
      "Error occurs ->  data/KEMDy19/wav/Session03/Sess03_script04\n"
     ]
    },
    {
     "name": "stderr",
     "output_type": "stream",
     "text": [
      " 25%|██▌       | 2564/10128 [00:04<00:13, 575.35it/s]"
     ]
    },
    {
     "name": "stdout",
     "output_type": "stream",
     "text": [
      "Error occurs ->  data/KEMDy19/wav/Session06/Sess06_script02\n",
      "Error occurs ->  data/KEMDy19/wav/Session06/Sess06_script02\n"
     ]
    },
    {
     "name": "stderr",
     "output_type": "stream",
     "text": [
      " 30%|██▉       | 3031/10128 [00:05<00:12, 574.85it/s]"
     ]
    },
    {
     "name": "stdout",
     "output_type": "stream",
     "text": [
      "Error occurs ->  data/KEMDy19/wav/Session07/Sess07_script02\n",
      "Error occurs ->  data/KEMDy19/wav/Session07/Sess07_script02\n"
     ]
    },
    {
     "name": "stderr",
     "output_type": "stream",
     "text": [
      "100%|██████████| 10128/10128 [00:17<00:00, 574.41it/s]\n"
     ]
    }
   ],
   "source": [
    "from collections import defaultdict\n",
    "from tqdm import tqdm \n",
    "\n",
    "\n",
    "eva_dict = defaultdict(list)\n",
    "choice_key = ['emotion','valence','arousal','gender']\n",
    "\n",
    "for sample in tqdm(dataset):\n",
    "    for key_ in choice_key:\n",
    "        if not sample.get(key_) == None:\n",
    "            eva_dict[key_].append(sample.get(key_).item())"
   ]
  },
  {
   "cell_type": "code",
   "execution_count": 4,
   "metadata": {},
   "outputs": [
    {
     "data": {
      "text/html": [
       "<div>\n",
       "<style scoped>\n",
       "    .dataframe tbody tr th:only-of-type {\n",
       "        vertical-align: middle;\n",
       "    }\n",
       "\n",
       "    .dataframe tbody tr th {\n",
       "        vertical-align: top;\n",
       "    }\n",
       "\n",
       "    .dataframe thead th {\n",
       "        text-align: right;\n",
       "    }\n",
       "</style>\n",
       "<table border=\"1\" class=\"dataframe\">\n",
       "  <thead>\n",
       "    <tr style=\"text-align: right;\">\n",
       "      <th></th>\n",
       "      <th>emotion</th>\n",
       "      <th>valence</th>\n",
       "      <th>arousal</th>\n",
       "      <th>gender</th>\n",
       "    </tr>\n",
       "  </thead>\n",
       "  <tbody>\n",
       "    <tr>\n",
       "      <th>0</th>\n",
       "      <td>1</td>\n",
       "      <td>1.7</td>\n",
       "      <td>4.0</td>\n",
       "      <td>0</td>\n",
       "    </tr>\n",
       "    <tr>\n",
       "      <th>1</th>\n",
       "      <td>2</td>\n",
       "      <td>1.5</td>\n",
       "      <td>3.6</td>\n",
       "      <td>1</td>\n",
       "    </tr>\n",
       "    <tr>\n",
       "      <th>2</th>\n",
       "      <td>3</td>\n",
       "      <td>1.3</td>\n",
       "      <td>4.3</td>\n",
       "      <td>0</td>\n",
       "    </tr>\n",
       "    <tr>\n",
       "      <th>3</th>\n",
       "      <td>3</td>\n",
       "      <td>1.5</td>\n",
       "      <td>3.8</td>\n",
       "      <td>0</td>\n",
       "    </tr>\n",
       "    <tr>\n",
       "      <th>4</th>\n",
       "      <td>2</td>\n",
       "      <td>1.6</td>\n",
       "      <td>3.7</td>\n",
       "      <td>1</td>\n",
       "    </tr>\n",
       "    <tr>\n",
       "      <th>...</th>\n",
       "      <td>...</td>\n",
       "      <td>...</td>\n",
       "      <td>...</td>\n",
       "      <td>...</td>\n",
       "    </tr>\n",
       "    <tr>\n",
       "      <th>10118</th>\n",
       "      <td>6</td>\n",
       "      <td>2.3</td>\n",
       "      <td>2.1</td>\n",
       "      <td>0</td>\n",
       "    </tr>\n",
       "    <tr>\n",
       "      <th>10119</th>\n",
       "      <td>6</td>\n",
       "      <td>2.5</td>\n",
       "      <td>2.3</td>\n",
       "      <td>1</td>\n",
       "    </tr>\n",
       "    <tr>\n",
       "      <th>10120</th>\n",
       "      <td>6</td>\n",
       "      <td>2.1</td>\n",
       "      <td>1.8</td>\n",
       "      <td>0</td>\n",
       "    </tr>\n",
       "    <tr>\n",
       "      <th>10121</th>\n",
       "      <td>5</td>\n",
       "      <td>3.9</td>\n",
       "      <td>3.2</td>\n",
       "      <td>1</td>\n",
       "    </tr>\n",
       "    <tr>\n",
       "      <th>10122</th>\n",
       "      <td>5</td>\n",
       "      <td>4.2</td>\n",
       "      <td>4.0</td>\n",
       "      <td>0</td>\n",
       "    </tr>\n",
       "  </tbody>\n",
       "</table>\n",
       "<p>10123 rows × 4 columns</p>\n",
       "</div>"
      ],
      "text/plain": [
       "       emotion  valence  arousal  gender\n",
       "0            1      1.7      4.0       0\n",
       "1            2      1.5      3.6       1\n",
       "2            3      1.3      4.3       0\n",
       "3            3      1.5      3.8       0\n",
       "4            2      1.6      3.7       1\n",
       "...        ...      ...      ...     ...\n",
       "10118        6      2.3      2.1       0\n",
       "10119        6      2.5      2.3       1\n",
       "10120        6      2.1      1.8       0\n",
       "10121        5      3.9      3.2       1\n",
       "10122        5      4.2      4.0       0\n",
       "\n",
       "[10123 rows x 4 columns]"
      ]
     },
     "execution_count": 4,
     "metadata": {},
     "output_type": "execute_result"
    }
   ],
   "source": [
    "import pandas as pd\n",
    "df = pd.DataFrame(eva_dict)\n",
    "df"
   ]
  },
  {
   "attachments": {},
   "cell_type": "markdown",
   "metadata": {},
   "source": [
    "## Emotion EDA"
   ]
  },
  {
   "cell_type": "code",
   "execution_count": 19,
   "metadata": {},
   "outputs": [
    {
     "name": "stdout",
     "output_type": "stream",
     "text": [
      "Male: 5183, Female: 4940\n",
      "valence: \n",
      "\tMin: 1.00\n",
      "\tMax: 5.00\n",
      "arousal: \n",
      "\tMin: 1.40\n",
      "\tMax: 5.00\n"
     ]
    }
   ],
   "source": [
    "# 성별 \n",
    "print('Male: {:04d}, Female: {:04d}'.format(*df['gender'].value_counts().values))\n",
    "\n",
    "# Valence \n",
    "# key = 'valence'\n",
    "for key in ['valence','arousal']:\n",
    "    print(f'{key}: \\n\\tMin: {min(df[key]):.2f}\\n\\tMax: {max(df[key]):.2f}')"
   ]
  },
  {
   "cell_type": "code",
   "execution_count": null,
   "metadata": {},
   "outputs": [],
   "source": [
    "# Valence min-max \n",
    "\n",
    "fmt = '{} | Max: {} | Min: {}'\n",
    "\n",
    "print(fmt.format('Valence',max(eva_dict['valence']), min(eva_dict['valence'])))\n",
    "print(fmt.format('Arousal',max(eva_dict['arousal']), min(eva_dict['arousal'])))"
   ]
  },
  {
   "cell_type": "code",
   "execution_count": null,
   "metadata": {},
   "outputs": [],
   "source": []
  },
  {
   "cell_type": "code",
   "execution_count": null,
   "metadata": {},
   "outputs": [],
   "source": [
    "for emotion_key in df['emotion'].unique():\n",
    "    tmp = df[df['emotion'] == emotion_key]\n",
    "    break"
   ]
  },
  {
   "cell_type": "code",
   "execution_count": null,
   "metadata": {},
   "outputs": [],
   "source": [
    "tmp.describe().min()"
   ]
  },
  {
   "cell_type": "code",
   "execution_count": null,
   "metadata": {},
   "outputs": [],
   "source": [
    "tmp.describe()['min']"
   ]
  },
  {
   "cell_type": "code",
   "execution_count": null,
   "metadata": {},
   "outputs": [],
   "source": [
    "df[df['emotion'] == i][choice_key[1:]].mean(axis=0).keys()"
   ]
  },
  {
   "cell_type": "code",
   "execution_count": null,
   "metadata": {},
   "outputs": [],
   "source": [
    "df[df['emotion'] == i][choice_key[1:]].mean(axis=0).values"
   ]
  },
  {
   "cell_type": "code",
   "execution_count": null,
   "metadata": {},
   "outputs": [],
   "source": [
    "ellipse_dict = defaultdict(list)\n",
    "\n",
    "for i in range(1,7+1):\n",
    "    means = df[df['emotion'] == i][choice_key[1:]].mean(axis=0).values\n",
    "    stds = df[df['emotion'] == i][choice_key[1:]].std(axis=0).values\n",
    "    # print([*means]+[*stds])\n",
    "    ellipse_dict[i].extend([*means]+[*stds])\n",
    "    # break\n"
   ]
  },
  {
   "cell_type": "code",
   "execution_count": null,
   "metadata": {},
   "outputs": [],
   "source": [
    "ellipse_dict"
   ]
  },
  {
   "cell_type": "code",
   "execution_count": null,
   "metadata": {},
   "outputs": [],
   "source": [
    "ellipse_dict.keys()"
   ]
  },
  {
   "cell_type": "code",
   "execution_count": null,
   "metadata": {},
   "outputs": [],
   "source": [
    "ellipse_dict.get(1)"
   ]
  },
  {
   "cell_type": "code",
   "execution_count": null,
   "metadata": {},
   "outputs": [],
   "source": [
    "emotion_r= { \n",
    "    1: 'surprise',\n",
    " 2: 'fear',\n",
    " 3: 'angry',\n",
    " 4: 'neutral',\n",
    " 5: 'happy',\n",
    " 6: 'sad',\n",
    " 7: 'disgust'}\n"
   ]
  },
  {
   "cell_type": "code",
   "execution_count": null,
   "metadata": {},
   "outputs": [],
   "source": [
    "\n",
    "import matplotlib.pyplot as plt\n",
    "import matplotlib.pyplot as plt \n",
    "from matplotlib import colormaps\n",
    "\n",
    "from matplotlib.patches import Ellipse\n",
    "'''\n",
    "patches.Ellipse(\n",
    "       xy = (5, 5), # xy xy coordinates of ellipse centre.\n",
    "       width = 5,   # width Total length (diameter) of horizontal axis.\n",
    "       height = 10, # height Total length (diameter) of vertical axis.\n",
    "       angle = -40, # angle Rotation in degrees anti-clockwise. 0 by default\n",
    "       edgecolor = 'black',\n",
    "       linestyle = 'solid', \n",
    "       fill = True,\n",
    "       facecolor = 'yellow',\n",
    "   ))\n",
    "\n",
    "'''\n",
    "import seaborn as sns \n",
    "color_palette = sns.color_palette(\"Set2\")\n",
    "\n",
    "fig, ax = plt.subplots(figsize=(5, 5))\n",
    "for emotion_key in ellipse_dict.keys():\n",
    "    x,y, width, hight = ellipse_dict.get(emotion_key)\n",
    "    tmp = Ellipse((x,y), width, hight,\n",
    "                  color=color_palette[emotion_key],\n",
    "                  fill = False,\n",
    "                  label=emotion_r.get(emotion_key),alpha=0.9) # Ellipse (x,y), width,  hight \n",
    "    ax.add_artist(tmp)\n",
    "\n",
    "ax.set_xlim((1, 5))\n",
    "ax.set_ylim((1, 5))\n",
    "ax.legend()\n",
    "ax.set_xlabel(\"Valence\")\n",
    "ax.set_ylabel(\"Arousal\")\n",
    "plt.grid()\n",
    "plt.show()\n",
    "\n",
    "# [eneu, ehap, esad, esur, efea, edis, eang], [\"Neutral\", \"Happy\", \"Sad\", \"Surprise\", \"Fear\", \"Disgust\", \"Anger\"]\n",
    "# ax.set_xlim((-1, 1))\n",
    "# ax.set_ylim((-1, 1))\n",
    "# ax.set_xlabel(\"Valence\")\n",
    "# ax.set_ylabel(\"Arousal\")\n",
    "# ax.legend([eneu, ehap, esad, esur, efea, edis, eang], [\"Neutral\", \"Happy\", \"Sad\", \"Surprise\", \"Fear\", \"Disgust\", \"Anger\"])\n",
    "# plt.show()"
   ]
  },
  {
   "cell_type": "code",
   "execution_count": null,
   "metadata": {},
   "outputs": [],
   "source": [
    "import seaborn as sns \n",
    "\n",
    "# refer : IAPS affective rating\n",
    "import matplotlib.cm as cm\n",
    "import matplotlib as mpl\n",
    "\n",
    "color_palette   = mpl.colormaps['viridis']\n",
    "# cmap = cm.bwr ## 또는 plt.cm.get_cmap('bwr')\n",
    "vmax = 6\n",
    "vmin = 0\n",
    "norm = mpl.colors.Normalize(vmin=vmin, vmax=vmax)\n",
    "colormapping = cm.ScalarMappable(norm=norm, cmap=color_palette)\n",
    "\n",
    "\n",
    "sns_palette = sns.color_palette('Set3')\n",
    "\n",
    "label_fsize = 20\n",
    "ticks_fsize = 12\n",
    "legend_size = 10\n",
    "\n",
    "plt.figure(figsize=(7,7))\n",
    "plt.scatter(df['arousal'], df['valence'],\n",
    "            color=[sns_palette[int(i)] for i in df['emotion']],\n",
    "            # cmap = colormapping,\n",
    "            alpha=0.4)\n",
    "\n",
    "\n",
    "plt.arrow(1.3, 1, 3.2,4, width = 0.05 ,label='Appetitive Motivation', alpha=0.6,color='red')\n",
    "plt.arrow(2, 3,   3, -2.1,width = 0.05 ,label='Defensive Motivation', alpha=0.6,color='blue')\n",
    "\n",
    "\n",
    "\n",
    "\n",
    "plt.xlabel('Arousal', fontweight='bold', fontsize=label_fsize)\n",
    "plt.ylabel('Valence', fontweight='bold', fontsize=label_fsize)\n",
    "plt.xlim(1,5.3)\n",
    "plt.ylim(0.7,5.3)\n",
    "plt.grid(True)\n",
    "plt.yticks(fontsize=ticks_fsize, fontweight='normal')\n",
    "plt.xticks(fontsize=ticks_fsize,\n",
    "            fontweight='normal',\n",
    "            )\n",
    "plt.legend(loc='upper left',fontsize=legend_size,)\n",
    "\n",
    "cb = plt.colorbar(label='Emotions', ax=plt.gca())\n",
    "# cb.set_ticks([0,1,2,3,4,5,6])\n",
    "cb.set_ticklabels(['surprise', 'fear', 'angry', 'neutral', 'happy', 'sad', 'disgust'])\n",
    "# plt.legend(,\n",
    "            #    loc='upper left',\n",
    "            #    fontsize=legend_size,\n",
    "            #    )\n",
    "plt.show()\n",
    "\n",
    "\n",
    "\n"
   ]
  },
  {
   "cell_type": "code",
   "execution_count": null,
   "metadata": {},
   "outputs": [],
   "source": []
  },
  {
   "cell_type": "code",
   "execution_count": null,
   "metadata": {},
   "outputs": [],
   "source": []
  },
  {
   "cell_type": "code",
   "execution_count": null,
   "metadata": {},
   "outputs": [],
   "source": []
  },
  {
   "cell_type": "code",
   "execution_count": null,
   "metadata": {},
   "outputs": [],
   "source": []
  },
  {
   "cell_type": "code",
   "execution_count": null,
   "metadata": {},
   "outputs": [],
   "source": []
  },
  {
   "cell_type": "code",
   "execution_count": null,
   "metadata": {},
   "outputs": [],
   "source": []
  },
  {
   "cell_type": "code",
   "execution_count": null,
   "metadata": {},
   "outputs": [],
   "source": []
  },
  {
   "cell_type": "code",
   "execution_count": null,
   "metadata": {},
   "outputs": [],
   "source": [
    "# refer : IAPS affective rating\n",
    "\n",
    "color_palette = sns.color_palette(\"Paired\")\n",
    "label_fsize = 20\n",
    "ticks_fsize = 12\n",
    "legend_size = 10\n",
    "\n",
    "plt.figure(figsize=(7,7))\n",
    "\n",
    "\n",
    "plt.scatter(df['arousal'], df['valence'],\n",
    "            # color=[f'C{int(i)}' for i in df['emotion']],\n",
    "            color=[color_palette[int(i)] for i in df['emotion']],\n",
    "            # edgecolors='black',linewidth=1,\n",
    "            # label=df['emotion'],\n",
    "            # label=[f'{emotion_r.get(i)}' for i in df['emotion']],\n",
    "            alpha=0.4)\n",
    "\n",
    "\n",
    "# plt.plot([1.3,4.7],[1,5.2],label='Appetitive Motivation', alpha=0.9,color='red')\n",
    "plt.arrow(1.3, 1, 3.2,4, width = 0.05 ,label='Appetitive Motivation', alpha=0.6,color='red')\n",
    "# plt.plot([2,5.2],[3,1],label='Appetitive Motivation', alpha=0.7,color='green')\n",
    "plt.arrow(2, 3,   3, -2.1,width = 0.05 ,label='Defensive Motivation', alpha=0.6,color='green')\n",
    "# plt.plot(x,z,label='z=3x')\n",
    "# plt.legend(bbox_to_anchor=(1,1))\n",
    "\n",
    "# [ 출처: https://seong6496.tistory.com/ ]\n",
    "\n",
    "\n",
    "\n",
    "plt.xlabel('Arousal', fontweight='bold', fontsize=label_fsize)\n",
    "plt.ylabel('Valence', fontweight='bold', fontsize=label_fsize)\n",
    "plt.xlim(1,5.3)\n",
    "plt.ylim(0.7,5.3)\n",
    "plt.grid(True)\n",
    "plt.yticks(fontsize=ticks_fsize, fontweight='normal')\n",
    "plt.xticks(fontsize=ticks_fsize,\n",
    "            fontweight='normal',\n",
    "            )\n",
    "plt.legend(loc='upper left',fontsize=legend_size,)\n",
    "\n",
    "\n",
    "\n",
    "from matplotlib.colors import ListedColormap\n",
    "# cmap = \n",
    "# cmap = ListedColormap(sns.color_palette(\"Paired\"))\n",
    "plt.colorbar(label='Emotions', ax=plt.gca())\n",
    "\n",
    "# cb = plt.colorbar(label='Emotions', ax=plt.gca())\n",
    "\n",
    "# cb.set_ticks([0,1,2,3,4,5,6])\n",
    "# cb.set_ticklabels(, ,['surprise', 'fear', 'angry', 'neutral', 'happy', 'sad', 'disgust'])\n",
    "# plt.legend(,\n",
    "            #    loc='upper left',\n",
    "            #    fontsize=legend_size,\n",
    "            #    )\n",
    "plt.show()\n"
   ]
  },
  {
   "cell_type": "code",
   "execution_count": null,
   "metadata": {},
   "outputs": [],
   "source": [
    "color_palette"
   ]
  },
  {
   "cell_type": "code",
   "execution_count": null,
   "metadata": {},
   "outputs": [],
   "source": [
    "from matplotlib.colors import ListedColormap\n",
    "\n",
    "cb = fig.colorbar(cmap, label='Emotions')\n",
    "cb.set_ticks([0,1,2,3,4,5,6])\n",
    "# cb.set_ticklabels(['surprise', 'fear', 'angry', 'neutral', 'happy', 'sad', 'disgust'])\n"
   ]
  },
  {
   "cell_type": "code",
   "execution_count": null,
   "metadata": {},
   "outputs": [],
   "source": []
  },
  {
   "cell_type": "code",
   "execution_count": null,
   "metadata": {},
   "outputs": [],
   "source": [
    "# for idx, row in df.iterrows():\n",
    "#     # print(row[2])\n",
    "#     plt.scatter(row.valence, row.arousal, color='C{}'.format(int(row.emotion)))"
   ]
  },
  {
   "cell_type": "code",
   "execution_count": null,
   "metadata": {},
   "outputs": [],
   "source": [
    "color_palette"
   ]
  },
  {
   "cell_type": "code",
   "execution_count": null,
   "metadata": {},
   "outputs": [],
   "source": []
  },
  {
   "cell_type": "code",
   "execution_count": null,
   "metadata": {},
   "outputs": [],
   "source": []
  }
 ],
 "metadata": {
  "kernelspec": {
   "display_name": "etri-erc",
   "language": "python",
   "name": "python3"
  },
  "language_info": {
   "codemirror_mode": {
    "name": "ipython",
    "version": 3
   },
   "file_extension": ".py",
   "mimetype": "text/x-python",
   "name": "python",
   "nbconvert_exporter": "python",
   "pygments_lexer": "ipython3",
   "version": "3.10.9"
  },
  "orig_nbformat": 4,
  "vscode": {
   "interpreter": {
    "hash": "d91dba4ef89c422bc4f5a90183fbfeb50a0fdb361fb291167f0137a8b87ec3ad"
   }
  }
 },
 "nbformat": 4,
 "nbformat_minor": 2
}
