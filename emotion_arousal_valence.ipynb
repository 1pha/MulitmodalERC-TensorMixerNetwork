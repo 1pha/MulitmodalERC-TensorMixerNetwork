{
 "cells": [
  {
   "cell_type": "code",
   "execution_count": 3,
   "metadata": {},
   "outputs": [],
   "source": [
    "import logging\n",
    "\n",
    "import hydra\n",
    "\n",
    "logger = logging.getLogger(__name__)\n",
    "logger.setLevel(logging.INFO)\n",
    "\n",
    "# from .erc import KEMDy19Dataset"
   ]
  },
  {
   "cell_type": "code",
   "execution_count": 4,
   "metadata": {},
   "outputs": [
    {
     "ename": "InstantiationException",
     "evalue": "Error locating target 'erc.datasets.KEMDy19Dataset', set env var HYDRA_FULL_ERROR=1 to see chained exception.\nfull_key: dataset",
     "output_type": "error",
     "traceback": [
      "\u001b[0;31m---------------------------------------------------------------------------\u001b[0m",
      "\u001b[0;31mAttributeError\u001b[0m                            Traceback (most recent call last)",
      "File \u001b[0;32m~/.conda/envs/etri-erc/lib/python3.9/site-packages/hydra/_internal/utils.py:644\u001b[0m, in \u001b[0;36m_locate\u001b[0;34m(path)\u001b[0m\n\u001b[1;32m    643\u001b[0m \u001b[39mtry\u001b[39;00m:\n\u001b[0;32m--> 644\u001b[0m     obj \u001b[39m=\u001b[39m \u001b[39mgetattr\u001b[39;49m(obj, part)\n\u001b[1;32m    645\u001b[0m \u001b[39mexcept\u001b[39;00m \u001b[39mAttributeError\u001b[39;00m \u001b[39mas\u001b[39;00m exc_attr:\n",
      "\u001b[0;31mAttributeError\u001b[0m: module 'erc' has no attribute 'datasets'",
      "\nDuring handling of the above exception, another exception occurred:\n",
      "\u001b[0;31mTypeError\u001b[0m                                 Traceback (most recent call last)",
      "File \u001b[0;32m~/.conda/envs/etri-erc/lib/python3.9/site-packages/hydra/_internal/utils.py:650\u001b[0m, in \u001b[0;36m_locate\u001b[0;34m(path)\u001b[0m\n\u001b[1;32m    649\u001b[0m \u001b[39mtry\u001b[39;00m:\n\u001b[0;32m--> 650\u001b[0m     obj \u001b[39m=\u001b[39m import_module(mod)\n\u001b[1;32m    651\u001b[0m     \u001b[39mcontinue\u001b[39;00m\n",
      "File \u001b[0;32m~/.conda/envs/etri-erc/lib/python3.9/importlib/__init__.py:127\u001b[0m, in \u001b[0;36mimport_module\u001b[0;34m(name, package)\u001b[0m\n\u001b[1;32m    126\u001b[0m         level \u001b[39m+\u001b[39m\u001b[39m=\u001b[39m \u001b[39m1\u001b[39m\n\u001b[0;32m--> 127\u001b[0m \u001b[39mreturn\u001b[39;00m _bootstrap\u001b[39m.\u001b[39;49m_gcd_import(name[level:], package, level)\n",
      "File \u001b[0;32m<frozen importlib._bootstrap>:1030\u001b[0m, in \u001b[0;36m_gcd_import\u001b[0;34m(name, package, level)\u001b[0m\n",
      "File \u001b[0;32m<frozen importlib._bootstrap>:1007\u001b[0m, in \u001b[0;36m_find_and_load\u001b[0;34m(name, import_)\u001b[0m\n",
      "File \u001b[0;32m<frozen importlib._bootstrap>:986\u001b[0m, in \u001b[0;36m_find_and_load_unlocked\u001b[0;34m(name, import_)\u001b[0m\n",
      "File \u001b[0;32m<frozen importlib._bootstrap>:680\u001b[0m, in \u001b[0;36m_load_unlocked\u001b[0;34m(spec)\u001b[0m\n",
      "File \u001b[0;32m<frozen importlib._bootstrap_external>:850\u001b[0m, in \u001b[0;36mexec_module\u001b[0;34m(self, module)\u001b[0m\n",
      "File \u001b[0;32m<frozen importlib._bootstrap>:228\u001b[0m, in \u001b[0;36m_call_with_frames_removed\u001b[0;34m(f, *args, **kwds)\u001b[0m\n",
      "File \u001b[0;32m~/etri-erc/erc/datasets.py:13\u001b[0m\n\u001b[1;32m     11\u001b[0m \u001b[39mfrom\u001b[39;00m \u001b[39mtorch\u001b[39;00m\u001b[39m.\u001b[39;00m\u001b[39mutils\u001b[39;00m\u001b[39m.\u001b[39;00m\u001b[39mdata\u001b[39;00m \u001b[39mimport\u001b[39;00m Dataset\n\u001b[0;32m---> 13\u001b[0m \u001b[39mfrom\u001b[39;00m \u001b[39m.\u001b[39;00m\u001b[39mutils\u001b[39;00m \u001b[39mimport\u001b[39;00m check_exists\n\u001b[1;32m     16\u001b[0m logger \u001b[39m=\u001b[39m logging\u001b[39m.\u001b[39mgetLogger(\u001b[39m__name__\u001b[39m)\n",
      "File \u001b[0;32m~/etri-erc/erc/utils.py:7\u001b[0m\n\u001b[1;32m      4\u001b[0m \u001b[39mfrom\u001b[39;00m \u001b[39mtorch\u001b[39;00m \u001b[39mimport\u001b[39;00m nn\n\u001b[0;32m----> 7\u001b[0m \u001b[39mdef\u001b[39;00m \u001b[39mcheck_exists\u001b[39m(path: \u001b[39mstr\u001b[39;49m \u001b[39m|\u001b[39;49m Path) \u001b[39m-\u001b[39m\u001b[39m>\u001b[39m \u001b[39mstr\u001b[39m \u001b[39m|\u001b[39m Path:\n\u001b[1;32m      8\u001b[0m     \u001b[39massert\u001b[39;00m os\u001b[39m.\u001b[39mpath\u001b[39m.\u001b[39mexists(path), \u001b[39mf\u001b[39m\u001b[39m\"\u001b[39m\u001b[39m{\u001b[39;00mpath\u001b[39m}\u001b[39;00m\u001b[39m does not exist.\u001b[39m\u001b[39m\"\u001b[39m\n",
      "\u001b[0;31mTypeError\u001b[0m: unsupported operand type(s) for |: 'type' and 'type'",
      "\nThe above exception was the direct cause of the following exception:\n",
      "\u001b[0;31mImportError\u001b[0m                               Traceback (most recent call last)",
      "File \u001b[0;32m~/.conda/envs/etri-erc/lib/python3.9/site-packages/hydra/_internal/instantiate/_instantiate2.py:134\u001b[0m, in \u001b[0;36m_resolve_target\u001b[0;34m(target, full_key)\u001b[0m\n\u001b[1;32m    133\u001b[0m \u001b[39mtry\u001b[39;00m:\n\u001b[0;32m--> 134\u001b[0m     target \u001b[39m=\u001b[39m _locate(target)\n\u001b[1;32m    135\u001b[0m \u001b[39mexcept\u001b[39;00m \u001b[39mException\u001b[39;00m \u001b[39mas\u001b[39;00m e:\n",
      "File \u001b[0;32m~/.conda/envs/etri-erc/lib/python3.9/site-packages/hydra/_internal/utils.py:658\u001b[0m, in \u001b[0;36m_locate\u001b[0;34m(path)\u001b[0m\n\u001b[1;32m    657\u001b[0m     \u001b[39mexcept\u001b[39;00m \u001b[39mException\u001b[39;00m \u001b[39mas\u001b[39;00m exc_import:\n\u001b[0;32m--> 658\u001b[0m         \u001b[39mraise\u001b[39;00m \u001b[39mImportError\u001b[39;00m(\n\u001b[1;32m    659\u001b[0m             \u001b[39mf\u001b[39m\u001b[39m\"\u001b[39m\u001b[39mError loading \u001b[39m\u001b[39m'\u001b[39m\u001b[39m{\u001b[39;00mpath\u001b[39m}\u001b[39;00m\u001b[39m'\u001b[39m\u001b[39m:\u001b[39m\u001b[39m\\n\u001b[39;00m\u001b[39m{\u001b[39;00m\u001b[39mrepr\u001b[39m(exc_import)\u001b[39m}\u001b[39;00m\u001b[39m\"\u001b[39m\n\u001b[1;32m    660\u001b[0m         ) \u001b[39mfrom\u001b[39;00m \u001b[39mexc_import\u001b[39;00m\n\u001b[1;32m    661\u001b[0m \u001b[39mraise\u001b[39;00m \u001b[39mImportError\u001b[39;00m(\n\u001b[1;32m    662\u001b[0m     \u001b[39mf\u001b[39m\u001b[39m\"\u001b[39m\u001b[39mError loading \u001b[39m\u001b[39m'\u001b[39m\u001b[39m{\u001b[39;00mpath\u001b[39m}\u001b[39;00m\u001b[39m'\u001b[39m\u001b[39m:\u001b[39m\u001b[39m\\n\u001b[39;00m\u001b[39m{\u001b[39;00m\u001b[39mrepr\u001b[39m(exc_attr)\u001b[39m}\u001b[39;00m\u001b[39m\"\u001b[39m\n\u001b[1;32m    663\u001b[0m     \u001b[39m+\u001b[39m \u001b[39mf\u001b[39m\u001b[39m\"\u001b[39m\u001b[39m\\n\u001b[39;00m\u001b[39mAre you sure that \u001b[39m\u001b[39m'\u001b[39m\u001b[39m{\u001b[39;00mpart\u001b[39m}\u001b[39;00m\u001b[39m'\u001b[39m\u001b[39m is an attribute of \u001b[39m\u001b[39m'\u001b[39m\u001b[39m{\u001b[39;00mparent_dotpath\u001b[39m}\u001b[39;00m\u001b[39m'\u001b[39m\u001b[39m?\u001b[39m\u001b[39m\"\u001b[39m\n\u001b[1;32m    664\u001b[0m ) \u001b[39mfrom\u001b[39;00m \u001b[39mexc_attr\u001b[39;00m\n",
      "\u001b[0;31mImportError\u001b[0m: Error loading 'erc.datasets.KEMDy19Dataset':\nTypeError(\"unsupported operand type(s) for |: 'type' and 'type'\")",
      "\nThe above exception was the direct cause of the following exception:\n",
      "\u001b[0;31mInstantiationException\u001b[0m                    Traceback (most recent call last)",
      "Cell \u001b[0;32mIn[4], line 3\u001b[0m\n\u001b[1;32m      1\u001b[0m \u001b[39mwith\u001b[39;00m hydra\u001b[39m.\u001b[39minitialize(version_base\u001b[39m=\u001b[39m\u001b[39mNone\u001b[39;00m, config_path\u001b[39m=\u001b[39m\u001b[39m\"\u001b[39m\u001b[39m./config\u001b[39m\u001b[39m\"\u001b[39m):\n\u001b[1;32m      2\u001b[0m     cfg \u001b[39m=\u001b[39m hydra\u001b[39m.\u001b[39mcompose(config_name\u001b[39m=\u001b[39m\u001b[39m\"\u001b[39m\u001b[39mconfig\u001b[39m\u001b[39m\"\u001b[39m, overrides\u001b[39m=\u001b[39m{\u001b[39m\"\u001b[39m\u001b[39mdataset.generate_csv=True\u001b[39m\u001b[39m\"\u001b[39m})\n\u001b[0;32m----> 3\u001b[0m dataset \u001b[39m=\u001b[39m hydra\u001b[39m.\u001b[39;49mutils\u001b[39m.\u001b[39;49minstantiate(cfg\u001b[39m.\u001b[39;49mdataset)\n",
      "File \u001b[0;32m~/.conda/envs/etri-erc/lib/python3.9/site-packages/hydra/_internal/instantiate/_instantiate2.py:226\u001b[0m, in \u001b[0;36minstantiate\u001b[0;34m(config, *args, **kwargs)\u001b[0m\n\u001b[1;32m    223\u001b[0m     _convert_ \u001b[39m=\u001b[39m config\u001b[39m.\u001b[39mpop(_Keys\u001b[39m.\u001b[39mCONVERT, ConvertMode\u001b[39m.\u001b[39mNONE)\n\u001b[1;32m    224\u001b[0m     _partial_ \u001b[39m=\u001b[39m config\u001b[39m.\u001b[39mpop(_Keys\u001b[39m.\u001b[39mPARTIAL, \u001b[39mFalse\u001b[39;00m)\n\u001b[0;32m--> 226\u001b[0m     \u001b[39mreturn\u001b[39;00m instantiate_node(\n\u001b[1;32m    227\u001b[0m         config, \u001b[39m*\u001b[39;49margs, recursive\u001b[39m=\u001b[39;49m_recursive_, convert\u001b[39m=\u001b[39;49m_convert_, partial\u001b[39m=\u001b[39;49m_partial_\n\u001b[1;32m    228\u001b[0m     )\n\u001b[1;32m    229\u001b[0m \u001b[39melif\u001b[39;00m OmegaConf\u001b[39m.\u001b[39mis_list(config):\n\u001b[1;32m    230\u001b[0m     \u001b[39m# Finalize config (convert targets to strings, merge with kwargs)\u001b[39;00m\n\u001b[1;32m    231\u001b[0m     config_copy \u001b[39m=\u001b[39m copy\u001b[39m.\u001b[39mdeepcopy(config)\n",
      "File \u001b[0;32m~/.conda/envs/etri-erc/lib/python3.9/site-packages/hydra/_internal/instantiate/_instantiate2.py:333\u001b[0m, in \u001b[0;36minstantiate_node\u001b[0;34m(node, convert, recursive, partial, *args)\u001b[0m\n\u001b[1;32m    331\u001b[0m exclude_keys \u001b[39m=\u001b[39m \u001b[39mset\u001b[39m({\u001b[39m\"\u001b[39m\u001b[39m_target_\u001b[39m\u001b[39m\"\u001b[39m, \u001b[39m\"\u001b[39m\u001b[39m_convert_\u001b[39m\u001b[39m\"\u001b[39m, \u001b[39m\"\u001b[39m\u001b[39m_recursive_\u001b[39m\u001b[39m\"\u001b[39m, \u001b[39m\"\u001b[39m\u001b[39m_partial_\u001b[39m\u001b[39m\"\u001b[39m})\n\u001b[1;32m    332\u001b[0m \u001b[39mif\u001b[39;00m _is_target(node):\n\u001b[0;32m--> 333\u001b[0m     _target_ \u001b[39m=\u001b[39m _resolve_target(node\u001b[39m.\u001b[39;49mget(_Keys\u001b[39m.\u001b[39;49mTARGET), full_key)\n\u001b[1;32m    334\u001b[0m     kwargs \u001b[39m=\u001b[39m {}\n\u001b[1;32m    335\u001b[0m     is_partial \u001b[39m=\u001b[39m node\u001b[39m.\u001b[39mget(\u001b[39m\"\u001b[39m\u001b[39m_partial_\u001b[39m\u001b[39m\"\u001b[39m, \u001b[39mFalse\u001b[39;00m) \u001b[39mor\u001b[39;00m partial\n",
      "File \u001b[0;32m~/.conda/envs/etri-erc/lib/python3.9/site-packages/hydra/_internal/instantiate/_instantiate2.py:139\u001b[0m, in \u001b[0;36m_resolve_target\u001b[0;34m(target, full_key)\u001b[0m\n\u001b[1;32m    137\u001b[0m         \u001b[39mif\u001b[39;00m full_key:\n\u001b[1;32m    138\u001b[0m             msg \u001b[39m+\u001b[39m\u001b[39m=\u001b[39m \u001b[39mf\u001b[39m\u001b[39m\"\u001b[39m\u001b[39m\\n\u001b[39;00m\u001b[39mfull_key: \u001b[39m\u001b[39m{\u001b[39;00mfull_key\u001b[39m}\u001b[39;00m\u001b[39m\"\u001b[39m\n\u001b[0;32m--> 139\u001b[0m         \u001b[39mraise\u001b[39;00m InstantiationException(msg) \u001b[39mfrom\u001b[39;00m \u001b[39me\u001b[39;00m\n\u001b[1;32m    140\u001b[0m \u001b[39mif\u001b[39;00m \u001b[39mnot\u001b[39;00m callable(target):\n\u001b[1;32m    141\u001b[0m     msg \u001b[39m=\u001b[39m \u001b[39mf\u001b[39m\u001b[39m\"\u001b[39m\u001b[39mExpected a callable target, got \u001b[39m\u001b[39m'\u001b[39m\u001b[39m{\u001b[39;00mtarget\u001b[39m}\u001b[39;00m\u001b[39m'\u001b[39m\u001b[39m of type \u001b[39m\u001b[39m'\u001b[39m\u001b[39m{\u001b[39;00m\u001b[39mtype\u001b[39m(target)\u001b[39m.\u001b[39m\u001b[39m__name__\u001b[39m\u001b[39m}\u001b[39;00m\u001b[39m'\u001b[39m\u001b[39m\"\u001b[39m\n",
      "\u001b[0;31mInstantiationException\u001b[0m: Error locating target 'erc.datasets.KEMDy19Dataset', set env var HYDRA_FULL_ERROR=1 to see chained exception.\nfull_key: dataset"
     ]
    }
   ],
   "source": [
    "with hydra.initialize(version_base=None, config_path=\"./config\"):\n",
    "    cfg = hydra.compose(config_name=\"config\", overrides={\"dataset.generate_csv=True\"})\n",
    "dataset = hydra.utils.instantiate(cfg.dataset)"
   ]
  },
  {
   "cell_type": "code",
   "execution_count": null,
   "metadata": {},
   "outputs": [],
   "source": [
    "import matplotlib.pyplot as plt \n",
    "from matplotlib import cm\n",
    "\n",
    "\n",
    "COLOR_MAP  = cm.get_cmap('inferno', 7)  # visualize with the colormaps / option 'inferno' 'set3'ArithmeticError\n"
   ]
  },
  {
   "cell_type": "code",
   "execution_count": null,
   "metadata": {},
   "outputs": [],
   "source": []
  }
 ],
 "metadata": {
  "kernelspec": {
   "display_name": "etri-erc",
   "language": "python",
   "name": "python3"
  },
  "language_info": {
   "codemirror_mode": {
    "name": "ipython",
    "version": 3
   },
   "file_extension": ".py",
   "mimetype": "text/x-python",
   "name": "python",
   "nbconvert_exporter": "python",
   "pygments_lexer": "ipython3",
   "version": "3.9.16"
  },
  "orig_nbformat": 4,
  "vscode": {
   "interpreter": {
    "hash": "d91dba4ef89c422bc4f5a90183fbfeb50a0fdb361fb291167f0137a8b87ec3ad"
   }
  }
 },
 "nbformat": 4,
 "nbformat_minor": 2
}
