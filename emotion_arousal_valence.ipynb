{
 "cells": [
  {
   "cell_type": "code",
   "execution_count": 2,
   "metadata": {},
   "outputs": [
    {
     "data": {
      "application/vnd.jupyter.widget-view+json": {
       "model_id": "cff33a9f847c43d0ad87d98f0c56382a",
       "version_major": 2,
       "version_minor": 0
      },
      "text/plain": [
       "Processing ECG / EDA / Label:   0%|          | 0/20 [00:00<?, ?it/s]"
      ]
     },
     "metadata": {},
     "output_type": "display_data"
    }
   ],
   "source": [
    "import logging\n",
    "import hydra\n",
    "import pandas as pd\n",
    "\n",
    "from collections import defaultdict\n",
    "from tqdm import tqdm \n",
    "\n",
    "\n",
    "logger = logging.getLogger(__name__)\n",
    "logger.setLevel(logging.INFO)\n",
    "\n",
    "with hydra.initialize(version_base=None, config_path=\"./config\"):\n",
    "    cfg = hydra.compose(config_name=\"config\", overrides={\"dataset.generate_csv=True\"})\n",
    "dataset = hydra.utils.instantiate(cfg.dataset)\n"
   ]
  },
  {
   "cell_type": "code",
   "execution_count": 3,
   "metadata": {},
   "outputs": [
    {
     "name": "stderr",
     "output_type": "stream",
     "text": [
      " 11%|█▏        | 1157/10128 [00:02<00:15, 580.11it/s]"
     ]
    },
    {
     "name": "stdout",
     "output_type": "stream",
     "text": [
      "Error occurs ->  data/KEMDy19/wav/Session03/Sess03_script04\n"
     ]
    },
    {
     "name": "stderr",
     "output_type": "stream",
     "text": [
      " 25%|██▌       | 2564/10128 [00:04<00:13, 575.35it/s]"
     ]
    },
    {
     "name": "stdout",
     "output_type": "stream",
     "text": [
      "Error occurs ->  data/KEMDy19/wav/Session06/Sess06_script02\n",
      "Error occurs ->  data/KEMDy19/wav/Session06/Sess06_script02\n"
     ]
    },
    {
     "name": "stderr",
     "output_type": "stream",
     "text": [
      " 30%|██▉       | 3031/10128 [00:05<00:12, 574.85it/s]"
     ]
    },
    {
     "name": "stdout",
     "output_type": "stream",
     "text": [
      "Error occurs ->  data/KEMDy19/wav/Session07/Sess07_script02\n",
      "Error occurs ->  data/KEMDy19/wav/Session07/Sess07_script02\n"
     ]
    },
    {
     "name": "stderr",
     "output_type": "stream",
     "text": [
      "100%|██████████| 10128/10128 [00:17<00:00, 574.41it/s]\n"
     ]
    }
   ],
   "source": [
    "# DEFAULT VALUE \n",
    "choice_key = ['emotion','valence','arousal','gender']\n",
    "\n",
    "\n",
    "\n",
    "\n",
    "eva_dict = defaultdict(list)\n",
    "for sample in tqdm(dataset):\n",
    "    for key_ in choice_key:\n",
    "        if not sample.get(key_) == None:\n",
    "            eva_dict[key_].append(sample.get(key_).item())"
   ]
  },
  {
   "cell_type": "code",
   "execution_count": 4,
   "metadata": {},
   "outputs": [
    {
     "data": {
      "text/html": [
       "<div>\n",
       "<style scoped>\n",
       "    .dataframe tbody tr th:only-of-type {\n",
       "        vertical-align: middle;\n",
       "    }\n",
       "\n",
       "    .dataframe tbody tr th {\n",
       "        vertical-align: top;\n",
       "    }\n",
       "\n",
       "    .dataframe thead th {\n",
       "        text-align: right;\n",
       "    }\n",
       "</style>\n",
       "<table border=\"1\" class=\"dataframe\">\n",
       "  <thead>\n",
       "    <tr style=\"text-align: right;\">\n",
       "      <th></th>\n",
       "      <th>emotion</th>\n",
       "      <th>valence</th>\n",
       "      <th>arousal</th>\n",
       "      <th>gender</th>\n",
       "    </tr>\n",
       "  </thead>\n",
       "  <tbody>\n",
       "    <tr>\n",
       "      <th>0</th>\n",
       "      <td>1</td>\n",
       "      <td>1.7</td>\n",
       "      <td>4.0</td>\n",
       "      <td>0</td>\n",
       "    </tr>\n",
       "    <tr>\n",
       "      <th>1</th>\n",
       "      <td>2</td>\n",
       "      <td>1.5</td>\n",
       "      <td>3.6</td>\n",
       "      <td>1</td>\n",
       "    </tr>\n",
       "    <tr>\n",
       "      <th>2</th>\n",
       "      <td>3</td>\n",
       "      <td>1.3</td>\n",
       "      <td>4.3</td>\n",
       "      <td>0</td>\n",
       "    </tr>\n",
       "    <tr>\n",
       "      <th>3</th>\n",
       "      <td>3</td>\n",
       "      <td>1.5</td>\n",
       "      <td>3.8</td>\n",
       "      <td>0</td>\n",
       "    </tr>\n",
       "    <tr>\n",
       "      <th>4</th>\n",
       "      <td>2</td>\n",
       "      <td>1.6</td>\n",
       "      <td>3.7</td>\n",
       "      <td>1</td>\n",
       "    </tr>\n",
       "    <tr>\n",
       "      <th>...</th>\n",
       "      <td>...</td>\n",
       "      <td>...</td>\n",
       "      <td>...</td>\n",
       "      <td>...</td>\n",
       "    </tr>\n",
       "    <tr>\n",
       "      <th>10118</th>\n",
       "      <td>6</td>\n",
       "      <td>2.3</td>\n",
       "      <td>2.1</td>\n",
       "      <td>0</td>\n",
       "    </tr>\n",
       "    <tr>\n",
       "      <th>10119</th>\n",
       "      <td>6</td>\n",
       "      <td>2.5</td>\n",
       "      <td>2.3</td>\n",
       "      <td>1</td>\n",
       "    </tr>\n",
       "    <tr>\n",
       "      <th>10120</th>\n",
       "      <td>6</td>\n",
       "      <td>2.1</td>\n",
       "      <td>1.8</td>\n",
       "      <td>0</td>\n",
       "    </tr>\n",
       "    <tr>\n",
       "      <th>10121</th>\n",
       "      <td>5</td>\n",
       "      <td>3.9</td>\n",
       "      <td>3.2</td>\n",
       "      <td>1</td>\n",
       "    </tr>\n",
       "    <tr>\n",
       "      <th>10122</th>\n",
       "      <td>5</td>\n",
       "      <td>4.2</td>\n",
       "      <td>4.0</td>\n",
       "      <td>0</td>\n",
       "    </tr>\n",
       "  </tbody>\n",
       "</table>\n",
       "<p>10123 rows × 4 columns</p>\n",
       "</div>"
      ],
      "text/plain": [
       "       emotion  valence  arousal  gender\n",
       "0            1      1.7      4.0       0\n",
       "1            2      1.5      3.6       1\n",
       "2            3      1.3      4.3       0\n",
       "3            3      1.5      3.8       0\n",
       "4            2      1.6      3.7       1\n",
       "...        ...      ...      ...     ...\n",
       "10118        6      2.3      2.1       0\n",
       "10119        6      2.5      2.3       1\n",
       "10120        6      2.1      1.8       0\n",
       "10121        5      3.9      3.2       1\n",
       "10122        5      4.2      4.0       0\n",
       "\n",
       "[10123 rows x 4 columns]"
      ]
     },
     "execution_count": 4,
     "metadata": {},
     "output_type": "execute_result"
    }
   ],
   "source": [
    "\n",
    "df = pd.DataFrame(eva_dict)\n",
    "df"
   ]
  },
  {
   "attachments": {},
   "cell_type": "markdown",
   "metadata": {},
   "source": [
    "## Emotion EDA"
   ]
  },
  {
   "cell_type": "code",
   "execution_count": 23,
   "metadata": {},
   "outputs": [
    {
     "name": "stdout",
     "output_type": "stream",
     "text": [
      "Male: 5183, Female: 4940\n",
      "valence: \n",
      "\tMin: 1.00\n",
      "\tMax: 5.00\n",
      "arousal: \n",
      "\tMin: 1.40\n",
      "\tMax: 5.00\n"
     ]
    }
   ],
   "source": [
    "# 성별 \n",
    "print('Male: {:04d}, Female: {:04d}'.format(*df['gender'].value_counts().values))\n",
    "\n",
    "# Valence min-max \n",
    "for key in ['valence','arousal']:\n",
    "    print(f'{key}: \\n\\tMin: {min(df[key]):.2f}\\n\\tMax: {max(df[key]):.2f}')\n",
    "\n"
   ]
  },
  {
   "cell_type": "code",
   "execution_count": 36,
   "metadata": {},
   "outputs": [],
   "source": [
    "emotion_r= { \n",
    "1: 'surprise',\n",
    " 2: 'fear',\n",
    " 3: 'angry',\n",
    " 4: 'neutral',\n",
    " 5: 'happy',\n",
    " 6: 'sad',\n",
    " 7: 'disgust'}"
   ]
  },
  {
   "cell_type": "code",
   "execution_count": 37,
   "metadata": {},
   "outputs": [
    {
     "data": {
      "text/html": [
       "<div>\n",
       "<style scoped>\n",
       "    .dataframe tbody tr th:only-of-type {\n",
       "        vertical-align: middle;\n",
       "    }\n",
       "\n",
       "    .dataframe tbody tr th {\n",
       "        vertical-align: top;\n",
       "    }\n",
       "\n",
       "    .dataframe thead th {\n",
       "        text-align: right;\n",
       "    }\n",
       "</style>\n",
       "<table border=\"1\" class=\"dataframe\">\n",
       "  <thead>\n",
       "    <tr style=\"text-align: right;\">\n",
       "      <th></th>\n",
       "      <th>emotion</th>\n",
       "      <th>valence</th>\n",
       "      <th>arousal</th>\n",
       "      <th>gender</th>\n",
       "    </tr>\n",
       "  </thead>\n",
       "  <tbody>\n",
       "    <tr>\n",
       "      <th>43</th>\n",
       "      <td>0</td>\n",
       "      <td>2.2</td>\n",
       "      <td>3.1</td>\n",
       "      <td>0</td>\n",
       "    </tr>\n",
       "    <tr>\n",
       "      <th>53</th>\n",
       "      <td>0</td>\n",
       "      <td>1.7</td>\n",
       "      <td>3.6</td>\n",
       "      <td>0</td>\n",
       "    </tr>\n",
       "    <tr>\n",
       "      <th>77</th>\n",
       "      <td>0</td>\n",
       "      <td>4.2</td>\n",
       "      <td>3.6</td>\n",
       "      <td>1</td>\n",
       "    </tr>\n",
       "    <tr>\n",
       "      <th>92</th>\n",
       "      <td>0</td>\n",
       "      <td>3.1</td>\n",
       "      <td>3.0</td>\n",
       "      <td>1</td>\n",
       "    </tr>\n",
       "    <tr>\n",
       "      <th>136</th>\n",
       "      <td>0</td>\n",
       "      <td>2.1</td>\n",
       "      <td>2.7</td>\n",
       "      <td>1</td>\n",
       "    </tr>\n",
       "    <tr>\n",
       "      <th>...</th>\n",
       "      <td>...</td>\n",
       "      <td>...</td>\n",
       "      <td>...</td>\n",
       "      <td>...</td>\n",
       "    </tr>\n",
       "    <tr>\n",
       "      <th>10021</th>\n",
       "      <td>0</td>\n",
       "      <td>2.0</td>\n",
       "      <td>4.3</td>\n",
       "      <td>0</td>\n",
       "    </tr>\n",
       "    <tr>\n",
       "      <th>10022</th>\n",
       "      <td>0</td>\n",
       "      <td>1.7</td>\n",
       "      <td>3.8</td>\n",
       "      <td>1</td>\n",
       "    </tr>\n",
       "    <tr>\n",
       "      <th>10052</th>\n",
       "      <td>0</td>\n",
       "      <td>2.3</td>\n",
       "      <td>3.5</td>\n",
       "      <td>1</td>\n",
       "    </tr>\n",
       "    <tr>\n",
       "      <th>10073</th>\n",
       "      <td>0</td>\n",
       "      <td>2.2</td>\n",
       "      <td>3.9</td>\n",
       "      <td>0</td>\n",
       "    </tr>\n",
       "    <tr>\n",
       "      <th>10112</th>\n",
       "      <td>0</td>\n",
       "      <td>1.3</td>\n",
       "      <td>2.4</td>\n",
       "      <td>0</td>\n",
       "    </tr>\n",
       "  </tbody>\n",
       "</table>\n",
       "<p>641 rows × 4 columns</p>\n",
       "</div>"
      ],
      "text/plain": [
       "       emotion  valence  arousal  gender\n",
       "43           0      2.2      3.1       0\n",
       "53           0      1.7      3.6       0\n",
       "77           0      4.2      3.6       1\n",
       "92           0      3.1      3.0       1\n",
       "136          0      2.1      2.7       1\n",
       "...        ...      ...      ...     ...\n",
       "10021        0      2.0      4.3       0\n",
       "10022        0      1.7      3.8       1\n",
       "10052        0      2.3      3.5       1\n",
       "10073        0      2.2      3.9       0\n",
       "10112        0      1.3      2.4       0\n",
       "\n",
       "[641 rows x 4 columns]"
      ]
     },
     "execution_count": 37,
     "metadata": {},
     "output_type": "execute_result"
    }
   ],
   "source": [
    "df[df['emotion']==0]"
   ]
  },
  {
   "cell_type": "code",
   "execution_count": 38,
   "metadata": {},
   "outputs": [],
   "source": [
    "\n",
    "# 감정 별 Valence Arousal mean, std \n",
    "mean_std_dict = defaultdict(dict)\n",
    "for i in df['emotion'].unique():\n",
    "    emotion = emotion_r.get(i)\n",
    "    means = df[df['emotion'] == i][choice_key[1:-1]].mean(axis=0).values\n",
    "    stds = df[df['emotion'] == i][choice_key[1:-1]].std(axis=0).values\n",
    "\n",
    "    tmp_dict = {\n",
    "        'valence_mean': means[0],\n",
    "        'valence_std' : means[1],\n",
    "        'arousal_mean' : stds[0],\n",
    "        'arousal_std': stds[1]\n",
    "    }\n",
    "    \n",
    "    mean_std_dict[emotion] = tmp_dict\n"
   ]
  },
  {
   "cell_type": "code",
   "execution_count": 39,
   "metadata": {},
   "outputs": [
    {
     "data": {
      "text/plain": [
       "defaultdict(dict,\n",
       "            {'surprise': {'valence_mean': 2.6472448948694733,\n",
       "              'valence_std': 3.6433673479119126,\n",
       "              'arousal_mean': 0.8856260971230319,\n",
       "              'arousal_std': 0.5327735883932074},\n",
       "             'fear': {'valence_mean': 1.7393139764312704,\n",
       "              'valence_std': 3.6382585710460087,\n",
       "              'arousal_mean': 0.3645110587205513,\n",
       "              'arousal_std': 0.47457931560427524},\n",
       "             'angry': {'valence_mean': 1.8041186092451076,\n",
       "              'valence_std': 3.7963207056075907,\n",
       "              'arousal_mean': 0.39539874872737485,\n",
       "              'arousal_std': 0.586658141782647},\n",
       "             'neutral': {'valence_mean': 2.968239999548594,\n",
       "              'valence_std': 2.980586666075389,\n",
       "              'arousal_mean': 0.5950913754293659,\n",
       "              'arousal_std': 0.33588868528295596},\n",
       "             None: {'valence_mean': 2.8068642636729106,\n",
       "              'valence_std': 3.3146645860999313,\n",
       "              'arousal_mean': 0.9293224998722553,\n",
       "              'arousal_std': 0.5686636700639606},\n",
       "             'happy': {'valence_mean': 4.315982720077767,\n",
       "              'valence_std': 3.8676745864107422,\n",
       "              'arousal_mean': 0.36354521636717796,\n",
       "              'arousal_std': 0.5345407948081331},\n",
       "             'sad': {'valence_mean': 1.8888020805704098,\n",
       "              'valence_std': 2.6199218708400926,\n",
       "              'arousal_mean': 0.5271305530715485,\n",
       "              'arousal_std': 0.6399205435627313},\n",
       "             'disgust': {'valence_mean': 2.2032911276515526,\n",
       "              'valence_std': 3.121265821819064,\n",
       "              'arousal_mean': 0.37796450083865407,\n",
       "              'arousal_std': 0.4353112134395396}})"
      ]
     },
     "execution_count": 39,
     "metadata": {},
     "output_type": "execute_result"
    }
   ],
   "source": [
    "mean_std_dict"
   ]
  },
  {
   "cell_type": "code",
   "execution_count": null,
   "metadata": {},
   "outputs": [],
   "source": [
    "import matplotlib.pyplot as plt\n",
    "import matplotlib.pyplot as plt \n",
    "from matplotlib import colormaps\n",
    "\n",
    "from matplotlib.patches import Ellipse\n",
    "\n",
    "\n",
    "def drawing_ellipse(total_dict):\n",
    "    fig, ax = plt.subplots(figsize=(5, 5))\n",
    "    for emotion_key in total_dict.keys():\n",
    "        x,y, width, hight = ellipse_dict.get(emotion_key)\n",
    "    tmp = Ellipse((x,y), width, hight,\n",
    "                  color=color_palette[emotion_key],\n",
    "                  fill = False,\n",
    "                  label=emotion_r.get(emotion_key),alpha=0.9) # Ellipse (x,y), width,  hight \n",
    "    ax.add_artist(tmp)\n",
    "\n",
    "ax.set_xlim((1, 5))\n",
    "ax.set_ylim((1, 5))\n",
    "ax.legend()\n",
    "ax.set_xlabel(\"Valence\")\n",
    "ax.set_ylabel(\"Arousal\")\n",
    "plt.grid()\n",
    "plt.show()"
   ]
  },
  {
   "cell_type": "code",
   "execution_count": null,
   "metadata": {},
   "outputs": [],
   "source": [
    "import seaborn as sns \n",
    "color_palette = sns.color_palette(\"Set2\")\n",
    "\n",
    "fig, ax = plt.subplots(figsize=(5, 5))\n",
    "for emotion_key in ellipse_dict.keys():\n",
    "    x,y, width, hight = ellipse_dict.get(emotion_key)\n",
    "    tmp = Ellipse((x,y), width, hight,\n",
    "                  color=color_palette[emotion_key],\n",
    "                  fill = False,\n",
    "                  label=emotion_r.get(emotion_key),alpha=0.9) # Ellipse (x,y), width,  hight \n",
    "    ax.add_artist(tmp)\n",
    "\n",
    "ax.set_xlim((1, 5))\n",
    "ax.set_ylim((1, 5))\n",
    "ax.legend()\n",
    "ax.set_xlabel(\"Valence\")\n",
    "ax.set_ylabel(\"Arousal\")\n",
    "plt.grid()\n",
    "plt.show()"
   ]
  },
  {
   "cell_type": "code",
   "execution_count": null,
   "metadata": {},
   "outputs": [],
   "source": []
  },
  {
   "cell_type": "markdown",
   "metadata": {},
   "source": []
  },
  {
   "cell_type": "code",
   "execution_count": null,
   "metadata": {},
   "outputs": [],
   "source": [
    "\n",
    "\n",
    "'''\n",
    "patches.Ellipse(\n",
    "       xy = (5, 5), # xy xy coordinates of ellipse centre.\n",
    "       width = 5,   # width Total length (diameter) of horizontal axis.\n",
    "       height = 10, # height Total length (diameter) of vertical axis.\n",
    "       angle = -40, # angle Rotation in degrees anti-clockwise. 0 by default\n",
    "       edgecolor = 'black',\n",
    "       linestyle = 'solid', \n",
    "       fill = True,\n",
    "       facecolor = 'yellow',\n",
    "   ))\n",
    "\n",
    "'''\n",
    "import seaborn as sns \n",
    "color_palette = sns.color_palette(\"Set2\")\n",
    "\n",
    "fig, ax = plt.subplots(figsize=(5, 5))\n",
    "for emotion_key in ellipse_dict.keys():\n",
    "    x,y, width, hight = ellipse_dict.get(emotion_key)\n",
    "    tmp = Ellipse((x,y), width, hight,\n",
    "                  color=color_palette[emotion_key],\n",
    "                  fill = False,\n",
    "                  label=emotion_r.get(emotion_key),alpha=0.9) # Ellipse (x,y), width,  hight \n",
    "    ax.add_artist(tmp)\n",
    "\n",
    "ax.set_xlim((1, 5))\n",
    "ax.set_ylim((1, 5))\n",
    "ax.legend()\n",
    "ax.set_xlabel(\"Valence\")\n",
    "ax.set_ylabel(\"Arousal\")\n",
    "plt.grid()\n",
    "plt.show()\n",
    "\n",
    "# [eneu, ehap, esad, esur, efea, edis, eang], [\"Neutral\", \"Happy\", \"Sad\", \"Surprise\", \"Fear\", \"Disgust\", \"Anger\"]\n",
    "# ax.set_xlim((-1, 1))\n",
    "# ax.set_ylim((-1, 1))\n",
    "# ax.set_xlabel(\"Valence\")\n",
    "# ax.set_ylabel(\"Arousal\")\n",
    "# ax.legend([eneu, ehap, esad, esur, efea, edis, eang], [\"Neutral\", \"Happy\", \"Sad\", \"Surprise\", \"Fear\", \"Disgust\", \"Anger\"])\n",
    "# plt.show()"
   ]
  },
  {
   "cell_type": "code",
   "execution_count": null,
   "metadata": {},
   "outputs": [],
   "source": [
    "import seaborn as sns \n",
    "\n",
    "# refer : IAPS affective rating\n",
    "import matplotlib.cm as cm\n",
    "import matplotlib as mpl\n",
    "\n",
    "color_palette   = mpl.colormaps['viridis']\n",
    "# cmap = cm.bwr ## 또는 plt.cm.get_cmap('bwr')\n",
    "vmax = 6\n",
    "vmin = 0\n",
    "norm = mpl.colors.Normalize(vmin=vmin, vmax=vmax)\n",
    "colormapping = cm.ScalarMappable(norm=norm, cmap=color_palette)\n",
    "\n",
    "\n",
    "sns_palette = sns.color_palette('Set3')\n",
    "\n",
    "label_fsize = 20\n",
    "ticks_fsize = 12\n",
    "legend_size = 10\n",
    "\n",
    "plt.figure(figsize=(7,7))\n",
    "plt.scatter(df['arousal'], df['valence'],\n",
    "            color=[sns_palette[int(i)] for i in df['emotion']],\n",
    "            # cmap = colormapping,\n",
    "            alpha=0.4)\n",
    "\n",
    "\n",
    "plt.arrow(1.3, 1, 3.2,4, width = 0.05 ,label='Appetitive Motivation', alpha=0.6,color='red')\n",
    "plt.arrow(2, 3,   3, -2.1,width = 0.05 ,label='Defensive Motivation', alpha=0.6,color='blue')\n",
    "\n",
    "\n",
    "\n",
    "\n",
    "plt.xlabel('Arousal', fontweight='bold', fontsize=label_fsize)\n",
    "plt.ylabel('Valence', fontweight='bold', fontsize=label_fsize)\n",
    "plt.xlim(1,5.3)\n",
    "plt.ylim(0.7,5.3)\n",
    "plt.grid(True)\n",
    "plt.yticks(fontsize=ticks_fsize, fontweight='normal')\n",
    "plt.xticks(fontsize=ticks_fsize,\n",
    "            fontweight='normal',\n",
    "            )\n",
    "plt.legend(loc='upper left',fontsize=legend_size,)\n",
    "\n",
    "cb = plt.colorbar(label='Emotions', ax=plt.gca())\n",
    "# cb.set_ticks([0,1,2,3,4,5,6])\n",
    "cb.set_ticklabels(['surprise', 'fear', 'angry', 'neutral', 'happy', 'sad', 'disgust'])\n",
    "# plt.legend(,\n",
    "            #    loc='upper left',\n",
    "            #    fontsize=legend_size,\n",
    "            #    )\n",
    "plt.show()\n",
    "\n",
    "\n",
    "\n"
   ]
  },
  {
   "cell_type": "code",
   "execution_count": null,
   "metadata": {},
   "outputs": [],
   "source": []
  },
  {
   "cell_type": "code",
   "execution_count": null,
   "metadata": {},
   "outputs": [],
   "source": []
  },
  {
   "cell_type": "code",
   "execution_count": null,
   "metadata": {},
   "outputs": [],
   "source": []
  },
  {
   "cell_type": "code",
   "execution_count": null,
   "metadata": {},
   "outputs": [],
   "source": []
  },
  {
   "cell_type": "code",
   "execution_count": null,
   "metadata": {},
   "outputs": [],
   "source": []
  },
  {
   "cell_type": "code",
   "execution_count": null,
   "metadata": {},
   "outputs": [],
   "source": []
  },
  {
   "cell_type": "code",
   "execution_count": null,
   "metadata": {},
   "outputs": [],
   "source": []
  },
  {
   "cell_type": "code",
   "execution_count": null,
   "metadata": {},
   "outputs": [],
   "source": [
    "# refer : IAPS affective rating\n",
    "\n",
    "color_palette = sns.color_palette(\"Paired\")\n",
    "label_fsize = 20\n",
    "ticks_fsize = 12\n",
    "legend_size = 10\n",
    "\n",
    "plt.figure(figsize=(7,7))\n",
    "\n",
    "\n",
    "plt.scatter(df['arousal'], df['valence'],\n",
    "            # color=[f'C{int(i)}' for i in df['emotion']],\n",
    "            color=[color_palette[int(i)] for i in df['emotion']],\n",
    "            # edgecolors='black',linewidth=1,\n",
    "            # label=df['emotion'],\n",
    "            # label=[f'{emotion_r.get(i)}' for i in df['emotion']],\n",
    "            alpha=0.4)\n",
    "\n",
    "\n",
    "# plt.plot([1.3,4.7],[1,5.2],label='Appetitive Motivation', alpha=0.9,color='red')\n",
    "plt.arrow(1.3, 1, 3.2,4, width = 0.05 ,label='Appetitive Motivation', alpha=0.6,color='red')\n",
    "# plt.plot([2,5.2],[3,1],label='Appetitive Motivation', alpha=0.7,color='green')\n",
    "plt.arrow(2, 3,   3, -2.1,width = 0.05 ,label='Defensive Motivation', alpha=0.6,color='green')\n",
    "# plt.plot(x,z,label='z=3x')\n",
    "# plt.legend(bbox_to_anchor=(1,1))\n",
    "\n",
    "# [ 출처: https://seong6496.tistory.com/ ]\n",
    "\n",
    "\n",
    "\n",
    "plt.xlabel('Arousal', fontweight='bold', fontsize=label_fsize)\n",
    "plt.ylabel('Valence', fontweight='bold', fontsize=label_fsize)\n",
    "plt.xlim(1,5.3)\n",
    "plt.ylim(0.7,5.3)\n",
    "plt.grid(True)\n",
    "plt.yticks(fontsize=ticks_fsize, fontweight='normal')\n",
    "plt.xticks(fontsize=ticks_fsize,\n",
    "            fontweight='normal',\n",
    "            )\n",
    "plt.legend(loc='upper left',fontsize=legend_size,)\n",
    "\n",
    "\n",
    "\n",
    "from matplotlib.colors import ListedColormap\n",
    "# cmap = \n",
    "# cmap = ListedColormap(sns.color_palette(\"Paired\"))\n",
    "plt.colorbar(label='Emotions', ax=plt.gca())\n",
    "\n",
    "# cb = plt.colorbar(label='Emotions', ax=plt.gca())\n",
    "\n",
    "# cb.set_ticks([0,1,2,3,4,5,6])\n",
    "# cb.set_ticklabels(, ,['surprise', 'fear', 'angry', 'neutral', 'happy', 'sad', 'disgust'])\n",
    "# plt.legend(,\n",
    "            #    loc='upper left',\n",
    "            #    fontsize=legend_size,\n",
    "            #    )\n",
    "plt.show()\n"
   ]
  },
  {
   "cell_type": "code",
   "execution_count": null,
   "metadata": {},
   "outputs": [],
   "source": [
    "color_palette"
   ]
  },
  {
   "cell_type": "code",
   "execution_count": null,
   "metadata": {},
   "outputs": [],
   "source": [
    "from matplotlib.colors import ListedColormap\n",
    "\n",
    "cb = fig.colorbar(cmap, label='Emotions')\n",
    "cb.set_ticks([0,1,2,3,4,5,6])\n",
    "# cb.set_ticklabels(['surprise', 'fear', 'angry', 'neutral', 'happy', 'sad', 'disgust'])\n"
   ]
  },
  {
   "cell_type": "code",
   "execution_count": null,
   "metadata": {},
   "outputs": [],
   "source": []
  },
  {
   "cell_type": "code",
   "execution_count": null,
   "metadata": {},
   "outputs": [],
   "source": [
    "# for idx, row in df.iterrows():\n",
    "#     # print(row[2])\n",
    "#     plt.scatter(row.valence, row.arousal, color='C{}'.format(int(row.emotion)))"
   ]
  },
  {
   "cell_type": "code",
   "execution_count": null,
   "metadata": {},
   "outputs": [],
   "source": [
    "color_palette"
   ]
  },
  {
   "cell_type": "code",
   "execution_count": null,
   "metadata": {},
   "outputs": [],
   "source": []
  },
  {
   "cell_type": "code",
   "execution_count": null,
   "metadata": {},
   "outputs": [],
   "source": []
  }
 ],
 "metadata": {
  "kernelspec": {
   "display_name": "etri-erc",
   "language": "python",
   "name": "python3"
  },
  "language_info": {
   "codemirror_mode": {
    "name": "ipython",
    "version": 3
   },
   "file_extension": ".py",
   "mimetype": "text/x-python",
   "name": "python",
   "nbconvert_exporter": "python",
   "pygments_lexer": "ipython3",
   "version": "3.10.9"
  },
  "orig_nbformat": 4,
  "vscode": {
   "interpreter": {
    "hash": "d91dba4ef89c422bc4f5a90183fbfeb50a0fdb361fb291167f0137a8b87ec3ad"
   }
  }
 },
 "nbformat": 4,
 "nbformat_minor": 2
}
