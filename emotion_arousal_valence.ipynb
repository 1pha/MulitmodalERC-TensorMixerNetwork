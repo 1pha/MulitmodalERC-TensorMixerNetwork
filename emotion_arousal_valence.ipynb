{
 "cells": [
  {
   "cell_type": "code",
   "execution_count": 4,
   "metadata": {},
   "outputs": [],
   "source": [
    "import logging\n",
    "import hydra\n",
    "import pandas as pd\n",
    "\n",
    "from collections import defaultdict\n",
    "from tqdm import tqdm \n",
    "\n",
    "import matplotlib.pyplot as plt\n",
    "import seaborn as sns\n",
    "from matplotlib import colormaps\n",
    "import matplotlib.cm as cm\n",
    "import matplotlib as mpl\n",
    "from matplotlib.patches import Ellipse\n",
    "\n",
    "from erc import drawing_ellipse, split_df_by_gender"
   ]
  },
  {
   "cell_type": "code",
   "execution_count": 6,
   "metadata": {},
   "outputs": [
    {
     "name": "stderr",
     "output_type": "stream",
     "text": [
      "INFO:erc.utils:Instantiate KEMDy19 Dataset\n",
      "INFO:erc.utils:Instantiate KEMDy20 Dataset\n"
     ]
    }
   ],
   "source": [
    "\n",
    "logger = logging.getLogger(__name__)\n",
    "logger.setLevel(logging.INFO)\n",
    "\n",
    "with hydra.initialize(version_base=None, config_path=\"./config\"):\n",
    "    cfg = hydra.compose(config_name=\"config\")\n",
    "dataset = hydra.utils.instantiate(cfg.dataset)\n"
   ]
  },
  {
   "attachments": {},
   "cell_type": "markdown",
   "metadata": {},
   "source": [
    "## Emotion EDA"
   ]
  },
  {
   "cell_type": "code",
   "execution_count": null,
   "metadata": {},
   "outputs": [],
   "source": [
    "# Emotion dataframe \n",
    "eva_dict = defaultdict(list)\n",
    "for sample in tqdm(dataset):\n",
    "    for key_ in ['emotion','valence','arousal','gender']:\n",
    "        if (sample.get(key_) == None):\n",
    "            pass\n",
    "        else:    \n",
    "            eva_dict[key_].append(sample.get(key_).item())\n",
    "            \n",
    "df = pd.DataFrame(eva_dict)\n",
    "df = df[df['emotion']!=0]\n",
    "\n"
   ]
  },
  {
   "cell_type": "code",
   "execution_count": null,
   "metadata": {},
   "outputs": [],
   "source": [
    "# 성별 \n",
    "print('Male: {:04d}, Female: {:04d}'.format(*df['gender'].value_counts().values))\n",
    "\n",
    "# Valence min-max \n",
    "for key in ['valence','arousal']:\n",
    "    print(f'{key}: \\n\\tMin: {min(df[key]):.2f}\\n\\tMax: {max(df[key]):.2f}')\n",
    "\n"
   ]
  },
  {
   "cell_type": "code",
   "execution_count": null,
   "metadata": {},
   "outputs": [],
   "source": [
    "total_dict=split_df_by_gender(df)\n",
    "male_dict, female_dict = split_df_by_gender(df, total=False)\n"
   ]
  },
  {
   "cell_type": "code",
   "execution_count": null,
   "metadata": {},
   "outputs": [],
   "source": [
    "drawing_ellipse(total_dict)"
   ]
  },
  {
   "cell_type": "code",
   "execution_count": null,
   "metadata": {},
   "outputs": [],
   "source": [
    "drawing_ellipse(male_dict, title='Ellipse Sampling (Male)')\n"
   ]
  },
  {
   "cell_type": "code",
   "execution_count": null,
   "metadata": {},
   "outputs": [],
   "source": [
    "drawing_ellipse(female_dict, title='Ellipse Sampling (Female)')"
   ]
  },
  {
   "cell_type": "code",
   "execution_count": null,
   "metadata": {},
   "outputs": [],
   "source": [
    "\n",
    "# refer : IAPS affective rating\n",
    "\n",
    "\n",
    "color_palette   = mpl.colormaps['viridis']\n",
    "# cmap = cm.bwr ## 또는 plt.cm.get_cmap('bwr')\n",
    "vmax = 6\n",
    "vmin = 0\n",
    "norm = mpl.colors.Normalize(vmin=vmin, vmax=vmax)\n",
    "colormapping = cm.ScalarMappable(norm=norm, cmap=color_palette)\n",
    "\n",
    "\n",
    "sns_palette = sns.color_palette('Set3')\n",
    "\n",
    "label_fsize = 20\n",
    "ticks_fsize = 12\n",
    "legend_size = 10\n",
    "\n",
    "plt.figure(figsize=(7,7))\n",
    "plt.scatter(df['arousal'], df['valence'],\n",
    "            color=[sns_palette[int(i)] for i in df['emotion']],\n",
    "            # cmap = colormapping,\n",
    "            alpha=0.4)\n",
    "\n",
    "\n",
    "plt.arrow(1.3, 1, 3.2,4, width = 0.05 ,label='Appetitive Motivation', alpha=0.6,color='red')\n",
    "plt.arrow(2, 3,   3, -2.1,width = 0.05 ,label='Defensive Motivation', alpha=0.6,color='blue')\n",
    "\n",
    "\n",
    "\n",
    "\n",
    "plt.xlabel('Arousal', fontweight='bold', fontsize=label_fsize)\n",
    "plt.ylabel('Valence', fontweight='bold', fontsize=label_fsize)\n",
    "plt.xlim(1,5.3)\n",
    "plt.ylim(0.7,5.3)\n",
    "plt.grid(True)\n",
    "plt.yticks(fontsize=ticks_fsize, fontweight='normal')\n",
    "plt.xticks(fontsize=ticks_fsize,\n",
    "            fontweight='normal',\n",
    "            )\n",
    "plt.legend(loc='upper left',fontsize=legend_size,)\n",
    "\n",
    "cb = plt.colorbar(label='Emotions', ax=plt.gca())\n",
    "# cb.set_ticks([0,1,2,3,4,5,6])\n",
    "cb.set_ticklabels(['surprise', 'fear', 'angry', 'neutral', 'happy', 'sad', 'disgust'])\n",
    "# plt.legend(,\n",
    "            #    loc='upper left',\n",
    "            #    fontsize=legend_size,\n",
    "            #    )\n",
    "plt.show()"
   ]
  },
  {
   "cell_type": "code",
   "execution_count": null,
   "metadata": {},
   "outputs": [],
   "source": []
  },
  {
   "cell_type": "code",
   "execution_count": null,
   "metadata": {},
   "outputs": [],
   "source": []
  },
  {
   "cell_type": "code",
   "execution_count": null,
   "metadata": {},
   "outputs": [],
   "source": []
  },
  {
   "cell_type": "code",
   "execution_count": null,
   "metadata": {},
   "outputs": [],
   "source": []
  },
  {
   "cell_type": "code",
   "execution_count": null,
   "metadata": {},
   "outputs": [],
   "source": []
  },
  {
   "cell_type": "code",
   "execution_count": null,
   "metadata": {},
   "outputs": [],
   "source": [
    "# refer : IAPS affective rating\n",
    "\n",
    "color_palette = sns.color_palette(\"Paired\")\n",
    "label_fsize = 20\n",
    "ticks_fsize = 12\n",
    "legend_size = 10\n",
    "\n",
    "plt.figure(figsize=(7,7))\n",
    "\n",
    "\n",
    "plt.scatter(df['arousal'], df['valence'],\n",
    "            # color=[f'C{int(i)}' for i in df['emotion']],\n",
    "            color=[color_palette[int(i)] for i in df['emotion']],\n",
    "            # edgecolors='black',linewidth=1,\n",
    "            # label=df['emotion'],\n",
    "            # label=[f'{emotion_r.get(i)}' for i in df['emotion']],\n",
    "            alpha=0.4)\n",
    "\n",
    "\n",
    "# plt.plot([1.3,4.7],[1,5.2],label='Appetitive Motivation', alpha=0.9,color='red')\n",
    "plt.arrow(1.3, 1, 3.2,4, width = 0.05 ,label='Appetitive Motivation', alpha=0.6,color='red')\n",
    "# plt.plot([2,5.2],[3,1],label='Appetitive Motivation', alpha=0.7,color='green')\n",
    "plt.arrow(2, 3,   3, -2.1,width = 0.05 ,label='Defensive Motivation', alpha=0.6,color='green')\n",
    "# plt.plot(x,z,label='z=3x')\n",
    "# plt.legend(bbox_to_anchor=(1,1))\n",
    "\n",
    "# [ 출처: https://seong6496.tistory.com/ ]\n",
    "\n",
    "\n",
    "\n",
    "plt.xlabel('Arousal', fontweight='bold', fontsize=label_fsize)\n",
    "plt.ylabel('Valence', fontweight='bold', fontsize=label_fsize)\n",
    "plt.xlim(1,5.3)\n",
    "plt.ylim(0.7,5.3)\n",
    "plt.grid(True)\n",
    "plt.yticks(fontsize=ticks_fsize, fontweight='normal')\n",
    "plt.xticks(fontsize=ticks_fsize,\n",
    "            fontweight='normal',\n",
    "            )\n",
    "plt.legend(loc='upper left',fontsize=legend_size,)\n",
    "\n",
    "\n",
    "\n",
    "from matplotlib.colors import ListedColormap\n",
    "# cmap = \n",
    "# cmap = ListedColormap(sns.color_palette(\"Paired\"))\n",
    "plt.colorbar(label='Emotions', ax=plt.gca())\n",
    "\n",
    "# cb = plt.colorbar(label='Emotions', ax=plt.gca())\n",
    "\n",
    "# cb.set_ticks([0,1,2,3,4,5,6])\n",
    "# cb.set_ticklabels(, ,['surprise', 'fear', 'angry', 'neutral', 'happy', 'sad', 'disgust'])\n",
    "# plt.legend(,\n",
    "            #    loc='upper left',\n",
    "            #    fontsize=legend_size,\n",
    "            #    )\n",
    "plt.show()\n"
   ]
  }
 ],
 "metadata": {
  "kernelspec": {
   "display_name": "etri-erc",
   "language": "python",
   "name": "python3"
  },
  "language_info": {
   "codemirror_mode": {
    "name": "ipython",
    "version": 3
   },
   "file_extension": ".py",
   "mimetype": "text/x-python",
   "name": "python",
   "nbconvert_exporter": "python",
   "pygments_lexer": "ipython3",
   "version": "3.10.9"
  },
  "orig_nbformat": 4,
  "vscode": {
   "interpreter": {
    "hash": "d91dba4ef89c422bc4f5a90183fbfeb50a0fdb361fb291167f0137a8b87ec3ad"
   }
  }
 },
 "nbformat": 4,
 "nbformat_minor": 2
}
