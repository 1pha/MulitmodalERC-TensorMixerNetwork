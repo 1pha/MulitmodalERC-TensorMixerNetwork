{
 "cells": [
  {
   "cell_type": "code",
   "execution_count": 1,
   "metadata": {},
   "outputs": [],
   "source": [
    "import logging\n",
    "\n",
    "import hydra\n",
    "\n",
    "logger = logging.getLogger(__name__)\n",
    "logger.setLevel(logging.INFO)\n",
    "\n",
    "with hydra.initialize(version_base=None, config_path=\"./config\"):\n",
    "    cfg = hydra.compose(config_name=\"config\", overrides={\"dataset.generate_csv=True\"})\n",
    "dataset = hydra.utils.instantiate(cfg.dataset)\n"
   ]
  },
  {
   "cell_type": "code",
   "execution_count": 3,
   "metadata": {},
   "outputs": [
    {
     "data": {
      "text/plain": [
       "{'sampling_rate': 16000,\n",
       " 'wav': array([ 15,   5,  10, ..., 109, 102,  99], dtype=int16),\n",
       " 'txt': ['어 저 지그 지금 사람 친 거야? 지금 사람 친 거 맞지? 그치?\\n'],\n",
       " 'ecg': tensor(0.0090),\n",
       " 'e4-eda': tensor(4.5302),\n",
       " 'e4-temp': tensor(34.6250),\n",
       " 'emotion': tensor(1),\n",
       " 'valence': tensor(1.7000),\n",
       " 'arousal': tensor(4.)}"
      ]
     },
     "execution_count": 3,
     "metadata": {},
     "output_type": "execute_result"
    }
   ],
   "source": [
    "dataset[0]"
   ]
  },
  {
   "cell_type": "code",
   "execution_count": 4,
   "metadata": {},
   "outputs": [
    {
     "data": {
      "text/plain": [
       "10128"
      ]
     },
     "execution_count": 4,
     "metadata": {},
     "output_type": "execute_result"
    }
   ],
   "source": [
    "len(dataset)"
   ]
  },
  {
   "cell_type": "code",
   "execution_count": null,
   "metadata": {},
   "outputs": [],
   "source": [
    "emotion = {\n",
    "    \"surprise\": 1,\n",
    "    \"fear\": 2,\n",
    "    \"angry\": 3,\n",
    "    \"neutral\": 4,\n",
    "    \"happy\": 5,\n",
    "    \"sad\": 6,\n",
    "    \"disgust\": 7,\n",
    "}.keys()"
   ]
  },
  {
   "cell_type": "code",
   "execution_count": 11,
   "metadata": {},
   "outputs": [],
   "source": []
  },
  {
   "cell_type": "code",
   "execution_count": 13,
   "metadata": {},
   "outputs": [],
   "source": [
    "eva_dict['happy'].append(1)"
   ]
  },
  {
   "cell_type": "code",
   "execution_count": null,
   "metadata": {},
   "outputs": [],
   "source": []
  },
  {
   "cell_type": "code",
   "execution_count": 19,
   "metadata": {},
   "outputs": [
    {
     "name": "stderr",
     "output_type": "stream",
     "text": [
      " 11%|█         | 1090/10128 [00:01<00:15, 587.67it/s]\n"
     ]
    },
    {
     "ename": "AssertionError",
     "evalue": "data/KEMDy19/wav/Session03/Sess03_script04/Sess03_script04_M016.txt does not exist.",
     "output_type": "error",
     "traceback": [
      "\u001b[0;31m---------------------------------------------------------------------------\u001b[0m",
      "\u001b[0;31mAssertionError\u001b[0m                            Traceback (most recent call last)",
      "Cell \u001b[0;32mIn[19], line 8\u001b[0m\n\u001b[1;32m      5\u001b[0m eva_dict \u001b[39m=\u001b[39m defaultdict(\u001b[39mlist\u001b[39m)\n\u001b[1;32m      6\u001b[0m choice_key \u001b[39m=\u001b[39m [\u001b[39m'\u001b[39m\u001b[39memotion\u001b[39m\u001b[39m'\u001b[39m,\u001b[39m'\u001b[39m\u001b[39mvalence\u001b[39m\u001b[39m'\u001b[39m,\u001b[39m'\u001b[39m\u001b[39marousal\u001b[39m\u001b[39m'\u001b[39m]\n\u001b[0;32m----> 8\u001b[0m \u001b[39mfor\u001b[39;00m sample \u001b[39min\u001b[39;00m tqdm(dataset):\n\u001b[1;32m      9\u001b[0m     \u001b[39mfor\u001b[39;00m key_ \u001b[39min\u001b[39;00m choice_key:\n\u001b[1;32m     10\u001b[0m         eva_dict[key_]\u001b[39m.\u001b[39mappend(sample\u001b[39m.\u001b[39mget(key_)\u001b[39m.\u001b[39mitem())\n",
      "File \u001b[0;32m~/.conda/envs/etri-erc/lib/python3.10/site-packages/tqdm/std.py:1178\u001b[0m, in \u001b[0;36mtqdm.__iter__\u001b[0;34m(self)\u001b[0m\n\u001b[1;32m   1175\u001b[0m time \u001b[39m=\u001b[39m \u001b[39mself\u001b[39m\u001b[39m.\u001b[39m_time\n\u001b[1;32m   1177\u001b[0m \u001b[39mtry\u001b[39;00m:\n\u001b[0;32m-> 1178\u001b[0m     \u001b[39mfor\u001b[39;00m obj \u001b[39min\u001b[39;00m iterable:\n\u001b[1;32m   1179\u001b[0m         \u001b[39myield\u001b[39;00m obj\n\u001b[1;32m   1180\u001b[0m         \u001b[39m# Update and possibly print the progressbar.\u001b[39;00m\n\u001b[1;32m   1181\u001b[0m         \u001b[39m# Note: does not call self.update(1) for speed optimisation.\u001b[39;00m\n",
      "File \u001b[0;32m~/etri-erc/erc/datasets.py:71\u001b[0m, in \u001b[0;36mKEMDy19Dataset.__getitem__\u001b[0;34m(self, idx)\u001b[0m\n\u001b[1;32m     69\u001b[0m \u001b[39m# Txt File\u001b[39;00m\n\u001b[1;32m     70\u001b[0m txt_path \u001b[39m=\u001b[39m wav_prefix \u001b[39m/\u001b[39m \u001b[39mf\u001b[39m\u001b[39m\"\u001b[39m\u001b[39m{\u001b[39;00msegment_id\u001b[39m}\u001b[39;00m\u001b[39m.txt\u001b[39m\u001b[39m\"\u001b[39m\n\u001b[0;32m---> 71\u001b[0m data[\u001b[39m\"\u001b[39m\u001b[39mtxt\u001b[39m\u001b[39m\"\u001b[39m] \u001b[39m=\u001b[39m \u001b[39mself\u001b[39;49m\u001b[39m.\u001b[39;49mget_txt(txt_path\u001b[39m=\u001b[39;49mtxt_path)\n\u001b[1;32m     73\u001b[0m \u001b[39m# Bio Signals\u001b[39;00m\n\u001b[1;32m     74\u001b[0m \u001b[39m# Currently returns average\u001b[39;00m\n\u001b[1;32m     75\u001b[0m \u001b[39mif\u001b[39;00m \u001b[39mself\u001b[39m\u001b[39m.\u001b[39mreturn_full_bio:\n\u001b[1;32m     76\u001b[0m     \u001b[39m# Contains full eda\u001b[39;00m\n\u001b[1;32m     77\u001b[0m     \u001b[39m# TODO WIP\u001b[39;00m\n",
      "File \u001b[0;32m~/etri-erc/erc/datasets.py:110\u001b[0m, in \u001b[0;36mKEMDy19Dataset.get_txt\u001b[0;34m(self, txt_path)\u001b[0m\n\u001b[1;32m    103\u001b[0m \u001b[39mdef\u001b[39;00m \u001b[39mget_txt\u001b[39m(\u001b[39mself\u001b[39m, txt_path: Path \u001b[39m|\u001b[39m \u001b[39mstr\u001b[39m) \u001b[39m-\u001b[39m\u001b[39m>\u001b[39m torch\u001b[39m.\u001b[39mTensor:\n\u001b[1;32m    104\u001b[0m \u001b[39m    \u001b[39m\u001b[39m\"\"\" Get output feature vector from pre-trained txt model\u001b[39;00m\n\u001b[1;32m    105\u001b[0m \u001b[39m    TODO:\u001b[39;00m\n\u001b[1;32m    106\u001b[0m \u001b[39m        1. How to process special cases: /o /l \u001b[39;00m\n\u001b[1;32m    107\u001b[0m \u001b[39m            -> They _maybe_ processed by pre-trained toeknizers\u001b[39;00m\n\u001b[1;32m    108\u001b[0m \u001b[39m        2. Which model to use\u001b[39;00m\n\u001b[1;32m    109\u001b[0m \u001b[39m    \"\"\"\u001b[39;00m\n\u001b[0;32m--> 110\u001b[0m     txt_path \u001b[39m=\u001b[39m check_exists(txt_path)\n\u001b[1;32m    111\u001b[0m     \u001b[39mwith\u001b[39;00m \u001b[39mopen\u001b[39m(txt_path, mode\u001b[39m=\u001b[39m\u001b[39m\"\u001b[39m\u001b[39mr\u001b[39m\u001b[39m\"\u001b[39m) \u001b[39mas\u001b[39;00m f:\n\u001b[1;32m    112\u001b[0m         txt \u001b[39m=\u001b[39m f\u001b[39m.\u001b[39mreadlines()\n",
      "File \u001b[0;32m~/etri-erc/erc/utils.py:8\u001b[0m, in \u001b[0;36mcheck_exists\u001b[0;34m(path)\u001b[0m\n\u001b[1;32m      7\u001b[0m \u001b[39mdef\u001b[39;00m \u001b[39mcheck_exists\u001b[39m(path: \u001b[39mstr\u001b[39m \u001b[39m|\u001b[39m Path) \u001b[39m-\u001b[39m\u001b[39m>\u001b[39m \u001b[39mstr\u001b[39m \u001b[39m|\u001b[39m Path:\n\u001b[0;32m----> 8\u001b[0m     \u001b[39massert\u001b[39;00m os\u001b[39m.\u001b[39mpath\u001b[39m.\u001b[39mexists(path), \u001b[39mf\u001b[39m\u001b[39m\"\u001b[39m\u001b[39m{\u001b[39;00mpath\u001b[39m}\u001b[39;00m\u001b[39m does not exist.\u001b[39m\u001b[39m\"\u001b[39m\n\u001b[1;32m      9\u001b[0m     \u001b[39mreturn\u001b[39;00m path\n",
      "\u001b[0;31mAssertionError\u001b[0m: data/KEMDy19/wav/Session03/Sess03_script04/Sess03_script04_M016.txt does not exist."
     ]
    }
   ],
   "source": [
    "from collections import defaultdict\n",
    "from tqdm import tqdm \n",
    "\n",
    "\n",
    "eva_dict = defaultdict(list)\n",
    "choice_key = ['emotion','valence','arousal']\n",
    "\n",
    "for sample in tqdm(dataset):\n",
    "    for key_ in choice_key:\n",
    "        eva_dict[key_].append(sample.get(key_).item())\n",
    "    # print(sample)\n",
    "    # break"
   ]
  },
  {
   "cell_type": "code",
   "execution_count": 18,
   "metadata": {},
   "outputs": [
    {
     "data": {
      "text/plain": [
       "defaultdict(list,\n",
       "            {'emotion': [1],\n",
       "             'valence': [1.7000000476837158],\n",
       "             'arousal': [4.0]})"
      ]
     },
     "execution_count": 18,
     "metadata": {},
     "output_type": "execute_result"
    }
   ],
   "source": [
    "eva_dict"
   ]
  },
  {
   "cell_type": "code",
   "execution_count": 15,
   "metadata": {},
   "outputs": [
    {
     "data": {
      "text/plain": [
       "1"
      ]
     },
     "execution_count": 15,
     "metadata": {},
     "output_type": "execute_result"
    }
   ],
   "source": [
    "dataset[0].get(\"emotion\").item()"
   ]
  },
  {
   "cell_type": "code",
   "execution_count": null,
   "metadata": {},
   "outputs": [],
   "source": [
    "\n"
   ]
  },
  {
   "cell_type": "code",
   "execution_count": null,
   "metadata": {},
   "outputs": [],
   "source": [
    "import matplotlib.pyplot as plt \n",
    "from matplotlib import cm\n",
    "\n",
    "\n",
    "COLOR_MAP  = cm.get_cmap('inferno', 7)  # visualize with the colormaps / option 'inferno' 'set3'ArithmeticError\n"
   ]
  },
  {
   "cell_type": "code",
   "execution_count": null,
   "metadata": {},
   "outputs": [],
   "source": []
  }
 ],
 "metadata": {
  "kernelspec": {
   "display_name": "etri-erc",
   "language": "python",
   "name": "python3"
  },
  "language_info": {
   "codemirror_mode": {
    "name": "ipython",
    "version": 3
   },
   "file_extension": ".py",
   "mimetype": "text/x-python",
   "name": "python",
   "nbconvert_exporter": "python",
   "pygments_lexer": "ipython3",
   "version": "3.10.9"
  },
  "orig_nbformat": 4,
  "vscode": {
   "interpreter": {
    "hash": "d91dba4ef89c422bc4f5a90183fbfeb50a0fdb361fb291167f0137a8b87ec3ad"
   }
  }
 },
 "nbformat": 4,
 "nbformat_minor": 2
}
